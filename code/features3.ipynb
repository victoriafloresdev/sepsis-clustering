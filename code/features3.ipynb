{
 "cells": [
  {
   "cell_type": "code",
   "execution_count": 1,
   "metadata": {},
   "outputs": [],
   "source": [
    "import pandas as pd\n",
    "import matplotlib.pyplot as plt\n",
    "import numpy as np\n",
    "from IPython.display import display"
   ]
  },
  {
   "cell_type": "code",
   "execution_count": 2,
   "metadata": {},
   "outputs": [],
   "source": [
    "\n",
    "URL_BASES = \"/scratch2/haniel.botelho/eICU/\"\n",
    "patient = \"patient.csv\"\n",
    "physicalExam = \"physicalExam.csv\"\n",
    "lab = \"lab.csv\"\n",
    "infusionDrug = \"infusionDrug.csv\"\n",
    "diagnosis = \"diagnosis.csv\"\n",
    "\n",
    "url_patient = URL_BASES + patient\n",
    "url_physicalExam = URL_BASES + physicalExam\n",
    "url_lab = URL_BASES + lab\n",
    "url_infusionDrug = URL_BASES + infusionDrug\n",
    "url_diagnosis = URL_BASES + diagnosis\n"
   ]
  },
  {
   "cell_type": "code",
   "execution_count": 3,
   "metadata": {},
   "outputs": [],
   "source": [
    "df_patient = pd.read_csv(url_patient)"
   ]
  },
  {
   "cell_type": "code",
   "execution_count": 4,
   "metadata": {},
   "outputs": [],
   "source": [
    "df_sepsis = df_patient[df_patient['apacheadmissiondx'].str.contains('sepsis', case=False, na=False)]"
   ]
  },
  {
   "cell_type": "code",
   "execution_count": 5,
   "metadata": {},
   "outputs": [
    {
     "data": {
      "text/plain": [
       "patientunitstayid            23136\n",
       "patienthealthsystemstayid    23136\n",
       "gender                       23131\n",
       "age                          23136\n",
       "ethnicity                    22931\n",
       "hospitalid                   23136\n",
       "wardid                       23136\n",
       "apacheadmissiondx            23136\n",
       "admissionheight              22900\n",
       "hospitaladmittime24          23136\n",
       "hospitaladmitoffset          23136\n",
       "hospitaladmitsource          15981\n",
       "hospitaldischargeyear        23136\n",
       "hospitaldischargetime24      23136\n",
       "hospitaldischargeoffset      23136\n",
       "hospitaldischargelocation    22838\n",
       "hospitaldischargestatus      22868\n",
       "unittype                     23136\n",
       "unitadmittime24              23136\n",
       "unitadmitsource              23100\n",
       "unitvisitnumber              23136\n",
       "unitstaytype                 23136\n",
       "admissionweight              22492\n",
       "dischargeweight              13222\n",
       "unitdischargetime24          23136\n",
       "unitdischargeoffset          23136\n",
       "unitdischargelocation        23107\n",
       "unitdischargestatus          23132\n",
       "uniquepid                    23136\n",
       "dtype: int64"
      ]
     },
     "execution_count": 5,
     "metadata": {},
     "output_type": "execute_result"
    }
   ],
   "source": [
    "df_sepsis.count()"
   ]
  },
  {
   "cell_type": "markdown",
   "metadata": {},
   "source": [
    "##### contagem"
   ]
  },
  {
   "cell_type": "code",
   "execution_count": 6,
   "metadata": {},
   "outputs": [
    {
     "data": {
      "text/html": [
       "<div>\n",
       "<style scoped>\n",
       "    .dataframe tbody tr th:only-of-type {\n",
       "        vertical-align: middle;\n",
       "    }\n",
       "\n",
       "    .dataframe tbody tr th {\n",
       "        vertical-align: top;\n",
       "    }\n",
       "\n",
       "    .dataframe thead th {\n",
       "        text-align: right;\n",
       "    }\n",
       "</style>\n",
       "<table border=\"1\" class=\"dataframe\">\n",
       "  <thead>\n",
       "    <tr style=\"text-align: right;\">\n",
       "      <th></th>\n",
       "      <th>uniquepid</th>\n",
       "      <th>patienthealthsystemstayid</th>\n",
       "      <th>Contagem_health_sepsis</th>\n",
       "    </tr>\n",
       "  </thead>\n",
       "  <tbody>\n",
       "    <tr>\n",
       "      <th>5063</th>\n",
       "      <td>006-28373</td>\n",
       "      <td>570538</td>\n",
       "      <td>5</td>\n",
       "    </tr>\n",
       "    <tr>\n",
       "      <th>5812</th>\n",
       "      <td>006-92708</td>\n",
       "      <td>625059</td>\n",
       "      <td>4</td>\n",
       "    </tr>\n",
       "    <tr>\n",
       "      <th>5744</th>\n",
       "      <td>006-88120</td>\n",
       "      <td>557301</td>\n",
       "      <td>4</td>\n",
       "    </tr>\n",
       "    <tr>\n",
       "      <th>8600</th>\n",
       "      <td>013-33039</td>\n",
       "      <td>1009398</td>\n",
       "      <td>4</td>\n",
       "    </tr>\n",
       "    <tr>\n",
       "      <th>10901</th>\n",
       "      <td>018-106918</td>\n",
       "      <td>1394663</td>\n",
       "      <td>4</td>\n",
       "    </tr>\n",
       "  </tbody>\n",
       "</table>\n",
       "</div>"
      ],
      "text/plain": [
       "        uniquepid  patienthealthsystemstayid  Contagem_health_sepsis\n",
       "5063    006-28373                     570538                       5\n",
       "5812    006-92708                     625059                       4\n",
       "5744    006-88120                     557301                       4\n",
       "8600    013-33039                    1009398                       4\n",
       "10901  018-106918                    1394663                       4"
      ]
     },
     "execution_count": 6,
     "metadata": {},
     "output_type": "execute_result"
    }
   ],
   "source": [
    "contagem_por_health_sepsis = df_sepsis.groupby(['uniquepid','patienthealthsystemstayid']).size().reset_index(name='Contagem_health_sepsis')\n",
    "contagem_por_health_sepsis.sort_values(by='Contagem_health_sepsis',ascending=False).head()"
   ]
  },
  {
   "cell_type": "code",
   "execution_count": 7,
   "metadata": {},
   "outputs": [
    {
     "data": {
      "text/html": [
       "<div>\n",
       "<style scoped>\n",
       "    .dataframe tbody tr th:only-of-type {\n",
       "        vertical-align: middle;\n",
       "    }\n",
       "\n",
       "    .dataframe tbody tr th {\n",
       "        vertical-align: top;\n",
       "    }\n",
       "\n",
       "    .dataframe thead th {\n",
       "        text-align: right;\n",
       "    }\n",
       "</style>\n",
       "<table border=\"1\" class=\"dataframe\">\n",
       "  <thead>\n",
       "    <tr style=\"text-align: right;\">\n",
       "      <th></th>\n",
       "      <th>uniquepid</th>\n",
       "      <th>Contagem_patient_sepsis</th>\n",
       "    </tr>\n",
       "  </thead>\n",
       "  <tbody>\n",
       "    <tr>\n",
       "      <th>11179</th>\n",
       "      <td>018-63568</td>\n",
       "      <td>9</td>\n",
       "    </tr>\n",
       "    <tr>\n",
       "      <th>1479</th>\n",
       "      <td>003-37082</td>\n",
       "      <td>8</td>\n",
       "    </tr>\n",
       "    <tr>\n",
       "      <th>1732</th>\n",
       "      <td>003-8066</td>\n",
       "      <td>7</td>\n",
       "    </tr>\n",
       "    <tr>\n",
       "      <th>7845</th>\n",
       "      <td>013-29123</td>\n",
       "      <td>7</td>\n",
       "    </tr>\n",
       "    <tr>\n",
       "      <th>4028</th>\n",
       "      <td>006-203779</td>\n",
       "      <td>7</td>\n",
       "    </tr>\n",
       "  </tbody>\n",
       "</table>\n",
       "</div>"
      ],
      "text/plain": [
       "        uniquepid  Contagem_patient_sepsis\n",
       "11179   018-63568                        9\n",
       "1479    003-37082                        8\n",
       "1732     003-8066                        7\n",
       "7845    013-29123                        7\n",
       "4028   006-203779                        7"
      ]
     },
     "execution_count": 7,
     "metadata": {},
     "output_type": "execute_result"
    }
   ],
   "source": [
    "contagem_por_patient_sepsis = df_sepsis.groupby(['uniquepid']).size().reset_index(name='Contagem_patient_sepsis')\n",
    "contagem_por_patient_sepsis.sort_values(by='Contagem_patient_sepsis',ascending=False).head()"
   ]
  },
  {
   "cell_type": "code",
   "execution_count": 8,
   "metadata": {},
   "outputs": [
    {
     "data": {
      "text/html": [
       "<div>\n",
       "<style scoped>\n",
       "    .dataframe tbody tr th:only-of-type {\n",
       "        vertical-align: middle;\n",
       "    }\n",
       "\n",
       "    .dataframe tbody tr th {\n",
       "        vertical-align: top;\n",
       "    }\n",
       "\n",
       "    .dataframe thead th {\n",
       "        text-align: right;\n",
       "    }\n",
       "</style>\n",
       "<table border=\"1\" class=\"dataframe\">\n",
       "  <thead>\n",
       "    <tr style=\"text-align: right;\">\n",
       "      <th></th>\n",
       "      <th>uniquepid</th>\n",
       "      <th>patienthealthsystemstayid</th>\n",
       "      <th>Contagem_health_sepsis</th>\n",
       "      <th>Contagem_patient_sepsis</th>\n",
       "    </tr>\n",
       "  </thead>\n",
       "  <tbody>\n",
       "    <tr>\n",
       "      <th>12308</th>\n",
       "      <td>018-63568</td>\n",
       "      <td>1374488</td>\n",
       "      <td>1</td>\n",
       "      <td>9</td>\n",
       "    </tr>\n",
       "    <tr>\n",
       "      <th>12307</th>\n",
       "      <td>018-63568</td>\n",
       "      <td>1348594</td>\n",
       "      <td>2</td>\n",
       "      <td>9</td>\n",
       "    </tr>\n",
       "    <tr>\n",
       "      <th>12311</th>\n",
       "      <td>018-63568</td>\n",
       "      <td>1422879</td>\n",
       "      <td>2</td>\n",
       "      <td>9</td>\n",
       "    </tr>\n",
       "    <tr>\n",
       "      <th>12310</th>\n",
       "      <td>018-63568</td>\n",
       "      <td>1403315</td>\n",
       "      <td>2</td>\n",
       "      <td>9</td>\n",
       "    </tr>\n",
       "    <tr>\n",
       "      <th>12309</th>\n",
       "      <td>018-63568</td>\n",
       "      <td>1389547</td>\n",
       "      <td>1</td>\n",
       "      <td>9</td>\n",
       "    </tr>\n",
       "    <tr>\n",
       "      <th>...</th>\n",
       "      <td>...</td>\n",
       "      <td>...</td>\n",
       "      <td>...</td>\n",
       "      <td>...</td>\n",
       "    </tr>\n",
       "    <tr>\n",
       "      <th>9982</th>\n",
       "      <td>016-35917</td>\n",
       "      <td>1214593</td>\n",
       "      <td>1</td>\n",
       "      <td>1</td>\n",
       "    </tr>\n",
       "    <tr>\n",
       "      <th>9983</th>\n",
       "      <td>016-36051</td>\n",
       "      <td>1217120</td>\n",
       "      <td>1</td>\n",
       "      <td>1</td>\n",
       "    </tr>\n",
       "    <tr>\n",
       "      <th>9984</th>\n",
       "      <td>016-36052</td>\n",
       "      <td>1228354</td>\n",
       "      <td>1</td>\n",
       "      <td>1</td>\n",
       "    </tr>\n",
       "    <tr>\n",
       "      <th>9985</th>\n",
       "      <td>016-36079</td>\n",
       "      <td>1213141</td>\n",
       "      <td>1</td>\n",
       "      <td>1</td>\n",
       "    </tr>\n",
       "    <tr>\n",
       "      <th>0</th>\n",
       "      <td>002-10052</td>\n",
       "      <td>137239</td>\n",
       "      <td>1</td>\n",
       "      <td>1</td>\n",
       "    </tr>\n",
       "  </tbody>\n",
       "</table>\n",
       "<p>22109 rows × 4 columns</p>\n",
       "</div>"
      ],
      "text/plain": [
       "       uniquepid  patienthealthsystemstayid  Contagem_health_sepsis  \\\n",
       "12308  018-63568                    1374488                       1   \n",
       "12307  018-63568                    1348594                       2   \n",
       "12311  018-63568                    1422879                       2   \n",
       "12310  018-63568                    1403315                       2   \n",
       "12309  018-63568                    1389547                       1   \n",
       "...          ...                        ...                     ...   \n",
       "9982   016-35917                    1214593                       1   \n",
       "9983   016-36051                    1217120                       1   \n",
       "9984   016-36052                    1228354                       1   \n",
       "9985   016-36079                    1213141                       1   \n",
       "0      002-10052                     137239                       1   \n",
       "\n",
       "       Contagem_patient_sepsis  \n",
       "12308                        9  \n",
       "12307                        9  \n",
       "12311                        9  \n",
       "12310                        9  \n",
       "12309                        9  \n",
       "...                        ...  \n",
       "9982                         1  \n",
       "9983                         1  \n",
       "9984                         1  \n",
       "9985                         1  \n",
       "0                            1  \n",
       "\n",
       "[22109 rows x 4 columns]"
      ]
     },
     "execution_count": 8,
     "metadata": {},
     "output_type": "execute_result"
    }
   ],
   "source": [
    "contagem = pd.merge(contagem_por_health_sepsis,contagem_por_patient_sepsis,on='uniquepid')\n",
    "contagem.sort_values(by='Contagem_patient_sepsis',ascending=False).head(300000)"
   ]
  },
  {
   "cell_type": "markdown",
   "metadata": {},
   "source": [
    "##### physical"
   ]
  },
  {
   "cell_type": "code",
   "execution_count": 9,
   "metadata": {},
   "outputs": [],
   "source": [
    "df_physicalExam = pd.read_csv(url_physicalExam)"
   ]
  },
  {
   "cell_type": "code",
   "execution_count": 10,
   "metadata": {},
   "outputs": [],
   "source": [
    "df_physicalExam_sepsis = pd.merge(df_sepsis['patientunitstayid'],df_physicalExam,on='patientunitstayid',how='left')"
   ]
  },
  {
   "cell_type": "code",
   "execution_count": 11,
   "metadata": {},
   "outputs": [
    {
     "data": {
      "text/plain": [
       "physicalexamid        9212316\n",
       "patientunitstayid     9212316\n",
       "physicalexamoffset    9212316\n",
       "physicalexampath      9212316\n",
       "physicalexamvalue     9212316\n",
       "physicalexamtext      9170989\n",
       "dtype: int64"
      ]
     },
     "execution_count": 11,
     "metadata": {},
     "output_type": "execute_result"
    }
   ],
   "source": [
    "df_physicalExam.count()"
   ]
  },
  {
   "cell_type": "code",
   "execution_count": 12,
   "metadata": {},
   "outputs": [
    {
     "data": {
      "text/plain": [
       "patientunitstayid     1329843\n",
       "physicalexamid        1329535\n",
       "physicalexamoffset    1329535\n",
       "physicalexampath      1329535\n",
       "physicalexamvalue     1329535\n",
       "physicalexamtext      1322111\n",
       "dtype: int64"
      ]
     },
     "execution_count": 12,
     "metadata": {},
     "output_type": "execute_result"
    }
   ],
   "source": [
    "df_physicalExam_sepsis.count()"
   ]
  },
  {
   "cell_type": "code",
   "execution_count": 13,
   "metadata": {},
   "outputs": [],
   "source": [
    "\n",
    "def filter_exam(df, exam_name):\n",
    "    return df[df['physicalexampath'].str.contains(exam_name, case=False, na=False)].copy()"
   ]
  },
  {
   "cell_type": "code",
   "execution_count": 19,
   "metadata": {},
   "outputs": [],
   "source": [
    "def histograma(intervalo,range_, filtro):\n",
    "    total_exam = []\n",
    "    df_filtrado = filter_exam(df_physicalExam_sepsis,filtro)\n",
    "    for i in range(range_):\n",
    "        total_exam_dia = df_filtrado[(df_filtrado['physicalexamoffset']>=intervalo*i)&(df_filtrado['physicalexamoffset']<=intervalo*(i+1))].shape[0]\n",
    "        total_exam.append(total_exam_dia)\n",
    "    return total_exam"
   ]
  },
  {
   "cell_type": "code",
   "execution_count": 22,
   "metadata": {},
   "outputs": [],
   "source": [
    "exames = ['O2 Sat%','HR','systolic','motor','verbal','eyes']\n",
    "dados = []\n",
    "for exam in exames:\n",
    "    dados.append(histograma(60,24,exam))"
   ]
  },
  {
   "cell_type": "code",
   "execution_count": 23,
   "metadata": {},
   "outputs": [
    {
     "data": {
      "image/png": "[encoded data removed]",
      "text/plain": [
       "<Figure size 1200x800 with 6 Axes>"
      ]
     },
     "metadata": {},
     "output_type": "display_data"
    }
   ],
   "source": [
    "plt.figure(figsize=(12, 8))  # Definindo o tamanho da figura\n",
    "\n",
    "for i, exam in enumerate(exames):\n",
    "    plt.subplot(3, 2, i+1)  # Criando subplot para cada exame\n",
    "    plt.bar(range(1, len(dados[i])+1), dados[i], color='blue')  # Plotando o histograma\n",
    "    plt.title('Histograma de ' + exam)  # Adicionando um título ao gráfico\n",
    "    plt.xlabel('Dia')  # Adicionando rótulo ao eixo x\n",
    "    plt.ylabel('Frequência')  # Adicionando rótulo ao eixo y\n",
    "    plt.grid(True)  # Adicionando grades ao gráfico\n",
    "\n",
    "plt.tight_layout()  # Ajustando layout para evitar sobreposição\n",
    "plt.show()  # Mostrando os gráficos"
   ]
  },
  {
   "cell_type": "markdown",
   "metadata": {},
   "source": [
    "##### lab"
   ]
  },
  {
   "cell_type": "code",
   "execution_count": null,
   "metadata": {},
   "outputs": [],
   "source": []
  },
  {
   "cell_type": "markdown",
   "metadata": {},
   "source": [
    "##### infusion"
   ]
  },
  {
   "cell_type": "markdown",
   "metadata": {},
   "source": [
    "##### diagnosis"
   ]
  }
 ],
 "metadata": {
  "kernelspec": {
   "display_name": "Python 3",
   "language": "python",
   "name": "python3"
  },
  "language_info": {
   "codemirror_mode": {
    "name": "ipython",
    "version": 3
   },
   "file_extension": ".py",
   "mimetype": "text/x-python",
   "name": "python",
   "nbconvert_exporter": "python",
   "pygments_lexer": "ipython3",
   "version": "3.10.12"
  }
 },
 "nbformat": 4,
 "nbformat_minor": 2
}
