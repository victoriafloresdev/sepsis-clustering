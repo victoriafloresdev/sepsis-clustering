{
 "cells": [
  {
   "cell_type": "markdown",
   "metadata": {},
   "source": [
    "#### Importação"
   ]
  },
  {
   "cell_type": "code",
   "execution_count": 2,
   "metadata": {},
   "outputs": [],
   "source": [
    "import pandas as pd\n",
    "import matplotlib.pyplot as plt\n",
    "import numpy as np\n",
    "import seaborn as sns\n",
    "from sklearn.impute import KNNImputer\n",
    "#from missforest import MissForest\n",
    "from sklearn.cluster import KMeans\n",
    "from sklearn.preprocessing import StandardScaler, OneHotEncoder\n",
    "from sklearn.decomposition import PCA\n",
    "from sklearn.preprocessing import StandardScaler\n",
    "import umap\n",
    "from sklearn.manifold import trustworthiness\n",
    "from sklearn.manifold import TSNE\n",
    "from sklearn.metrics import pairwise_distances\n",
    "from sklearn.metrics import silhouette_score, davies_bouldin_score\n",
    "from sklearn.mixture import GaussianMixture\n"
   ]
  },
  {
   "cell_type": "markdown",
   "metadata": {},
   "source": [
    "#### metricas"
   ]
  },
  {
   "cell_type": "code",
   "execution_count": 76,
   "metadata": {},
   "outputs": [],
   "source": [
    "def generate_data(df):\n",
    "   continuo = ['age', 'bands', 'temp', 'lactate', 'WBC', 'lymphs',\n",
    "               'resp', 'spo2/fio2', 'pao2/fio2', 'bicarbonate', 'heartRate',\n",
    "               'troponin', 'systolic', 'diastolic', 'MAP', 'bloodUreaNitrogen',\n",
    "               'alanine', 'aspartate', 'bilirubin', 'hemoglobin', 'iqr', 'platelets',\n",
    "               'PTT', 'albumin', 'chloride', 'glucose', 'sodium', 'gcs', 'potassium',\n",
    "               'calcium', 'phosphate', 'magnesium', 'sofascore']\n",
    "   categorical = ['Gender','Ethnicity']\n",
    "    \n",
    "   # Z-score normalization para as features numéricas\n",
    "   scaler = StandardScaler()\n",
    "   features_scaled = scaler.fit_transform(df[continuo])\n",
    "\n",
    "   # One-hot encoding para as features categóricas\n",
    "   encoder = OneHotEncoder(drop='first', sparse_output=False)  # 'drop=first' para evitar a dummy trap\n",
    "   categorical_encoded = encoder.fit_transform(df[categorical])\n",
    "\n",
    "   # Criar DataFrames para as features normalizadas e codificadas\n",
    "   features_final = pd.DataFrame(features_scaled, columns=continuo)\n",
    "   categorical_final = pd.DataFrame(categorical_encoded, columns=encoder.get_feature_names_out(categorical))\n",
    "\n",
    "   # Concatenar as features numéricas e categóricas\n",
    "   final_data = pd.concat([features_final, categorical_final], axis=1)\n",
    "\n",
    "   # Exibir o DataFrame final\n",
    "   final_data\n",
    "\n",
    "   return final_data"
   ]
  },
  {
   "cell_type": "code",
   "execution_count": 62,
   "metadata": {},
   "outputs": [],
   "source": [
    "def generate_metrics(df, name_prefix):\n",
    "    # Lista de números de clusters para testar\n",
    "    k_values = range(2, 11)  # Testando de 2 a 10 clusters\n",
    "\n",
    "    # Armazenar os resultados\n",
    "    results = {\n",
    "        'k': [],\n",
    "        'Silhouette Score': [],\n",
    "        'Intra Cluster Distance': [],\n",
    "        'Inter Cluster Distance': [],\n",
    "        'Davies-Bouldin Index': []\n",
    "    }\n",
    "\n",
    "    for k in k_values:\n",
    "        kmeans = KMeans(n_clusters=k, random_state=42)\n",
    "        kmeans.fit(df)\n",
    "        labels = kmeans.labels_\n",
    "        \n",
    "        # Calcular as métricas\n",
    "        silhouette = silhouette_score(df, labels)\n",
    "        davies_bouldin = davies_bouldin_score(df, labels)\n",
    "        \n",
    "        # Calcular distâncias intra e inter cluster\n",
    "        intra_cluster_distances = []\n",
    "        inter_cluster_distances = []\n",
    "        \n",
    "        for cluster in range(k):\n",
    "            cluster_points = df[labels == cluster]\n",
    "            if len(cluster_points) > 1:\n",
    "                intra_cluster_distances.append(pairwise_distances(cluster_points).mean())\n",
    "        \n",
    "        intra_cluster_distance = np.mean(intra_cluster_distances) if intra_cluster_distances else np.nan\n",
    "        \n",
    "        # Distância média entre clusters\n",
    "        for i in range(k):\n",
    "            for j in range(i + 1, k):\n",
    "                cluster_i = df[labels == i]\n",
    "                cluster_j = df[labels == j]\n",
    "                if len(cluster_i) > 0 and len(cluster_j) > 0:\n",
    "                    distance = pairwise_distances(cluster_i, cluster_j).mean()\n",
    "                    inter_cluster_distances.append(distance)\n",
    "                    \n",
    "        inter_cluster_distance = np.mean(inter_cluster_distances) if inter_cluster_distances else np.nan\n",
    "        \n",
    "        # Armazenar os resultados\n",
    "        results['k'].append(k)\n",
    "        results['Silhouette Score'].append(silhouette)\n",
    "        results['Intra Cluster Distance'].append(intra_cluster_distance)\n",
    "        results['Inter Cluster Distance'].append(inter_cluster_distance)\n",
    "        results['Davies-Bouldin Index'].append(davies_bouldin)\n",
    "    \n",
    "    # Criar DataFrame com os resultados\n",
    "    metrics_df = pd.DataFrame(results)\n",
    "    metrics_df['Dataset'] = name_prefix\n",
    "    \n",
    "    # Plot do Silhouette Score\n",
    "    plt.figure(figsize=(12, 6))\n",
    "    plt.plot(results['k'], results['Silhouette Score'], 'o-', label='Silhouette Score', color='green')\n",
    "    plt.xlabel('Número de Clusters (k)')\n",
    "    plt.ylabel('Silhouette Score')\n",
    "    plt.title(f'Silhouette Score para Diferentes Valores de k - {name_prefix}')\n",
    "    plt.legend()\n",
    "    plt.show()\n",
    "    \n",
    "    return metrics_df"
   ]
  },
  {
   "cell_type": "code",
   "execution_count": 63,
   "metadata": {},
   "outputs": [],
   "source": [
    "def generate_gmm_metrics(df, name_prefix):\n",
    "    # Lista de números de clusters para testar\n",
    "    k_values = range(2, 11)  # Testando de 2 a 10 clusters\n",
    "\n",
    "    # Armazenar os resultados\n",
    "    results = {\n",
    "        'k': [],\n",
    "        'Silhouette Score': [],\n",
    "        'Intra Cluster Distance': [],\n",
    "        'Inter Cluster Distance': [],\n",
    "        'Davies-Bouldin Index': []\n",
    "    }\n",
    "\n",
    "    for k in k_values:\n",
    "        gmm = GaussianMixture(n_components=k, random_state=42,covariance_type='spherical')\n",
    "        gmm.fit(df)\n",
    "        labels = gmm.predict(df)\n",
    "        \n",
    "        # Calcular as métricas\n",
    "        silhouette = silhouette_score(df, labels)\n",
    "        davies_bouldin = davies_bouldin_score(df, labels)\n",
    "        \n",
    "        # Calcular distâncias intra e inter cluster\n",
    "        intra_cluster_distances = []\n",
    "        inter_cluster_distances = []\n",
    "        \n",
    "        for cluster in range(k):\n",
    "            cluster_points = df[labels == cluster]\n",
    "            if len(cluster_points) > 1:\n",
    "                intra_cluster_distances.append(pairwise_distances(cluster_points).mean())\n",
    "        \n",
    "        intra_cluster_distance = np.mean(intra_cluster_distances) if intra_cluster_distances else np.nan\n",
    "        \n",
    "        # Distância média entre clusters\n",
    "        for i in range(k):\n",
    "            for j in range(i + 1, k):\n",
    "                cluster_i = df[labels == i]\n",
    "                cluster_j = df[labels == j]\n",
    "                if len(cluster_i) > 0 and len(cluster_j) > 0:\n",
    "                    distance = pairwise_distances(cluster_i, cluster_j).mean()\n",
    "                    inter_cluster_distances.append(distance)\n",
    "                    \n",
    "        inter_cluster_distance = np.mean(inter_cluster_distances) if inter_cluster_distances else np.nan\n",
    "        \n",
    "        # Armazenar os resultados\n",
    "        results['k'].append(k)\n",
    "        results['Silhouette Score'].append(silhouette)\n",
    "        results['Intra Cluster Distance'].append(intra_cluster_distance)\n",
    "        results['Inter Cluster Distance'].append(inter_cluster_distance)\n",
    "        results['Davies-Bouldin Index'].append(davies_bouldin)\n",
    "    \n",
    "    # Criar DataFrame com os resultados\n",
    "    metrics_df = pd.DataFrame(results)\n",
    "    metrics_df['Dataset'] = name_prefix\n",
    "    \n",
    "    # Plot do Silhouette Score\n",
    "    plt.figure(figsize=(12, 6))\n",
    "    plt.plot(results['k'], results['Silhouette Score'], 'o-', label='Silhouette Score', color='blue')\n",
    "    plt.xlabel('Número de Clusters (k)')\n",
    "    plt.ylabel('Silhouette Score')\n",
    "    plt.title(f'Silhouette Score para Diferentes Valores de k - {name_prefix}')\n",
    "    plt.legend()\n",
    "    plt.show()\n",
    "    \n",
    "    return metrics_df\n"
   ]
  },
  {
   "cell_type": "markdown",
   "metadata": {},
   "source": [
    "#### A base de dados 'all_worst' pode ser gerada através do notebook 'extract_exams_24h'"
   ]
  },
  {
   "cell_type": "code",
   "execution_count": 66,
   "metadata": {},
   "outputs": [],
   "source": [
    "all_worst = pd.read_csv(\"./eicu/data_imputed.csv\")"
   ]
  },
  {
   "cell_type": "code",
   "execution_count": 67,
   "metadata": {},
   "outputs": [
    {
     "data": {
      "text/plain": [
       "Index(['patientunitstayid', 'age', 'bands', 'CRP', 'ESR', 'temp', 'lactate',\n",
       "       'WBC', 'lymphs', 'resp', 'spo2/fio2', 'pao2/fio2', 'bicarbonate',\n",
       "       'heartRate', 'troponin', 'systolic', 'diastolic', 'MAP',\n",
       "       'bloodUreaNitrogen', 'alanine', 'aspartate', 'bilirubin', 'hemoglobin',\n",
       "       'iqr', 'platelets', 'PTT', 'fibrinogen', 'albumin', 'chloride',\n",
       "       'glucose', 'sodium', 'gcs', 'potassium', 'calcium', 'phosphate',\n",
       "       'magnesium', 'sofascore', 'gender_Unknown', 'Gender', 'Ethnicity'],\n",
       "      dtype='object')"
      ]
     },
     "execution_count": 67,
     "metadata": {},
     "output_type": "execute_result"
    }
   ],
   "source": [
    "all_worst.columns"
   ]
  },
  {
   "cell_type": "code",
   "execution_count": 71,
   "metadata": {},
   "outputs": [],
   "source": [
    "all_worst = all_worst.drop(columns=['CRP','ESR','fibrinogen'],axis=1)"
   ]
  },
  {
   "cell_type": "code",
   "execution_count": 68,
   "metadata": {},
   "outputs": [],
   "source": [
    "intersecao = ['age', 'heartRate', 'resp', 'temp', \n",
    " 'sofascore', 'gcs', 'alanine', 'albumin', 'bilirubin', \n",
    " 'bloodUreaNitrogen', 'chloride', 'glucose', 'lactate', \n",
    " 'WBC', 'bicarbonate', 'hemoglobin', 'platelets', 'pao2/fio2', \n",
    " 'spo2/fio2']"
   ]
  },
  {
   "cell_type": "code",
   "execution_count": 69,
   "metadata": {},
   "outputs": [],
   "source": [
    "continuo = ['age', 'bands', 'temp', 'lactate', 'WBC', 'lymphs',\n",
    "       'resp', 'spo2/fio2', 'pao2/fio2', 'bicarbonate', 'heartRate',\n",
    "       'troponin', 'systolic', 'diastolic', 'MAP', 'bloodUreaNitrogen',\n",
    "       'alanine', 'aspartate', 'bilirubin', 'hemoglobin', 'iqr', 'platelets',\n",
    "       'PTT', 'albumin', 'chloride', 'glucose', 'sodium', 'gcs', 'potassium',\n",
    "       'calcium', 'phosphate', 'magnesium', 'sofascore']"
   ]
  },
  {
   "cell_type": "code",
   "execution_count": 85,
   "metadata": {},
   "outputs": [],
   "source": [
    "categorico = ['Gender_Male', 'Gender_Unknown',\n",
    "       'Ethnicity_Asian', 'Ethnicity_Caucasian', 'Ethnicity_Hispanic',\n",
    "       'Ethnicity_Native American', 'Ethnicity_Other/Unknown']"
   ]
  },
  {
   "cell_type": "code",
   "execution_count": null,
   "metadata": {},
   "outputs": [],
   "source": [
    "# Substitui todos os valores True/False em 1/0 no DataFrame\n",
    "all_worst = all_worst.replace({True: 1, False: 0})"
   ]
  },
  {
   "cell_type": "code",
   "execution_count": 77,
   "metadata": {},
   "outputs": [],
   "source": [
    "final_data = generate_data(all_worst)"
   ]
  },
  {
   "cell_type": "markdown",
   "metadata": {},
   "source": [
    "#### Retirando colunas com mais de 80% nulo"
   ]
  },
  {
   "cell_type": "code",
   "execution_count": 78,
   "metadata": {},
   "outputs": [],
   "source": [
    "final_data.to_csv('./eicu/scaled.csv',index=False)"
   ]
  },
  {
   "cell_type": "code",
   "execution_count": 84,
   "metadata": {},
   "outputs": [
    {
     "data": {
      "text/plain": [
       "Index(['age', 'bands', 'temp', 'lactate', 'WBC', 'lymphs', 'resp', 'spo2/fio2',\n",
       "       'pao2/fio2', 'bicarbonate', 'heartRate', 'troponin', 'systolic',\n",
       "       'diastolic', 'MAP', 'bloodUreaNitrogen', 'alanine', 'aspartate',\n",
       "       'bilirubin', 'hemoglobin', 'iqr', 'platelets', 'PTT', 'albumin',\n",
       "       'chloride', 'glucose', 'sodium', 'gcs', 'potassium', 'calcium',\n",
       "       'phosphate', 'magnesium', 'sofascore', 'Gender_Male', 'Gender_Unknown',\n",
       "       'Ethnicity_Asian', 'Ethnicity_Caucasian', 'Ethnicity_Hispanic',\n",
       "       'Ethnicity_Native American', 'Ethnicity_Other/Unknown'],\n",
       "      dtype='object')"
      ]
     },
     "execution_count": 84,
     "metadata": {},
     "output_type": "execute_result"
    }
   ],
   "source": [
    "final_data.columns"
   ]
  },
  {
   "cell_type": "code",
   "execution_count": 87,
   "metadata": {},
   "outputs": [],
   "source": [
    "#interseccao\n",
    "df_interseccao = final_data[intersecao].copy()\n",
    "for c in categorico:\n",
    "    df_interseccao[c] = final_data[c].copy()"
   ]
  },
  {
   "cell_type": "code",
   "execution_count": 89,
   "metadata": {},
   "outputs": [],
   "source": [
    "df_interseccao.to_csv('./eicu/scaled_interseccao.csv',index=False)"
   ]
  },
  {
   "cell_type": "markdown",
   "metadata": {},
   "source": [
    "#### Reirando colunas similares"
   ]
  },
  {
   "cell_type": "code",
   "execution_count": null,
   "metadata": {},
   "outputs": [],
   "source": [
    "correlation_matrix = all_worst[continuo].corr()\n",
    "\n",
    "# Configurando o tamanho da figura\n",
    "plt.figure(figsize=(30, 15))\n",
    "\n",
    "# Plotando o heatmap\n",
    "sns.heatmap(correlation_matrix, annot=True, fmt=\".2f\", cmap=\"coolwarm\", cbar=True)\n",
    "\n",
    "# Adicionando título\n",
    "plt.title('Heatmap da Correlação entre Exames')\n",
    "\n",
    "# Exibindo o gráfico\n",
    "plt.show()"
   ]
  },
  {
   "cell_type": "code",
   "execution_count": null,
   "metadata": {},
   "outputs": [],
   "source": [
    "import pandas as pd\n",
    "import numpy as np  # Importação do NumPy diretamente\n",
    "\n",
    "def remove_highly_correlated_features(df, threshold=0.8):\n",
    "    # Calcula a matriz de correlação\n",
    "    corr_matrix = df.corr().abs()\n",
    "\n",
    "    # Seleciona o upper triangle da matriz de correlação\n",
    "    upper_triangle = corr_matrix.where(\n",
    "        np.triu(np.ones(corr_matrix.shape), k=1).astype(bool)\n",
    "    )\n",
    "\n",
    "    # Encontra as colunas com uma correlação maior que o limiar\n",
    "    to_drop = [column for column in upper_triangle.columns if any(upper_triangle[column] > threshold)]\n",
    "\n",
    "    # Remove as colunas altamente correlacionadas\n",
    "    df_reduced = df.drop(columns=to_drop)\n",
    "    \n",
    "    return df_reduced, to_drop\n",
    "\n",
    "# Exemplo de uso com um limiar de 0.85\n",
    "df_reduced, dropped_columns = remove_highly_correlated_features(final_data[continuo],threshold=0.6)\n",
    "print(f\"Colunas removidas devido à alta correlação: {dropped_columns}\")\n"
   ]
  },
  {
   "cell_type": "markdown",
   "metadata": {},
   "source": [
    "#### Retirando colunas com alta correlação // Não executado na eicu"
   ]
  },
  {
   "cell_type": "markdown",
   "metadata": {},
   "source": [
    "#### Reduzindo dimensionalidade"
   ]
  },
  {
   "cell_type": "markdown",
   "metadata": {},
   "source": [
    "##### UMAP"
   ]
  },
  {
   "cell_type": "code",
   "execution_count": 90,
   "metadata": {},
   "outputs": [],
   "source": [
    "def reduzindo_umap(df, name):\n",
    "    # Intervalo de componentes\n",
    "    n_components_range = range(2, 11)\n",
    "    trustworthiness_scores = []\n",
    "\n",
    "    # Calcular o trustworthiness para cada número de componentes\n",
    "    for n_components in n_components_range:\n",
    "        reducer = umap.UMAP(n_components=n_components, random_state=42)\n",
    "        reduced_data = reducer.fit_transform(df_reduced)\n",
    "        trust = trustworthiness(df_reduced, reduced_data)\n",
    "        trustworthiness_scores.append(trust)\n",
    "\n",
    "    # Plotar os resultados\n",
    "    plt.figure(figsize=(10, 6))\n",
    "    sns.lineplot(x=list(n_components_range), y=trustworthiness_scores, marker='o')\n",
    "    plt.xlabel('Número de Componentes')\n",
    "    plt.ylabel('Trustworthiness')\n",
    "    plt.title(f'Trustworthiness por Número de Componentes no UMAP para {name}')\n",
    "    plt.show()\n",
    "\n"
   ]
  },
  {
   "cell_type": "code",
   "execution_count": 92,
   "metadata": {},
   "outputs": [
    {
     "name": "stderr",
     "output_type": "stream",
     "text": [
      "/home/grad/ccomp/23/haniel.botelho/miniconda3/lib/python3.12/site-packages/umap/umap_.py:1945: UserWarning: n_jobs value 1 overridden to 1 by setting random_state. Use no seed for parallelism.\n",
      "  warn(f\"n_jobs value {self.n_jobs} overridden to 1 by setting random_state. Use no seed for parallelism.\")\n",
      "/home/grad/ccomp/23/haniel.botelho/miniconda3/lib/python3.12/site-packages/umap/umap_.py:1945: UserWarning: n_jobs value 1 overridden to 1 by setting random_state. Use no seed for parallelism.\n",
      "  warn(f\"n_jobs value {self.n_jobs} overridden to 1 by setting random_state. Use no seed for parallelism.\")\n",
      "/home/grad/ccomp/23/haniel.botelho/miniconda3/lib/python3.12/site-packages/umap/umap_.py:1945: UserWarning: n_jobs value 1 overridden to 1 by setting random_state. Use no seed for parallelism.\n",
      "  warn(f\"n_jobs value {self.n_jobs} overridden to 1 by setting random_state. Use no seed for parallelism.\")\n",
      "/home/grad/ccomp/23/haniel.botelho/miniconda3/lib/python3.12/site-packages/umap/umap_.py:1945: UserWarning: n_jobs value 1 overridden to 1 by setting random_state. Use no seed for parallelism.\n",
      "  warn(f\"n_jobs value {self.n_jobs} overridden to 1 by setting random_state. Use no seed for parallelism.\")\n",
      "/home/grad/ccomp/23/haniel.botelho/miniconda3/lib/python3.12/site-packages/umap/umap_.py:1945: UserWarning: n_jobs value 1 overridden to 1 by setting random_state. Use no seed for parallelism.\n",
      "  warn(f\"n_jobs value {self.n_jobs} overridden to 1 by setting random_state. Use no seed for parallelism.\")\n",
      "/home/grad/ccomp/23/haniel.botelho/miniconda3/lib/python3.12/site-packages/umap/umap_.py:1945: UserWarning: n_jobs value 1 overridden to 1 by setting random_state. Use no seed for parallelism.\n",
      "  warn(f\"n_jobs value {self.n_jobs} overridden to 1 by setting random_state. Use no seed for parallelism.\")\n",
      "/home/grad/ccomp/23/haniel.botelho/miniconda3/lib/python3.12/site-packages/umap/umap_.py:1945: UserWarning: n_jobs value 1 overridden to 1 by setting random_state. Use no seed for parallelism.\n",
      "  warn(f\"n_jobs value {self.n_jobs} overridden to 1 by setting random_state. Use no seed for parallelism.\")\n",
      "/home/grad/ccomp/23/haniel.botelho/miniconda3/lib/python3.12/site-packages/umap/umap_.py:1945: UserWarning: n_jobs value 1 overridden to 1 by setting random_state. Use no seed for parallelism.\n",
      "  warn(f\"n_jobs value {self.n_jobs} overridden to 1 by setting random_state. Use no seed for parallelism.\")\n",
      "/home/grad/ccomp/23/haniel.botelho/miniconda3/lib/python3.12/site-packages/umap/umap_.py:1945: UserWarning: n_jobs value 1 overridden to 1 by setting random_state. Use no seed for parallelism.\n",
      "  warn(f\"n_jobs value {self.n_jobs} overridden to 1 by setting random_state. Use no seed for parallelism.\")\n"
     ]
    },
    {
     "data": {
      "image/png": "[encoded data removed]",
      "text/plain": [
       "<Figure size 1000x600 with 1 Axes>"
      ]
     },
     "metadata": {},
     "output_type": "display_data"
    },
    {
     "name": "stderr",
     "output_type": "stream",
     "text": [
      "/home/grad/ccomp/23/haniel.botelho/miniconda3/lib/python3.12/site-packages/umap/umap_.py:1945: UserWarning: n_jobs value 1 overridden to 1 by setting random_state. Use no seed for parallelism.\n",
      "  warn(f\"n_jobs value {self.n_jobs} overridden to 1 by setting random_state. Use no seed for parallelism.\")\n",
      "/home/grad/ccomp/23/haniel.botelho/miniconda3/lib/python3.12/site-packages/umap/umap_.py:1945: UserWarning: n_jobs value 1 overridden to 1 by setting random_state. Use no seed for parallelism.\n",
      "  warn(f\"n_jobs value {self.n_jobs} overridden to 1 by setting random_state. Use no seed for parallelism.\")\n",
      "/home/grad/ccomp/23/haniel.botelho/miniconda3/lib/python3.12/site-packages/umap/umap_.py:1945: UserWarning: n_jobs value 1 overridden to 1 by setting random_state. Use no seed for parallelism.\n",
      "  warn(f\"n_jobs value {self.n_jobs} overridden to 1 by setting random_state. Use no seed for parallelism.\")\n",
      "/home/grad/ccomp/23/haniel.botelho/miniconda3/lib/python3.12/site-packages/umap/umap_.py:1945: UserWarning: n_jobs value 1 overridden to 1 by setting random_state. Use no seed for parallelism.\n",
      "  warn(f\"n_jobs value {self.n_jobs} overridden to 1 by setting random_state. Use no seed for parallelism.\")\n",
      "/home/grad/ccomp/23/haniel.botelho/miniconda3/lib/python3.12/site-packages/umap/umap_.py:1945: UserWarning: n_jobs value 1 overridden to 1 by setting random_state. Use no seed for parallelism.\n",
      "  warn(f\"n_jobs value {self.n_jobs} overridden to 1 by setting random_state. Use no seed for parallelism.\")\n",
      "/home/grad/ccomp/23/haniel.botelho/miniconda3/lib/python3.12/site-packages/umap/umap_.py:1945: UserWarning: n_jobs value 1 overridden to 1 by setting random_state. Use no seed for parallelism.\n",
      "  warn(f\"n_jobs value {self.n_jobs} overridden to 1 by setting random_state. Use no seed for parallelism.\")\n",
      "/home/grad/ccomp/23/haniel.botelho/miniconda3/lib/python3.12/site-packages/umap/umap_.py:1945: UserWarning: n_jobs value 1 overridden to 1 by setting random_state. Use no seed for parallelism.\n",
      "  warn(f\"n_jobs value {self.n_jobs} overridden to 1 by setting random_state. Use no seed for parallelism.\")\n",
      "/home/grad/ccomp/23/haniel.botelho/miniconda3/lib/python3.12/site-packages/umap/umap_.py:1945: UserWarning: n_jobs value 1 overridden to 1 by setting random_state. Use no seed for parallelism.\n",
      "  warn(f\"n_jobs value {self.n_jobs} overridden to 1 by setting random_state. Use no seed for parallelism.\")\n",
      "/home/grad/ccomp/23/haniel.botelho/miniconda3/lib/python3.12/site-packages/umap/umap_.py:1945: UserWarning: n_jobs value 1 overridden to 1 by setting random_state. Use no seed for parallelism.\n",
      "  warn(f\"n_jobs value {self.n_jobs} overridden to 1 by setting random_state. Use no seed for parallelism.\")\n"
     ]
    },
    {
     "data": {
      "image/png": "[encoded data removed]",
      "text/plain": [
       "<Figure size 1000x600 with 1 Axes>"
      ]
     },
     "metadata": {},
     "output_type": "display_data"
    },
    {
     "name": "stderr",
     "output_type": "stream",
     "text": [
      "/home/grad/ccomp/23/haniel.botelho/miniconda3/lib/python3.12/site-packages/umap/umap_.py:1945: UserWarning: n_jobs value 1 overridden to 1 by setting random_state. Use no seed for parallelism.\n",
      "  warn(f\"n_jobs value {self.n_jobs} overridden to 1 by setting random_state. Use no seed for parallelism.\")\n"
     ]
    }
   ],
   "source": [
    "reduzindo_umap(final_data,'todas features eicu')\n",
    "reduzindo_umap(df_interseccao,'features de interseccao')\n",
    "reducer = umap.UMAP(n_components=6, random_state=42)\n",
    "final_data_missforest_umap = reducer.fit_transform(final_data)\n",
    "final_data_missforest_umap_interseccao = reducer.fit_transform(df_interseccao)"
   ]
  },
  {
   "cell_type": "markdown",
   "metadata": {},
   "source": [
    "##### T-SNE"
   ]
  },
  {
   "cell_type": "code",
   "execution_count": 19,
   "metadata": {},
   "outputs": [],
   "source": [
    "reducer = TSNE(n_components=3, random_state=42)\n",
    "final_data_missforest_tsne = reducer.fit_transform(final_data)\n",
    "final_data_missforest_tsne_interseccao = reducer.fit_transform(df_interseccao)"
   ]
  },
  {
   "cell_type": "markdown",
   "metadata": {},
   "source": [
    "#### Salvando"
   ]
  },
  {
   "cell_type": "code",
   "execution_count": 20,
   "metadata": {},
   "outputs": [],
   "source": [
    "def save(final_data,name):\n",
    "    reduced_df = pd.DataFrame(final_data, columns=[f'Component_{i+1}' for i in range(final_data.shape[1])])\n",
    "    file_name = f\"{name}.csv\"\n",
    "    reduced_df.to_csv(file_name, index=False)\n",
    "    return reduced_df"
   ]
  },
  {
   "cell_type": "code",
   "execution_count": null,
   "metadata": {},
   "outputs": [],
   "source": [
    "save(final_data_missforest_tsne, \"final_data_missforest_tsne\")\n",
    "save(final_data_missforest_umap, \"final_data_missforest_umap\")\n",
    "save(final_data_missforest_tsne_interseccao, \"final_data_missforest_tsne_interseccao\")\n",
    "save(final_data_missforest_umap_interseccao, \"final_data_missforest_umap_interseccao\")"
   ]
  },
  {
   "cell_type": "markdown",
   "metadata": {},
   "source": [
    "#### K-means"
   ]
  },
  {
   "cell_type": "code",
   "execution_count": null,
   "metadata": {},
   "outputs": [],
   "source": [
    "# Lista de DataFrames e seus prefixos\n",
    "dfs = [\n",
    "    (final_data_missforest_tsne, \"MissForest_tSNE\"),\n",
    "    (final_data_missforest_tsne_interseccao, \"MissForest_tSNE_interseccao\"),\n",
    "    (final_data_missforest_umap, \"MissForest_UMAP\"),\n",
    "    (final_data_missforest_umap_interseccao, \"MissForest_UMAP_interseccao\"),]\n",
    "\n",
    "# Armazenar todos os DataFrames de métricas em uma lista\n",
    "all_metrics_dfs = []\n",
    "\n",
    "for df, name_prefix in dfs:\n",
    "    metrics_df = generate_metrics(df, name_prefix)\n",
    "    all_metrics_dfs.append(metrics_df)\n",
    "\n",
    "# Concatenar todos os DataFrames de métricas em um único DataFrame\n",
    "final_metrics_df = pd.concat(all_metrics_dfs, ignore_index=True)\n",
    "\n",
    "\n",
    "final_metrics_df"
   ]
  },
  {
   "cell_type": "code",
   "execution_count": 24,
   "metadata": {},
   "outputs": [],
   "source": [
    "final_metrics_df.to_csv(\"final_metrics.csv\",index =False)"
   ]
  },
  {
   "cell_type": "code",
   "execution_count": 26,
   "metadata": {},
   "outputs": [],
   "source": [
    "final_metrics_df = pd.read_csv(\"final_metrics.csv\")"
   ]
  },
  {
   "cell_type": "code",
   "execution_count": null,
   "metadata": {},
   "outputs": [],
   "source": [
    "print(final_metrics_df.to_markdown())"
   ]
  },
  {
   "cell_type": "markdown",
   "metadata": {},
   "source": [
    "##### Melhor resultado"
   ]
  },
  {
   "cell_type": "code",
   "execution_count": 29,
   "metadata": {},
   "outputs": [],
   "source": [
    "final_data_missforest_umap_interseccao = pd.read_csv(\"final_data_missforest_umap_interseccao.csv\")\n",
    "final_data_missforest_umap = pd.read_csv(\"final_data_missforest_umap.csv\")\n",
    "results = pd.read_csv(\"./eicu/data_imputed.csv\")"
   ]
  },
  {
   "cell_type": "code",
   "execution_count": null,
   "metadata": {},
   "outputs": [],
   "source": [
    "import matplotlib.pyplot as plt\n",
    "import pandas as pd\n",
    "import umap\n",
    "from sklearn.cluster import KMeans\n",
    "def plot_kmeans(df,df_reduzido,clusters,tipo)\n",
    "    # Supondo que `final_data_missforest_umap` seja seu DataFrame de dados\n",
    "    # Definição dos clusters e redução dimensional (já feito anteriormente)\n",
    "    kmeans = KMeans(n_clusters=clusters, random_state=42)\n",
    "    clusters = kmeans.fit_predict(df_reduzido)\n",
    "\n",
    "    # Adicionar a coluna de clusters ao DataFrame original\n",
    "    df[f'{tipo} Cluster'] = clusters\n",
    "\n",
    "    # Reduzir a dimensionalidade para 2 componentes usando UMAP\n",
    "    umap_reducer = umap.UMAP(n_components=2, random_state=42)\n",
    "    reduced_data = umap_reducer.fit_transform(df_reduzido)\n",
    "\n",
    "    # Converter os dados reduzidos para um DataFrame\n",
    "    reduced_df = pd.DataFrame(reduced_data, columns=['Component_1', 'Component_2'])\n",
    "    reduced_df['Cluster'] = clusters\n",
    "\n",
    "    # Definir rótulos para os clusters\n",
    "    cluster_labels = {0: 'Subfenótipo A', 1: 'Subfenótipo B', 1: 'Subfenótipo B', 2: 'Subfenótipo C'}\n",
    "\n",
    "    # Mapear os números dos clusters para os rótulos\n",
    "    reduced_df['Cluster_Label'] = reduced_df['Cluster'].map(cluster_labels)\n",
    "\n",
    "    # Plotar os clusters\n",
    "    plt.figure(figsize=(10, 8))\n",
    "\n",
    "    # Plotar os pontos com cores diferentes para cada cluster\n",
    "    scatter = plt.scatter(\n",
    "        reduced_df['Component_1'], \n",
    "        reduced_df['Component_2'], \n",
    "        c=reduced_df['Cluster'], \n",
    "        cmap='viridis', \n",
    "        marker='o'\n",
    "    )\n",
    "\n",
    "    # Adicionar uma legenda personalizada\n",
    "    handles = [plt.Line2D([0], [0], marker='o', color='w', markerfacecolor=scatter.cmap(scatter.norm(c)), markersize=10, label=label) for c, label in cluster_labels.items()]\n",
    "    plt.legend(handles=handles, title=f'Subfenótipos das features: {}')\n",
    "\n",
    "    # Adicionar labels e título\n",
    "    plt.xlabel('Componente principal 1')\n",
    "    plt.ylabel('Componente principal 2')\n",
    "\n",
    "    # Exibir o gráfico\n",
    "    plt.show()\n",
    "\n",
    "plot_kmeans(results,final_data_missforest_umap_interseccao,3,'interseccao')\n",
    "plot_kmeans(results,final_data_missforest_umap,2,'todas')"
   ]
  },
  {
   "cell_type": "code",
   "execution_count": 31,
   "metadata": {},
   "outputs": [],
   "source": [
    "results.to_csv(\"final_clusters_kmeans.csv\",index=False)"
   ]
  },
  {
   "cell_type": "code",
   "execution_count": 41,
   "metadata": {},
   "outputs": [],
   "source": [
    "exams_columns = ['age', 'bands', 'CRP', 'ESR', 'temp', 'lactate',\n",
    "       'WBC', 'lymphs', 'resp', 'spo2/fio2', 'pao2/fio2', 'bicarbonate',\n",
    "       'heartRate', 'troponin', 'systolic', 'diastolic', 'MAP',\n",
    "       'bloodUreaNitrogen', 'alanine', 'aspartate', 'bilirubin', 'hemoglobin',\n",
    "       'iqr', 'platelets', 'PTT', 'fibrinogen', 'albumin', 'chloride',\n",
    "       'glucose', 'sodium', 'gcs', 'potassium', 'calcium', 'phosphate',\n",
    "       'magnesium', 'sofascore']"
   ]
  },
  {
   "cell_type": "code",
   "execution_count": null,
   "metadata": {},
   "outputs": [],
   "source": [
    "import pandas as pd\n",
    "import seaborn as sns\n",
    "import matplotlib.pyplot as plt\n",
    "\n",
    "# Dicionário de tradução dos nomes das colunas\n",
    "translation_dicto = {\n",
    "    'age': 'idade',\n",
    "    'bands': 'bastonetes',\n",
    "    'CRP': 'PCR',  # Proteína C Reativa\n",
    "    'ESR': 'VHS',  # Velocidade de Hemossedimentação\n",
    "    'temp': 'temperatura',\n",
    "    'lactate': 'lactato',\n",
    "    'WBC': 'leucócitos',\n",
    "    'lymphs': 'linfócitos',\n",
    "    'resp': 'frequência_respiratória',\n",
    "    'spo2/fio2': 'spo2/fio2',  # Relação entre Saturação de Oxigênio e Fração de Oxigênio Inspirado\n",
    "    'pao2/fio2': 'pao2/fio2',  # Relação entre Pressão Parcial de Oxigênio e Fração de Oxigênio Inspirado\n",
    "    'bicarbonate': 'bicarbonato',\n",
    "    'heartRate': 'frequência_cardíaca',\n",
    "    'troponin': 'troponina',\n",
    "    'systolic': 'pressão_sistólica',\n",
    "    'diastolic': 'pressão_diastólica',\n",
    "    'MAP': 'PAM',  # Pressão Arterial Média\n",
    "    'bloodUreaNitrogen': 'ureia',\n",
    "    'alanine': 'alanina',\n",
    "    'aspartate': 'aspartato',\n",
    "    'bilirubin': 'bilirrubina',\n",
    "    'hemoglobin': 'hemoglobina',\n",
    "    'iqr': 'amplitude_interquartílica',\n",
    "    'platelets': 'plaquetas',\n",
    "    'PTT': 'TTPa',  # Tempo de Tromboplastina Parcial Ativada\n",
    "    'fibrinogen': 'fibrinogênio',\n",
    "    'albumin': 'albumina',\n",
    "    'chloride': 'cloro',\n",
    "    'glucose': 'glicose',\n",
    "    'sodium': 'sódio',\n",
    "    'gcs': 'escala_de_coma_de_Glasgow',\n",
    "    'potassium': 'potássio',\n",
    "    'calcium': 'cálcio',\n",
    "    'phosphate': 'fosfato',\n",
    "    'magnesium': 'magnésio',\n",
    "    'sofascore': 'pontuação_SOFA',\n",
    "    'gender_Female': 'sexo_Feminino',\n",
    "    'gender_Male': 'sexo_Masculino',\n",
    "    'gender_Unknown': 'sexo_Desconhecido',\n",
    "    'ethnicity_African American': 'etnia_Afro-Americana',\n",
    "    'ethnicity_Asian': 'etnia_Asiática',\n",
    "    'ethnicity_Caucasian': 'etnia_Caucasiana',\n",
    "    'ethnicity_Hispanic': 'etnia_Hispânica',\n",
    "    'ethnicity_Native American': 'etnia_Nativo-Americana',\n",
    "    'ethnicity_Other/Unknown': 'etnia_Outra/Desconhecida'\n",
    "}\n",
    "\n",
    "\n",
    "# Dicionário para substituir números por letras no eixo x\n",
    "x_labels_dict = {i: chr(65 + i) for i in range(16)}\n",
    "\n",
    "max_plots_per_figure = 16\n",
    "\n",
    "# Função para plotar boxplots com largura proporcional\n",
    "def plot_boxplots(df, columns, translation_dict, x_labels_dict, max_plots_per_figure):\n",
    "    num_columns = len(columns)\n",
    "    num_figures = (num_columns + max_plots_per_figure - 1) // max_plots_per_figure  # Calcula o número de figuras necessárias\n",
    "    \n",
    "    for i in range(num_figures):\n",
    "        plt.figure(figsize=(20, 15))\n",
    "        start = i * max_plots_per_figure\n",
    "        end = min(start + max_plots_per_figure, num_columns)\n",
    "        \n",
    "        for j, column in enumerate(columns[start:end]):\n",
    "            plt.subplot((max_plots_per_figure // 4) + 1, 4, j + 1)\n",
    "            \n",
    "            # Transformar o DataFrame em formato longo\n",
    "            df_long = df.melt(id_vars=['Cluster'], value_vars=[column], \n",
    "                              var_name='Exam', value_name='Value')\n",
    "            \n",
    "            # Calcular o número de amostras por cluster\n",
    "            sample_counts = df_long.groupby('Cluster').size().reset_index(name='Count')\n",
    "            \n",
    "            # Merge as contagens com o DataFrame longo\n",
    "            df_long = pd.merge(df_long, sample_counts, on='Cluster')\n",
    "            \n",
    "            # Calcular a largura das caixas com base na quantidade de dados\n",
    "            df_long['Width'] = df_long['Count'] / df_long['Count'].max()\n",
    "            \n",
    "            # Plotar o box plot com largura proporcional\n",
    "            sns.boxplot(x='Cluster', y='Value', data=df_long,\n",
    "                        width=df_long['Width'].mean())  # Define a largura média para o box plot\n",
    "            \n",
    "            # Ajustar os rótulos do eixo x\n",
    "            plt.xticks(ticks=range(len(df_long['Cluster'].unique())), \n",
    "                       labels=[x_labels_dict.get(i, i) for i in range(len(df_long['Cluster'].unique()))])\n",
    "            \n",
    "            plt.title(translation_dict.get(column, column))\n",
    "            plt.xlabel('')\n",
    "            plt.ylabel('')\n",
    "        \n",
    "        plt.tight_layout()\n",
    "        plt.show()\n",
    "\n",
    "# Definição das colunas de exames\n",
    "\n",
    "# Plotar os boxplots\n",
    "plot_boxplots(results, exams_columns, translation_dicto, x_labels_dict, max_plots_per_figure)\n"
   ]
  },
  {
   "cell_type": "code",
   "execution_count": 55,
   "metadata": {},
   "outputs": [],
   "source": [
    "results['Gender'] = results[['gender_Female', 'gender_Male', 'gender_Unknown']].idxmax(axis=1)\n",
    "results['Gender'] = results['Gender'].str.replace('gender_', '')\n",
    "\n",
    "# Combina as colunas de etnia em uma única coluna\n",
    "results['Ethnicity'] = results[['ethnicity_African American','ethnicity_Asian','ethnicity_Caucasian','ethnicity_Hispanic','ethnicity_Native American','ethnicity_Other/Unknown']].idxmax(axis=1)\n",
    "results['Ethnicity'] = results['Ethnicity'].str.replace('ethnicity_', '')"
   ]
  },
  {
   "cell_type": "code",
   "execution_count": null,
   "metadata": {},
   "outputs": [],
   "source": [
    "# Definir as colunas categóricas\n",
    "categorical_columns = ['Ethnicity', 'Gender']\n",
    "\n",
    "# Função para calcular a frequência das categorias para cada cluster\n",
    "def calculate_frequency(df, categorical_columns):\n",
    "    frequency_dfs = {}\n",
    "    for column in categorical_columns:\n",
    "        freq_df = df.groupby(['Cluster', column]).size().unstack(fill_value=0)\n",
    "        frequency_dfs[column] = freq_df\n",
    "    return frequency_dfs\n",
    "\n",
    "# Calcular a frequência das categorias\n",
    "frequency_dfs = calculate_frequency(results, categorical_columns)\n",
    "\n",
    "# Plotar as frequências\n",
    "def plot_frequencies(frequency_dfs):\n",
    "    for column, freq_df in frequency_dfs.items():\n",
    "        plt.figure(figsize=(12, 6))\n",
    "        freq_df.plot(kind='bar', stacked=True, colormap='viridis')\n",
    "        plt.title(f'Frequência de {column} por Cluster')\n",
    "        plt.xlabel('Cluster')\n",
    "        plt.ylabel('Frequência')\n",
    "        plt.legend(title=column)\n",
    "        plt.show()\n",
    "\n",
    "# Plotar as frequências\n",
    "plot_frequencies(frequency_dfs)"
   ]
  },
  {
   "cell_type": "markdown",
   "metadata": {},
   "source": [
    "#### GMM"
   ]
  },
  {
   "cell_type": "code",
   "execution_count": 38,
   "metadata": {},
   "outputs": [],
   "source": [
    "final_data_missforest_tsne =  pd.read_csv(\"final_data_missforest_tsne.csv\")\n",
    "#final_data_knn_tsne = pd.read_csv(\"final_data_knn_tsne.csv\")\n",
    "final_data_missforest_umap =  pd.read_csv(\"final_data_missforest_umap.csv\")\n",
    "#final_data_knn_umap =  pd.read_csv(\"final_data_knn_umap.csv\")"
   ]
  },
  {
   "cell_type": "code",
   "execution_count": null,
   "metadata": {},
   "outputs": [],
   "source": [
    "# Lista de DataFrames e seus prefixos\n",
    "\n",
    "dfs = [\n",
    "    (final_data_missforest_tsne, \"MissForest_tSNE\"),\n",
    "    (final_data_missforest_umap, \"MissForest_UMAP\")\n",
    "    ]\n",
    "\n",
    "# Armazenar todos os DataFrames de métricas em uma lista\n",
    "all_metrics_dfs = []\n",
    "\n",
    "for df, name_prefix in dfs:\n",
    "    metrics_df = generate_gmm_metrics(df, name_prefix)\n",
    "    all_metrics_dfs.append(metrics_df)\n",
    "\n",
    "# Concatenar todos os DataFrames de métricas em um único DataFrame\n",
    "final_metrics_df = pd.concat(all_metrics_dfs, ignore_index=True)\n",
    "\n",
    "\n",
    "final_metrics_df"
   ]
  },
  {
   "cell_type": "code",
   "execution_count": 32,
   "metadata": {},
   "outputs": [],
   "source": [
    "\n",
    "def evaluate_gmm_parameters(df, name_prefix):\n",
    "    # Definindo os parâmetros a serem avaliados\n",
    "    param_grid = {\n",
    "        'n_components': range(2, 11),  # Testando de 2 a 10 componentes\n",
    "        'covariance_type': ['full', 'tied', 'diag', 'spherical'],  # Diferentes tipos de covariância\n",
    "        'init_params': ['kmeans', 'random'],  # Métodos de inicialização\n",
    "    }\n",
    "    \n",
    "    # Armazenar os resultados\n",
    "    results = {\n",
    "        'n_components': [],\n",
    "        'covariance_type': [],\n",
    "        'init_params': [],\n",
    "        'Silhouette Score': [],\n",
    "        'BIC': []\n",
    "    }\n",
    "\n",
    "    # Avaliação dos parâmetros\n",
    "    for n_components in param_grid['n_components']:\n",
    "        for covariance_type in param_grid['covariance_type']:\n",
    "            for init_params in param_grid['init_params']:\n",
    "                gmm = GaussianMixture(\n",
    "                    n_components=n_components,\n",
    "                    covariance_type=covariance_type,\n",
    "                    init_params=init_params,\n",
    "                    random_state=42\n",
    "                )\n",
    "                gmm.fit(df)\n",
    "                labels = gmm.predict(df)\n",
    "                \n",
    "                # Calcular o Silhouette Score\n",
    "                if len(np.unique(labels)) > 1:  # Silhouette Score requer pelo menos 2 clusters distintos\n",
    "                    silhouette = silhouette_score(df, labels)\n",
    "                else:\n",
    "                    silhouette = np.nan\n",
    "                \n",
    "                # Calcular o BIC\n",
    "                bic = gmm.bic(df)\n",
    "                \n",
    "                # Armazenar os resultados\n",
    "                results['n_components'].append(n_components)\n",
    "                results['covariance_type'].append(covariance_type)\n",
    "                results['init_params'].append(init_params)\n",
    "                results['Silhouette Score'].append(silhouette)\n",
    "                results['BIC'].append(bic)\n",
    "    \n",
    "    # Criar DataFrame com os resultados\n",
    "    results_df = pd.DataFrame(results)\n",
    "    results_df['Dataset'] = name_prefix\n",
    "    \n",
    "    # Exibir os melhores parâmetros com base no Silhouette Score\n",
    "    best_silhouette = results_df.loc[results_df['Silhouette Score'].idxmax()]\n",
    "    print(\"Melhores parâmetros com base no Silhouette Score:\")\n",
    "    print(best_silhouette)\n",
    "    \n",
    "    # Exibir os melhores parâmetros com base no BIC\n",
    "    best_bic = results_df.loc[results_df['BIC'].idxmin()]\n",
    "    print(\"\\nMelhores parâmetros com base no BIC:\")\n",
    "    print(best_bic)\n",
    "    \n",
    "    # Plot do Silhouette Score para diferentes combinações de parâmetros\n",
    "    plt.figure(figsize=(12, 6))\n",
    "    plt.plot(results['n_components'], results['Silhouette Score'], 'o-', label='Silhouette Score', color='blue')\n",
    "    plt.xlabel('Número de Componentes')\n",
    "    plt.ylabel('Silhouette Score')\n",
    "    plt.title(f'Silhouette Score para Diferentes Parâmetros - {name_prefix}')\n",
    "    plt.legend()\n",
    "    plt.show()\n",
    "    \n",
    "    return results_df"
   ]
  },
  {
   "cell_type": "code",
   "execution_count": null,
   "metadata": {},
   "outputs": [],
   "source": [
    "gmm_results = evaluate_gmm_parameters(final_data_missforest_umap, \"MissForest_UMAP\")"
   ]
  },
  {
   "cell_type": "markdown",
   "metadata": {},
   "source": [
    "##### Melhor resultado"
   ]
  },
  {
   "cell_type": "code",
   "execution_count": 49,
   "metadata": {},
   "outputs": [],
   "source": [
    "final_data_missforest_umap_interseccao = pd.read_csv(\"final_data_missforest_umap_interseccao.csv\")\n",
    "final_data_missforest_umap = pd.read_csv(\"final_data_missforest_umap.csv\")\n",
    "results = pd.read_csv(\"./eicu/data_imputed.csv\")"
   ]
  },
  {
   "cell_type": "code",
   "execution_count": null,
   "metadata": {},
   "outputs": [],
   "source": [
    "def plot_gmm(gmm,tipo,df,df_reduzido):\n",
    "    mm.fit(df_reduzido)\n",
    "    clusters_gmm = gmm.predict(df_reduzido)\n",
    "    # Adicionar a coluna de clusters ao DataFrame original\n",
    "    results['Cluster'] = clusters_gmm\n",
    "\n",
    "    # Reduzir a dimensionalidade para 2 componentes usando UMAP para visualização\n",
    "    umap_reducer = umap.UMAP(n_components=2, random_state=42)\n",
    "    reduced_data = umap_reducer.fit_transform(df_reduzido)\n",
    "\n",
    "    # Converter os dados reduzidos para um DataFrame\n",
    "    reduced_df = pd.DataFrame(reduced_data, columns=['Component_1', 'Component_2'])\n",
    "    df[f'{tipo} Cluster'] = clusters_gmm\n",
    "\n",
    "    # Plotar os clusters\n",
    "    plt.figure(figsize=(10, 8))\n",
    "\n",
    "    # Plotar os pontos com cores diferentes para cada cluster\n",
    "    scatter = plt.scatter(\n",
    "        reduced_df['Component_1'], \n",
    "        reduced_df['Component_2'], \n",
    "        c=reduced_df['Cluster'], \n",
    "        cmap='viridis', \n",
    "        marker='o'\n",
    "    )\n",
    "\n",
    "    # Adicionar uma barra de cores\n",
    "    plt.colorbar(scatter, label='Cluster')\n",
    "\n",
    "    # Adicionar labels e título\n",
    "    plt.xlabel('Componente 1')\n",
    "    plt.ylabel('Componente 2')\n",
    "    plt.title(f'Clusters Identificados pelo GMM das features {tipo}')\n",
    "\n",
    "    # Exibir o gráfico\n",
    "    plt.show()"
   ]
  },
  {
   "cell_type": "code",
   "execution_count": null,
   "metadata": {},
   "outputs": [],
   "source": [
    "gmm2 = GaussianMixture(n_components=3, random_state=42,covariance_type='spherical',init_params='random')\n",
    "gmm1 = GaussianMixture(n_components=2, random_state=42,covariance_type='tied')\n",
    "\n",
    "plot_gmm(gmm2, 'interseccao',results,final_data_missforest_umap_interseccao)\n",
    "plot_gmm(gmm1, 'todas', results,final_data_missforest_umap)"
   ]
  },
  {
   "cell_type": "code",
   "execution_count": 37,
   "metadata": {},
   "outputs": [],
   "source": [
    "results.to_csv('final_clusters_gmm.csv',index=False)"
   ]
  },
  {
   "cell_type": "code",
   "execution_count": null,
   "metadata": {},
   "outputs": [],
   "source": [
    "max_plots_per_figure = 16\n",
    "\n",
    "# Função para plotar boxplots\n",
    "def plot_boxplots(df, columns, max_plots_per_figure):\n",
    "    num_columns = len(columns)\n",
    "    num_figures = (num_columns + max_plots_per_figure - 1) // max_plots_per_figure  # Calcula o número de figuras necessárias\n",
    "    \n",
    "    for i in range(num_figures):\n",
    "        plt.figure(figsize=(20, 15))\n",
    "        start = i * max_plots_per_figure\n",
    "        end = min(start + max_plots_per_figure, num_columns)\n",
    "        \n",
    "        for j, column in enumerate(columns[start:end]):\n",
    "            plt.subplot((max_plots_per_figure // 4) + 1, 4, j + 1)\n",
    "            sns.boxplot(x='Cluster', y=column, data=df)\n",
    "            plt.title(column)\n",
    "            plt.xlabel('')\n",
    "            plt.ylabel('')\n",
    "        \n",
    "        plt.tight_layout()\n",
    "        plt.show()\n",
    "\n",
    "# Plotar os boxplots\n",
    "plot_boxplots(results, exams_columns, max_plots_per_figure)"
   ]
  },
  {
   "cell_type": "code",
   "execution_count": null,
   "metadata": {},
   "outputs": [],
   "source": [
    "results.columns"
   ]
  },
  {
   "cell_type": "code",
   "execution_count": null,
   "metadata": {},
   "outputs": [],
   "source": [
    "# Definir as colunas categóricas\n",
    "categorical_columns = ['Ethnicity', 'Gender']\n",
    "\n",
    "# Função para calcular a frequência das categorias para cada cluster\n",
    "def calculate_frequency(df, categorical_columns):\n",
    "    frequency_dfs = {}\n",
    "    for column in categorical_columns:\n",
    "        freq_df = df.groupby(['Cluster', column]).size().unstack(fill_value=0)\n",
    "        frequency_dfs[column] = freq_df\n",
    "    return frequency_dfs\n",
    "\n",
    "# Calcular a frequência das categorias\n",
    "frequency_dfs = calculate_frequency(results, categorical_columns)\n",
    "\n",
    "# Plotar as frequências\n",
    "def plot_frequencies(frequency_dfs):\n",
    "    for column, freq_df in frequency_dfs.items():\n",
    "        plt.figure(figsize=(12, 6))\n",
    "        freq_df.plot(kind='bar', stacked=True, colormap='viridis')\n",
    "        plt.title(f'Frequência de {column} por Cluster')\n",
    "        plt.xlabel('Cluster')\n",
    "        plt.ylabel('Frequência')\n",
    "        plt.legend(title=column)\n",
    "        plt.show()\n",
    "\n",
    "# Plotar as frequências\n",
    "plot_frequencies(frequency_dfs)"
   ]
  }
 ],
 "metadata": {
  "kernelspec": {
   "display_name": "base",
   "language": "python",
   "name": "python3"
  },
  "language_info": {
   "codemirror_mode": {
    "name": "ipython",
    "version": 3
   },
   "file_extension": ".py",
   "mimetype": "text/x-python",
   "name": "python",
   "nbconvert_exporter": "python",
   "pygments_lexer": "ipython3",
   "version": "3.12.0"
  }
 },
 "nbformat": 4,
 "nbformat_minor": 2
}
