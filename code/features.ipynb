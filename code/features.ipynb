{
 "cells": [
  {
   "cell_type": "markdown",
   "metadata": {},
   "source": [
    "### cabeçalho"
   ]
  },
  {
   "cell_type": "markdown",
   "metadata": {},
   "source": [
    "#### importações"
   ]
  },
  {
   "cell_type": "code",
   "execution_count": null,
   "metadata": {},
   "outputs": [],
   "source": [
    "import pandas as pd\n",
    "import matplotlib.pyplot as plt\n",
    "import numpy as np\n",
    "from IPython.display import display"
   ]
  },
  {
   "cell_type": "markdown",
   "metadata": {},
   "source": [
    "#### lendo as bases"
   ]
  },
  {
   "cell_type": "code",
   "execution_count": null,
   "metadata": {},
   "outputs": [],
   "source": [
    "URL_BASES = \"./../Databases/test/\"\n",
    "patient_csv = \"patient.csv\"\n",
    "infusiondrug = \"infusiondrug.csv\"\n",
    "physicalExam = \"physicalExam.csv\"\n",
    "lab = \"lab.csv\"\n",
    "\n",
    "url_patient = URL_BASES + patient_csv\n",
    "url_infusiondrug = URL_BASES + infusiondrug\n",
    "url_physicalExam = URL_BASES + physicalExam\n",
    "url_lab = URL_BASES + lab\n",
    "\n",
    "comeco_intervalo = 60 * 0\n",
    "final_intervalo = 60 * 24"
   ]
  },
  {
   "cell_type": "markdown",
   "metadata": {},
   "source": [
    "#### pacientes septicos"
   ]
  },
  {
   "cell_type": "code",
   "execution_count": null,
   "metadata": {},
   "outputs": [],
   "source": [
    "df_patient = pd.read_csv(url_patient)\n",
    "sepsis = df_patient[df_patient['apacheadmissiondx'].str.contains('sepsis', case=False, na=False)].reset_index()\n",
    "sepsis = sepsis[['patientunitstayid','gender','age']]\n",
    "del df_patient\n",
    "sepsis.head()"
   ]
  },
  {
   "cell_type": "markdown",
   "metadata": {},
   "source": [
    "### tudo sobre physical exam"
   ]
  },
  {
   "cell_type": "markdown",
   "metadata": {},
   "source": [
    "#### 24 horas physical exam"
   ]
  },
  {
   "cell_type": "code",
   "execution_count": null,
   "metadata": {},
   "outputs": [],
   "source": [
    "df_physicalExam = pd.read_csv(url_physicalExam)\n",
    "df_physicalExam_24 = df_physicalExam[(df_physicalExam[\"physicalexamoffset\"]>=comeco_intervalo) &  (df_physicalExam[\"physicalexamoffset\"]<=final_intervalo)]\n",
    "df_physicalExam_24 = pd.merge(sepsis['patientunitstayid'],df_physicalExam_24,on='patientunitstayid')\n",
    "del df_physicalExam"
   ]
  },
  {
   "cell_type": "markdown",
   "metadata": {},
   "source": [
    "#### cada feature individual"
   ]
  },
  {
   "cell_type": "code",
   "execution_count": null,
   "metadata": {},
   "outputs": [],
   "source": [
    "def filter_exam(df, exam_name):\n",
    "    return df[df['physicalexampath'].str.contains(exam_name, case=False, na=False)]\n",
    "\n",
    "motor = filter_exam(df_physicalExam_24,'Motor Score')\n",
    "eyes = filter_exam(df_physicalExam_24,'Eyes Score')\n",
    "verbal = filter_exam(df_physicalExam_24,'Verbal Score')\n",
    "systolic = filter_exam(df_physicalExam_24,'(systolic)')\n",
    "systolic = filter_exam(systolic,'Current')\n",
    "diastolic = filter_exam(df_physicalExam_24,'(diastolic)')\n",
    "diastolic = filter_exam(diastolic,'Current')\n",
    "ox_saturation = filter_exam(df_physicalExam_24,'O2 Sat%')\n",
    "ox_saturation = filter_exam(ox_saturation,'Current')\n",
    "heartRate = filter_exam(df_physicalExam_24,'HR Current')\n",
    "\n",
    "del df_physicalExam_24"
   ]
  },
  {
   "cell_type": "markdown",
   "metadata": {},
   "source": [
    "#### editando as features"
   ]
  },
  {
   "cell_type": "code",
   "execution_count": null,
   "metadata": {},
   "outputs": [],
   "source": [
    "def edit_feature_exam(df,exam_name):\n",
    "    df.drop(['physicalexamid', 'physicalexampath', 'physicalexamvalue'], axis=1, inplace=True)\n",
    "    df.rename(columns={'physicalexamtext': exam_name}, inplace = True)\n",
    "\n",
    "edit_feature_exam(motor,'motor')\n",
    "edit_feature_exam(eyes,'eyes')\n",
    "edit_feature_exam(verbal,'verbal')\n",
    "edit_feature_exam(systolic,'systolic')\n",
    "edit_feature_exam(diastolic,'diastolic')\n",
    "edit_feature_exam(ox_saturation,'ox_saturation')\n",
    "edit_feature_exam(heartRate,'heartRate')"
   ]
  },
  {
   "cell_type": "markdown",
   "metadata": {},
   "source": [
    "#### merge"
   ]
  },
  {
   "cell_type": "code",
   "execution_count": null,
   "metadata": {},
   "outputs": [],
   "source": [
    "\n",
    "df_physicalExam_24 = pd.merge(motor, eyes, on=['patientunitstayid','physicalexamoffset'],how='outer')\n",
    "df_physicalExam_24 = pd.merge(df_physicalExam_24, verbal, on=['patientunitstayid','physicalexamoffset'],how='outer')\n",
    "df_physicalExam_24 = pd.merge(df_physicalExam_24, systolic, on=['patientunitstayid','physicalexamoffset'],how='outer')\n",
    "df_physicalExam_24 = pd.merge(df_physicalExam_24, diastolic, on=['patientunitstayid','physicalexamoffset'],how='outer')\n",
    "df_physicalExam_24 = pd.merge(df_physicalExam_24, ox_saturation, on=['patientunitstayid','physicalexamoffset'],how='outer')\n",
    "df_physicalExam_24 = pd.merge(df_physicalExam_24, heartRate, on=['patientunitstayid','physicalexamoffset'],how='outer')\n",
    "\n",
    "del motor\n",
    "del verbal\n",
    "del eyes\n",
    "del systolic\n",
    "del diastolic\n",
    "del ox_saturation\n",
    "del heartRate"
   ]
  },
  {
   "cell_type": "code",
   "execution_count": null,
   "metadata": {},
   "outputs": [],
   "source": [
    "df_physicalExam_24.head(50)"
   ]
  },
  {
   "cell_type": "markdown",
   "metadata": {},
   "source": [
    "#### Mean arterial presure"
   ]
  },
  {
   "cell_type": "code",
   "execution_count": null,
   "metadata": {},
   "outputs": [],
   "source": [
    "# Tenta converter colunas para inteiro e usa pd.to_numeric com errors='coerce' em caso de falha\n",
    "df_physicalExam_24[\"diastolic\"] = pd.to_numeric(df_physicalExam_24[\"diastolic\"], errors='coerce')\n",
    "df_physicalExam_24[\"systolic\"] = pd.to_numeric(df_physicalExam_24[\"systolic\"], errors='coerce')\n",
    "\n",
    "# Calcula o MAP (Mean Arterial Pressure) ignorando automaticamente valores nulos\n",
    "df_physicalExam_24['MAP'] = (df_physicalExam_24['systolic'] + 2 * df_physicalExam_24['diastolic']) / 3\n"
   ]
  },
  {
   "cell_type": "markdown",
   "metadata": {},
   "source": [
    "#### Glasgow Coma Scale"
   ]
  },
  {
   "cell_type": "code",
   "execution_count": null,
   "metadata": {},
   "outputs": [],
   "source": [
    "df_physicalExam_24['GCS'] = df_physicalExam_24['motor'] + df_physicalExam_24['verbal'] + df_physicalExam_24['eyes']"
   ]
  },
  {
   "cell_type": "code",
   "execution_count": null,
   "metadata": {},
   "outputs": [],
   "source": [
    "df_physicalExam_24.to_csv((URL_BASES+'physicalexam24.csv'),index=False)"
   ]
  },
  {
   "cell_type": "markdown",
   "metadata": {},
   "source": [
    "### tudo sobre lab"
   ]
  },
  {
   "cell_type": "markdown",
   "metadata": {},
   "source": [
    "#### 24 horas lab"
   ]
  },
  {
   "cell_type": "code",
   "execution_count": null,
   "metadata": {},
   "outputs": [],
   "source": [
    "df_lab = pd.read_csv(url_lab)\n",
    "df_lab_24 = df_lab.loc[(df_lab[\"labresultoffset\"] >= comeco_intervalo) & (df_lab[\"labresultoffset\"] <= final_intervalo)]\n",
    "df_lab_24 = pd.merge(sepsis['patientunitstayid'],df_lab_24,on='patientunitstayid')\n",
    "df_lab_24.sort_values(by=['patientunitstayid','labresultoffset'],inplace=True)\n",
    "del df_lab\n",
    "\n",
    "def filter_lab(df, lab_name):\n",
    "    return df[df['labname'].str.contains(lab_name, case=False, na=False)]\n",
    "\n",
    "def edit_feature_lab(df,lab_name):\n",
    "    df.drop(['labid','labtypeid','labname','labresultrevisedoffset'],axis=1,inplace=True)\n",
    "    df.rename(columns={'labresult': lab_name, 'labresulttext' : (lab_name+'resulttext'), 'labmeasurenamesystem' : (lab_name+'.unidMedida'), 'labmeasurenameinterface': (lab_name+'.measureInterface')},inplace=True)\n"
   ]
  },
  {
   "cell_type": "markdown",
   "metadata": {},
   "source": [
    "#### inflamatory"
   ]
  },
  {
   "cell_type": "code",
   "execution_count": null,
   "metadata": {},
   "outputs": [],
   "source": [
    "bands = filter_lab(df_lab_24, 'bands')\n",
    "CRP = filter_lab(df_lab_24, 'CRP')\n",
    "ESR = filter_lab(df_lab_24, 'ESR')\n",
    "Temperature = filter_lab(df_lab_24, 'Temp')\n",
    "WBC = filter_lab(df_lab_24, 'WBC x 1000')\n",
    "\n",
    "edit_feature_lab(bands,'bands')\n",
    "edit_feature_lab(CRP,'CRP')\n",
    "edit_feature_lab(ESR,'ESR')\n",
    "edit_feature_lab(Temperature,'Temperature')\n",
    "Temperature['celsius'] = 0\n",
    "Temperature['Temperatureresulttext'] = Temperature['Temperatureresulttext'].astype(float)\n",
    "Temperature['celsius'] = Temperature['Temperatureresulttext'].map(lambda x: x if x < 60 else (x - 32) * 5/9)\n",
    "edit_feature_lab(WBC,'WBC')"
   ]
  },
  {
   "cell_type": "code",
   "execution_count": null,
   "metadata": {},
   "outputs": [],
   "source": [
    "inflamatory = pd.merge(bands,CRP, on=['patientunitstayid','labresultoffset'], how='outer')\n",
    "inflamatory = pd.merge(inflamatory,ESR, on=['patientunitstayid','labresultoffset'], how='outer')\n",
    "inflamatory = pd.merge(inflamatory,Temperature, on=['patientunitstayid','labresultoffset'], how='outer')\n",
    "inflamatory = pd.merge(inflamatory,WBC, on=['patientunitstayid','labresultoffset'], how='outer')\n",
    "inflamatory.head()"
   ]
  },
  {
   "cell_type": "markdown",
   "metadata": {},
   "source": [
    "#### Renal"
   ]
  },
  {
   "cell_type": "code",
   "execution_count": null,
   "metadata": {},
   "outputs": [],
   "source": [
    "BUN = filter_lab(df_lab_24, 'BUN')\n",
    "creatinine = filter_lab(df_lab_24, 'creatinine')\n",
    "\n",
    "edit_feature_lab(BUN,'BUN')\n",
    "edit_feature_lab(creatinine,'creatinine')"
   ]
  },
  {
   "cell_type": "code",
   "execution_count": null,
   "metadata": {},
   "outputs": [],
   "source": [
    "Renal = pd.merge(BUN,creatinine,on=['patientunitstayid','labresultoffset'],how='outer')\n",
    "Renal.head()"
   ]
  },
  {
   "cell_type": "markdown",
   "metadata": {},
   "source": [
    "#### cardiac"
   ]
  },
  {
   "cell_type": "code",
   "execution_count": null,
   "metadata": {},
   "outputs": [],
   "source": [
    "bicarbonate = filter_lab(df_lab_24, 'bicarbonate')\n",
    "lactate = filter_lab(df_lab_24, 'lactate')\n",
    "troponin = filter_lab(df_lab_24, 'troponin')\n",
    "\n",
    "edit_feature_lab(bicarbonate,'bicarbonate')\n",
    "edit_feature_lab(lactate,'lactate')\n",
    "edit_feature_lab(troponin,'troponin')"
   ]
  },
  {
   "cell_type": "code",
   "execution_count": null,
   "metadata": {},
   "outputs": [],
   "source": [
    "Cardiac = pd.merge(bicarbonate,lactate,on=['patientunitstayid','labresultoffset'],how='outer')\n",
    "Cardiac = pd.merge(Cardiac,troponin,on=['patientunitstayid','labresultoffset'],how='outer')\n",
    "Cardiac.head()"
   ]
  },
  {
   "cell_type": "markdown",
   "metadata": {},
   "source": [
    "#### Pulmonary"
   ]
  },
  {
   "cell_type": "code",
   "execution_count": null,
   "metadata": {},
   "outputs": [],
   "source": [
    "pao2 = filter_lab(df_lab_24, 'paO2')\n",
    "respiratory_rate = filter_lab(df_lab_24, 'Respiratory Rate')\n",
    "\n",
    "edit_feature_lab(pao2,'pao2')\n",
    "edit_feature_lab(respiratory_rate, 'RR')"
   ]
  },
  {
   "cell_type": "code",
   "execution_count": null,
   "metadata": {},
   "outputs": [],
   "source": [
    "Pulmonary = pd.merge(pao2,respiratory_rate,on=['patientunitstayid','labresultoffset'],how='outer')\n",
    "Pulmonary.head()"
   ]
  },
  {
   "cell_type": "markdown",
   "metadata": {},
   "source": [
    "#### Hepatic"
   ]
  },
  {
   "cell_type": "code",
   "execution_count": null,
   "metadata": {},
   "outputs": [],
   "source": [
    "alanine = filter_lab(df_lab_24, 'ALT')\n",
    "aspartate = filter_lab(df_lab_24, 'AST')\n",
    "bilirubin = filter_lab(df_lab_24, 'bilirubin')\n",
    "\n",
    "edit_feature_lab(bilirubin,'bilirubin')\n",
    "edit_feature_lab(alanine,'alanine')\n",
    "edit_feature_lab(aspartate,'aspartate')"
   ]
  },
  {
   "cell_type": "code",
   "execution_count": null,
   "metadata": {},
   "outputs": [],
   "source": [
    "Hepatic = pd.merge(alanine,aspartate,on=['patientunitstayid','labresultoffset'],how='outer')\n",
    "Hepatic = pd.merge(Hepatic, bilirubin,on=['patientunitstayid','labresultoffset'],how='outer')\n",
    "\n",
    "Hepatic.head()"
   ]
  },
  {
   "cell_type": "markdown",
   "metadata": {},
   "source": [
    "#### Hematologic"
   ]
  },
  {
   "cell_type": "code",
   "execution_count": null,
   "metadata": {},
   "outputs": [],
   "source": [
    "hemoglobin = filter_lab(df_lab_24, 'Hgb')\n",
    "inr = filter_lab(df_lab_24, 'INR')\n",
    "platelets = filter_lab(df_lab_24, 'platelets')\n",
    "\n",
    "edit_feature_lab(hemoglobin,'hemoglobin')\n",
    "edit_feature_lab(inr,'inr')\n",
    "edit_feature_lab(platelets,'platelets')"
   ]
  },
  {
   "cell_type": "code",
   "execution_count": null,
   "metadata": {},
   "outputs": [],
   "source": [
    "Hematologic = pd.merge(hemoglobin,inr,on=['patientunitstayid','labresultoffset'],how='outer')\n",
    "Hematologic = pd.merge(Hematologic,platelets,on=['patientunitstayid','labresultoffset'],how='outer')\n",
    "\n",
    "Hematologic.head()"
   ]
  },
  {
   "cell_type": "markdown",
   "metadata": {},
   "source": [
    "#### Serum levels"
   ]
  },
  {
   "cell_type": "code",
   "execution_count": null,
   "metadata": {},
   "outputs": [],
   "source": [
    "albumin = filter_lab(df_lab_24, 'albumin')\n",
    "chloride = filter_lab(df_lab_24, 'chloride')\n",
    "glucose = filter_lab(df_lab_24, 'glucose')\n",
    "sodium = filter_lab(df_lab_24, 'sodium')\n",
    "\n",
    "edit_feature_lab(albumin,'albumin')\n",
    "edit_feature_lab(chloride,'chloride')\n",
    "edit_feature_lab(glucose,'glucose')\n",
    "edit_feature_lab(sodium,'sodium')"
   ]
  },
  {
   "cell_type": "code",
   "execution_count": null,
   "metadata": {},
   "outputs": [],
   "source": [
    "SerumLevel = pd.merge(albumin,chloride,on=['patientunitstayid','labresultoffset'],how='outer')\n",
    "SerumLevel = pd.merge(SerumLevel,glucose,on=['patientunitstayid','labresultoffset'],how='outer')\n",
    "SerumLevel = pd.merge(SerumLevel,sodium,on=['patientunitstayid','labresultoffset'],how='outer')\n",
    "\n",
    "SerumLevel.head()"
   ]
  },
  {
   "cell_type": "markdown",
   "metadata": {},
   "source": [
    "#### lab final"
   ]
  },
  {
   "cell_type": "code",
   "execution_count": null,
   "metadata": {},
   "outputs": [],
   "source": [
    "df_lab_24.head(10000)"
   ]
  },
  {
   "cell_type": "markdown",
   "metadata": {},
   "source": [
    "### tudo sobre infusion drug"
   ]
  },
  {
   "cell_type": "code",
   "execution_count": null,
   "metadata": {},
   "outputs": [],
   "source": [
    "df_infusiondrug = pd.read_csv(url_infusiondrug)\n",
    "df_infusiondrug_24 = df_infusiondrug[(df_infusiondrug[\"infusionoffset\"]>=comeco_intervalo) &  (df_infusiondrug[\"infusionoffset\"]<=final_intervalo)]\n",
    "df_infusiondrug_24 = pd.merge(sepsis['patientunitstayid'],df_infusiondrug_24,on='patientunitstayid')\n",
    "del df_infusiondrug"
   ]
  },
  {
   "cell_type": "code",
   "execution_count": null,
   "metadata": {},
   "outputs": [],
   "source": [
    "dopamine = df_infusiondrug_24[df_infusiondrug_24['drugname'].str.contains('Dopamine', case=False, na=False)]\n",
    "dobutamine = df_infusiondrug_24[df_infusiondrug_24['drugname'].str.contains('Dobutamine', case=False, na=False)]\n",
    "epinephrine = df_infusiondrug_24[df_infusiondrug_24['drugname'].str.contains('Epinephrine', case=False, na=False)]\n",
    "norepinephrine = df_infusiondrug_24[df_infusiondrug_24['drugname'].str.contains('Norepinephrine', case=False, na=False)]\n",
    "\n",
    "del df_infusiondrug_24"
   ]
  },
  {
   "cell_type": "markdown",
   "metadata": {},
   "source": [
    "#### editando as features"
   ]
  },
  {
   "cell_type": "code",
   "execution_count": null,
   "metadata": {},
   "outputs": [],
   "source": []
  }
 ],
 "metadata": {
  "kernelspec": {
   "display_name": "Python 3 (ipykernel)",
   "language": "python",
   "name": "python3"
  },
  "language_info": {
   "codemirror_mode": {
    "name": "ipython",
    "version": 3
   },
   "file_extension": ".py",
   "mimetype": "text/x-python",
   "name": "python",
   "nbconvert_exporter": "python",
   "pygments_lexer": "ipython3",
   "version": "3.10.12"
  }
 },
 "nbformat": 4,
 "nbformat_minor": 2
}
