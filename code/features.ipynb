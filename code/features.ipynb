{
 "cells": [
  {
   "cell_type": "markdown",
   "metadata": {},
   "source": [
    "### cabeçalho"
   ]
  },
  {
   "cell_type": "markdown",
   "metadata": {},
   "source": [
    "#### importações"
   ]
  },
  {
   "cell_type": "code",
   "execution_count": 1,
   "metadata": {},
   "outputs": [],
   "source": [
    "import pandas as pd\n",
    "import matplotlib.pyplot as plt\n",
    "import numpy as np\n",
    "from IPython.display import display"
   ]
  },
  {
   "cell_type": "markdown",
   "metadata": {},
   "source": [
    "#### lendo as bases"
   ]
  },
  {
   "cell_type": "code",
   "execution_count": 18,
   "metadata": {},
   "outputs": [],
   "source": [
    "URL_BASES = \"./../Databases/test/\"\n",
    "patient_csv = \"patient.csv\"\n",
    "infusiondrug = \"infusiondrug.csv\"\n",
    "physicalExam = \"physicalExam.csv\"\n",
    "lab = \"lab.csv\"\n",
    "\n",
    "url_patient = URL_BASES + patient_csv\n",
    "url_infusiondrug = URL_BASES + infusiondrug\n",
    "url_physicalExam = URL_BASES + physicalExam\n",
    "url_lab = URL_BASES + lab\n"
   ]
  },
  {
   "cell_type": "markdown",
   "metadata": {},
   "source": [
    "#### pacientes septicos"
   ]
  },
  {
   "cell_type": "code",
   "execution_count": 3,
   "metadata": {},
   "outputs": [
    {
     "data": {
      "text/html": [
       "<div>\n",
       "<style scoped>\n",
       "    .dataframe tbody tr th:only-of-type {\n",
       "        vertical-align: middle;\n",
       "    }\n",
       "\n",
       "    .dataframe tbody tr th {\n",
       "        vertical-align: top;\n",
       "    }\n",
       "\n",
       "    .dataframe thead th {\n",
       "        text-align: right;\n",
       "    }\n",
       "</style>\n",
       "<table border=\"1\" class=\"dataframe\">\n",
       "  <thead>\n",
       "    <tr style=\"text-align: right;\">\n",
       "      <th></th>\n",
       "      <th>patientunitstayid</th>\n",
       "    </tr>\n",
       "  </thead>\n",
       "  <tbody>\n",
       "    <tr>\n",
       "      <th>0</th>\n",
       "      <td>151179</td>\n",
       "    </tr>\n",
       "    <tr>\n",
       "      <th>1</th>\n",
       "      <td>151900</td>\n",
       "    </tr>\n",
       "    <tr>\n",
       "      <th>2</th>\n",
       "      <td>156308</td>\n",
       "    </tr>\n",
       "    <tr>\n",
       "      <th>3</th>\n",
       "      <td>162841</td>\n",
       "    </tr>\n",
       "    <tr>\n",
       "      <th>4</th>\n",
       "      <td>166175</td>\n",
       "    </tr>\n",
       "  </tbody>\n",
       "</table>\n",
       "</div>"
      ],
      "text/plain": [
       "   patientunitstayid\n",
       "0             151179\n",
       "1             151900\n",
       "2             156308\n",
       "3             162841\n",
       "4             166175"
      ]
     },
     "execution_count": 3,
     "metadata": {},
     "output_type": "execute_result"
    }
   ],
   "source": [
    "df_patient = pd.read_csv(url_patient)\n",
    "sepsis = df_patient[df_patient['apacheadmissiondx'].str.contains('sepsis', case=False, na=False)].reset_index()\n",
    "sepsis = sepsis[['patientunitstayid']]\n",
    "del df_patient\n",
    "sepsis.head()"
   ]
  },
  {
   "cell_type": "markdown",
   "metadata": {},
   "source": [
    "#### 24 horas lab"
   ]
  },
  {
   "cell_type": "code",
   "execution_count": 11,
   "metadata": {},
   "outputs": [],
   "source": [
    "df_lab = pd.read_csv(url_lab)\n",
    "df_lab_24 = df_lab.loc[(df_lab[\"labresultoffset\"] >= 0) & (df_lab[\"labresultoffset\"] <= 24*60)]\n",
    "df_lab_24 = pd.merge(sepsis,df_lab_24,on='patientunitstayid')\n",
    "del df_lab"
   ]
  },
  {
   "cell_type": "markdown",
   "metadata": {},
   "source": [
    "#### 24 horas infusion drug"
   ]
  },
  {
   "cell_type": "code",
   "execution_count": null,
   "metadata": {},
   "outputs": [],
   "source": [
    "df_infusiondrug = pd.read_csv(url_infusiondrug)\n",
    "df_infusiondrug_24 = df_infusiondrug[(df_infusiondrug[\"infusionoffset\"]>=0) &  (df_infusiondrug[\"infusionoffset\"]<=60*24)]\n",
    "df_infusiondrug_24 = pd.merge(sepsis,df_infusiondrug_24,on='patientunitstayid')\n",
    "del df_infusiondrug"
   ]
  },
  {
   "cell_type": "markdown",
   "metadata": {},
   "source": [
    "### tudo sobre physical exam"
   ]
  },
  {
   "cell_type": "markdown",
   "metadata": {},
   "source": [
    "#### 24 horas physical exam"
   ]
  },
  {
   "cell_type": "code",
   "execution_count": 23,
   "metadata": {},
   "outputs": [],
   "source": [
    "df_physicalExam = pd.read_csv(url_physicalExam)\n",
    "df_physicalExam_24 = df_physicalExam[(df_physicalExam[\"physicalexamoffset\"]>=0) &  (df_physicalExam[\"physicalexamoffset\"]<=60*24)]\n",
    "df_physicalExam_24 = pd.merge(sepsis,df_physicalExam_24,on='patientunitstayid')\n",
    "del df_physicalExam"
   ]
  },
  {
   "cell_type": "markdown",
   "metadata": {},
   "source": [
    "#### cada feature individual"
   ]
  },
  {
   "cell_type": "code",
   "execution_count": 24,
   "metadata": {},
   "outputs": [
    {
     "name": "stderr",
     "output_type": "stream",
     "text": [
      "/tmp/ipykernel_141490/1620324637.py:2: UserWarning: This pattern is interpreted as a regular expression, and has match groups. To actually get the groups, use str.extract.\n",
      "  return df[df['physicalexampath'].str.contains(exam_name, case=False, na=False)]\n"
     ]
    }
   ],
   "source": [
    "def filter_exam(df, exam_name):\n",
    "    return df[df['physicalexampath'].str.contains(exam_name, case=False, na=False)]\n",
    "\n",
    "motor = filter_exam(df_physicalExam_24,'Motor Score')\n",
    "eyes = filter_exam(df_physicalExam_24,'Eyes Score')\n",
    "verbal = filter_exam(df_physicalExam_24,'Verbal Score')\n",
    "systolic = filter_exam(df_physicalExam_24,'(systolic)')\n",
    "systolic = filter_exam(systolic,'Current')\n",
    "diastolic = filter_exam(df_physicalExam_24,'(diastolic)')\n",
    "diastolic = filter_exam(diastolic,'Current')\n",
    "ox_saturation = filter_exam(df_physicalExam_24,'O2 Sat%')\n",
    "ox_saturation = filter_exam(ox_saturation,'Current')\n",
    "heartRate = filter_exam(df_physicalExam_24,'HR Current')\n",
    "\n",
    "del df_physicalExam_24"
   ]
  },
  {
   "cell_type": "markdown",
   "metadata": {},
   "source": [
    "#### editando as features"
   ]
  },
  {
   "cell_type": "code",
   "execution_count": 25,
   "metadata": {},
   "outputs": [],
   "source": [
    "def edit_feature_exam(df,exam_name):\n",
    "    df.drop(['physicalexamid', 'physicalexampath', 'physicalexamvalue'], axis=1, inplace=True)\n",
    "    df.rename(columns={'physicalexamtext': exam_name}, inplace = True)\n",
    "\n",
    "edit_feature_exam(motor,'motor')\n",
    "edit_feature_exam(eyes,'eyes')\n",
    "edit_feature_exam(verbal,'verbal')\n",
    "edit_feature_exam(systolic,'systolic')\n",
    "edit_feature_exam(diastolic,'diastolic')\n",
    "edit_feature_exam(ox_saturation,'ox_saturation')\n",
    "edit_feature_exam(heartRate,'heartRate')"
   ]
  },
  {
   "cell_type": "code",
   "execution_count": 26,
   "metadata": {},
   "outputs": [
    {
     "data": {
      "text/html": [
       "<div>\n",
       "<style scoped>\n",
       "    .dataframe tbody tr th:only-of-type {\n",
       "        vertical-align: middle;\n",
       "    }\n",
       "\n",
       "    .dataframe tbody tr th {\n",
       "        vertical-align: top;\n",
       "    }\n",
       "\n",
       "    .dataframe thead th {\n",
       "        text-align: right;\n",
       "    }\n",
       "</style>\n",
       "<table border=\"1\" class=\"dataframe\">\n",
       "  <thead>\n",
       "    <tr style=\"text-align: right;\">\n",
       "      <th></th>\n",
       "      <th>patientunitstayid</th>\n",
       "      <th>physicalexamoffset</th>\n",
       "      <th>systolic</th>\n",
       "    </tr>\n",
       "  </thead>\n",
       "  <tbody>\n",
       "    <tr>\n",
       "      <th>5</th>\n",
       "      <td>151179</td>\n",
       "      <td>18</td>\n",
       "      <td>57</td>\n",
       "    </tr>\n",
       "    <tr>\n",
       "      <th>71</th>\n",
       "      <td>179269</td>\n",
       "      <td>108</td>\n",
       "      <td>93</td>\n",
       "    </tr>\n",
       "    <tr>\n",
       "      <th>120</th>\n",
       "      <td>193665</td>\n",
       "      <td>75</td>\n",
       "      <td>105</td>\n",
       "    </tr>\n",
       "    <tr>\n",
       "      <th>167</th>\n",
       "      <td>205928</td>\n",
       "      <td>79</td>\n",
       "      <td>90</td>\n",
       "    </tr>\n",
       "    <tr>\n",
       "      <th>200</th>\n",
       "      <td>219983</td>\n",
       "      <td>2</td>\n",
       "      <td>159</td>\n",
       "    </tr>\n",
       "    <tr>\n",
       "      <th>...</th>\n",
       "      <td>...</td>\n",
       "      <td>...</td>\n",
       "      <td>...</td>\n",
       "    </tr>\n",
       "    <tr>\n",
       "      <th>7354</th>\n",
       "      <td>3235765</td>\n",
       "      <td>2</td>\n",
       "      <td>104</td>\n",
       "    </tr>\n",
       "    <tr>\n",
       "      <th>7368</th>\n",
       "      <td>3327376</td>\n",
       "      <td>49</td>\n",
       "      <td>77</td>\n",
       "    </tr>\n",
       "    <tr>\n",
       "      <th>7395</th>\n",
       "      <td>3329305</td>\n",
       "      <td>19</td>\n",
       "      <td>93</td>\n",
       "    </tr>\n",
       "    <tr>\n",
       "      <th>7420</th>\n",
       "      <td>3341168</td>\n",
       "      <td>70</td>\n",
       "      <td>129</td>\n",
       "    </tr>\n",
       "    <tr>\n",
       "      <th>7439</th>\n",
       "      <td>3341168</td>\n",
       "      <td>1183</td>\n",
       "      <td>112</td>\n",
       "    </tr>\n",
       "  </tbody>\n",
       "</table>\n",
       "<p>279 rows × 3 columns</p>\n",
       "</div>"
      ],
      "text/plain": [
       "      patientunitstayid  physicalexamoffset systolic\n",
       "5                151179                  18       57\n",
       "71               179269                 108       93\n",
       "120              193665                  75      105\n",
       "167              205928                  79       90\n",
       "200              219983                   2      159\n",
       "...                 ...                 ...      ...\n",
       "7354            3235765                   2      104\n",
       "7368            3327376                  49       77\n",
       "7395            3329305                  19       93\n",
       "7420            3341168                  70      129\n",
       "7439            3341168                1183      112\n",
       "\n",
       "[279 rows x 3 columns]"
      ]
     },
     "execution_count": 26,
     "metadata": {},
     "output_type": "execute_result"
    }
   ],
   "source": [
    "systolic.head(1000)"
   ]
  },
  {
   "cell_type": "markdown",
   "metadata": {},
   "source": [
    "#### merge"
   ]
  },
  {
   "cell_type": "code",
   "execution_count": 27,
   "metadata": {},
   "outputs": [
    {
     "data": {
      "text/html": [
       "<div>\n",
       "<style scoped>\n",
       "    .dataframe tbody tr th:only-of-type {\n",
       "        vertical-align: middle;\n",
       "    }\n",
       "\n",
       "    .dataframe tbody tr th {\n",
       "        vertical-align: top;\n",
       "    }\n",
       "\n",
       "    .dataframe thead th {\n",
       "        text-align: right;\n",
       "    }\n",
       "</style>\n",
       "<table border=\"1\" class=\"dataframe\">\n",
       "  <thead>\n",
       "    <tr style=\"text-align: right;\">\n",
       "      <th></th>\n",
       "      <th>patientunitstayid</th>\n",
       "      <th>physicalexamoffset</th>\n",
       "      <th>motor</th>\n",
       "      <th>eyes</th>\n",
       "      <th>verbal</th>\n",
       "      <th>systolic</th>\n",
       "      <th>diastolic</th>\n",
       "      <th>ox_saturation</th>\n",
       "      <th>heartRate</th>\n",
       "    </tr>\n",
       "  </thead>\n",
       "  <tbody>\n",
       "    <tr>\n",
       "      <th>0</th>\n",
       "      <td>151179</td>\n",
       "      <td>18</td>\n",
       "      <td>6</td>\n",
       "      <td>4</td>\n",
       "      <td>5</td>\n",
       "      <td>57</td>\n",
       "      <td>34</td>\n",
       "      <td>94</td>\n",
       "      <td>125</td>\n",
       "    </tr>\n",
       "    <tr>\n",
       "      <th>1</th>\n",
       "      <td>156308</td>\n",
       "      <td>39</td>\n",
       "      <td>6</td>\n",
       "      <td>4</td>\n",
       "      <td>5</td>\n",
       "      <td>NaN</td>\n",
       "      <td>NaN</td>\n",
       "      <td>100</td>\n",
       "      <td>96</td>\n",
       "    </tr>\n",
       "    <tr>\n",
       "      <th>2</th>\n",
       "      <td>162841</td>\n",
       "      <td>2</td>\n",
       "      <td>6</td>\n",
       "      <td>4</td>\n",
       "      <td>5</td>\n",
       "      <td>NaN</td>\n",
       "      <td>NaN</td>\n",
       "      <td>NaN</td>\n",
       "      <td>NaN</td>\n",
       "    </tr>\n",
       "    <tr>\n",
       "      <th>3</th>\n",
       "      <td>166175</td>\n",
       "      <td>37</td>\n",
       "      <td>6</td>\n",
       "      <td>4</td>\n",
       "      <td>5</td>\n",
       "      <td>NaN</td>\n",
       "      <td>NaN</td>\n",
       "      <td>97</td>\n",
       "      <td>120</td>\n",
       "    </tr>\n",
       "    <tr>\n",
       "      <th>4</th>\n",
       "      <td>179269</td>\n",
       "      <td>108</td>\n",
       "      <td>1</td>\n",
       "      <td>1</td>\n",
       "      <td>1</td>\n",
       "      <td>93</td>\n",
       "      <td>47</td>\n",
       "      <td>93</td>\n",
       "      <td>102</td>\n",
       "    </tr>\n",
       "  </tbody>\n",
       "</table>\n",
       "</div>"
      ],
      "text/plain": [
       "   patientunitstayid  physicalexamoffset motor eyes verbal systolic diastolic  \\\n",
       "0             151179                  18     6    4      5       57        34   \n",
       "1             156308                  39     6    4      5      NaN       NaN   \n",
       "2             162841                   2     6    4      5      NaN       NaN   \n",
       "3             166175                  37     6    4      5      NaN       NaN   \n",
       "4             179269                 108     1    1      1       93        47   \n",
       "\n",
       "  ox_saturation heartRate  \n",
       "0            94       125  \n",
       "1           100        96  \n",
       "2           NaN       NaN  \n",
       "3            97       120  \n",
       "4            93       102  "
      ]
     },
     "execution_count": 27,
     "metadata": {},
     "output_type": "execute_result"
    }
   ],
   "source": [
    "\n",
    "df_physicalExam_24 = pd.merge(motor, eyes, on=['patientunitstayid','physicalexamoffset'],how='outer')\n",
    "df_physicalExam_24 = pd.merge(df_physicalExam_24, verbal, on=['patientunitstayid','physicalexamoffset'],how='outer')\n",
    "df_physicalExam_24 = pd.merge(df_physicalExam_24, systolic, on=['patientunitstayid','physicalexamoffset'],how='outer')\n",
    "df_physicalExam_24 = pd.merge(df_physicalExam_24, diastolic, on=['patientunitstayid','physicalexamoffset'],how='outer')\n",
    "df_physicalExam_24 = pd.merge(df_physicalExam_24, ox_saturation, on=['patientunitstayid','physicalexamoffset'],how='outer')\n",
    "df_physicalExam_24 = pd.merge(df_physicalExam_24, heartRate, on=['patientunitstayid','physicalexamoffset'],how='outer')\n",
    "\n",
    "del motor\n",
    "del verbal\n",
    "del eyes\n",
    "del systolic\n",
    "del diastolic\n",
    "del ox_saturation\n",
    "del heartRate\n",
    "\n",
    "df_physicalExam_24.head()"
   ]
  },
  {
   "cell_type": "markdown",
   "metadata": {},
   "source": [
    "#### Mean arterial presure"
   ]
  },
  {
   "cell_type": "code",
   "execution_count": 17,
   "metadata": {},
   "outputs": [],
   "source": [
    "# Tenta converter colunas para inteiro e usa pd.to_numeric com errors='coerce' em caso de falha\n",
    "df_physicalExam_24[\"diastolic\"] = pd.to_numeric(df_physicalExam_24[\"diastolic\"], errors='coerce')\n",
    "df_physicalExam_24[\"systolic\"] = pd.to_numeric(df_physicalExam_24[\"systolic\"], errors='coerce')\n",
    "\n",
    "# Calcula o MAP (Mean Arterial Pressure) ignorando automaticamente valores nulos\n",
    "df_physicalExam_24['MAP'] = (df_physicalExam_24['systolic'] + 2 * df_physicalExam_24['diastolic']) / 3\n"
   ]
  },
  {
   "cell_type": "code",
   "execution_count": 10,
   "metadata": {},
   "outputs": [],
   "source": [
    "df_physicalExam_24.to_csv((URL_BASES+'physicalexam24.csv'),index=False)"
   ]
  },
  {
   "cell_type": "markdown",
   "metadata": {},
   "source": [
    "### tudo sobre lab"
   ]
  },
  {
   "cell_type": "markdown",
   "metadata": {},
   "source": [
    "#### cada feature individual"
   ]
  },
  {
   "cell_type": "code",
   "execution_count": 12,
   "metadata": {},
   "outputs": [],
   "source": [
    "def filter_lab(df, lab_name):\n",
    "    return df[df['labname'].str.contains(lab_name, case=False, na=False)]\n",
    "\n",
    "alanine = filter_lab(df_lab_24, 'ALT')\n",
    "aspartate = filter_lab(df_lab_24, 'AST')\n",
    "albumin = filter_lab(df_lab_24, 'albumin')\n",
    "\n",
    "bilirubin = filter_lab(df_lab_24, 'total bilirubin')\n",
    "bands = filter_lab(df_lab_24, 'bands')\n",
    "bicarbonate = filter_lab(df_lab_24, 'bicarbonate')\n",
    "BUN = filter_lab(df_lab_24, 'BUN')\n",
    "\n",
    "chloride = filter_lab(df_lab_24, 'chloride')\n",
    "creatinine = filter_lab(df_lab_24, 'creatinine')\n",
    "CRP = filter_lab(df_lab_24, 'CRP')\n",
    "\n",
    "ESR = filter_lab(df_lab_24, 'ESR')\n",
    "\n",
    "fio2 = filter_lab(df_lab_24, 'FiO2')\n",
    "\n",
    "glucose = filter_lab(df_lab_24, 'glucose')\n",
    "\n",
    "hemoglobin = filter_lab(df_lab_24, 'Hgb')\n",
    "\n",
    "iqr = filter_lab(df_lab_24, 'INR')\n",
    "\n",
    "lactate = filter_lab(df_lab_24, 'lactate')\n",
    "\n",
    "pao2 = filter_lab(df_lab_24, 'paO2')\n",
    "platelets = filter_lab(df_lab_24, 'platelets')\n",
    "\n",
    "sodium = filter_lab(df_lab_24, 'sodium')\n",
    "\n",
    "Temperature = filter_lab(df_lab_24, 'Temp')\n",
    "troponin = filter_lab(df_lab_24, 'troponin')\n",
    "\n",
    "WBC = filter_lab(df_lab_24, 'WBC x 1000')\n",
    "\n",
    "del df_lab_24"
   ]
  },
  {
   "cell_type": "markdown",
   "metadata": {},
   "source": [
    "#### editando features"
   ]
  },
  {
   "cell_type": "code",
   "execution_count": 13,
   "metadata": {},
   "outputs": [],
   "source": [
    "def edit_feature_lab(df,lab_name):\n",
    "    df.drop(['labid','labtypeid','labname','labresultrevisedoffset'],axis=1,inplace=True)\n",
    "    df.rename(columns={'labresult': lab_name, 'labresulttext' : (lab_name+'resulttext'), 'labmeasurenamesystem' : (lab_name+'.unidMedida'), 'labmeasurenameinterface': (lab_name+'.measureInterface')},inplace=True)\n",
    "\n",
    "\n",
    "edit_feature_lab(alanine,'alanine')\n",
    "edit_feature_lab(aspartate,'aspartate')\n",
    "edit_feature_lab(albumin,'albumin')\n",
    "\n",
    "edit_feature_lab(bilirubin,'bilirubin')\n",
    "edit_feature_lab(bicarbonate,'bicarbonate')\n",
    "edit_feature_lab(bands,'bands')\n",
    "edit_feature_lab(BUN,'bloodUreaNitrogen')\n",
    "\n",
    "edit_feature_lab(creatinine,'creatinine')\n",
    "edit_feature_lab(chloride,'chloride')\n",
    "edit_feature_lab(CRP,'CRP')\n",
    "\n",
    "edit_feature_lab(ESR,'ESR')\n",
    "\n",
    "edit_feature_lab(fio2,'fio2')\n",
    "\n",
    "edit_feature_lab(glucose,'glucose')\n",
    "\n",
    "edit_feature_lab(hemoglobin,'hemoglobin')\n",
    "\n",
    "edit_feature_lab(iqr,'iqr')\n",
    "\n",
    "edit_feature_lab(lactate,'lactate')\n",
    "\n",
    "edit_feature_lab(pao2,'pao2')\n",
    "edit_feature_lab(platelets,'platelets')\n",
    "\n",
    "edit_feature_lab(sodium,'sodium')\n",
    "\n",
    "edit_feature_lab(troponin,'troponin')\n",
    "edit_feature_lab(Temperature,'Temperature')\n",
    "Temperature['celsius'] = 0\n",
    "Temperature['Temperatureresulttext'] = Temperature['Temperatureresulttext'].astype(float)\n",
    "Temperature['celsius'] = Temperature['Temperatureresulttext'].map(lambda x: x if x < 60 else (x - 32) * 5/9)\n",
    "\n",
    "edit_feature_lab(WBC,'WBC')"
   ]
  },
  {
   "cell_type": "code",
   "execution_count": null,
   "metadata": {},
   "outputs": [],
   "source": []
  },
  {
   "cell_type": "markdown",
   "metadata": {},
   "source": [
    "#### merge"
   ]
  },
  {
   "cell_type": "code",
   "execution_count": 14,
   "metadata": {},
   "outputs": [],
   "source": [
    "df_lab_24 = pd.merge(alanine,aspartate,on=['patientunitstayid','labresultoffset'])\n",
    "df_lab_24 = pd.merge(df_lab_24,albumin,on=['patientunitstayid','labresultoffset'])\n",
    "df_lab_24 = pd.merge(df_lab_24,BUN,on=['patientunitstayid','labresultoffset'])\n",
    "df_lab_24 = pd.merge(df_lab_24,bilirubin,on=['patientunitstayid','labresultoffset'])\n",
    "df_lab_24 = pd.merge(df_lab_24,bands,on=['patientunitstayid','labresultoffset'])\n",
    "df_lab_24 = pd.merge(df_lab_24,bicarbonate,on=['patientunitstayid','labresultoffset'])\n",
    "df_lab_24 = pd.merge(df_lab_24,CRP,on=['patientunitstayid','labresultoffset'])\n",
    "df_lab_24 = pd.merge(df_lab_24,chloride,on=['patientunitstayid','labresultoffset'])\n",
    "df_lab_24 = pd.merge(df_lab_24,creatinine,on=['patientunitstayid','labresultoffset'])\n",
    "df_lab_24 = pd.merge(df_lab_24,ESR,on=['patientunitstayid','labresultoffset'])\n",
    "df_lab_24 = pd.merge(df_lab_24,fio2,on=['patientunitstayid','labresultoffset'])\n",
    "df_lab_24 = pd.merge(df_lab_24,glucose,on=['patientunitstayid','labresultoffset'])\n",
    "df_lab_24 = pd.merge(df_lab_24,hemoglobin,on=['patientunitstayid','labresultoffset'])\n",
    "df_lab_24 = pd.merge(df_lab_24,iqr,on=['patientunitstayid','labresultoffset'])\n",
    "df_lab_24 = pd.merge(df_lab_24,lactate,on=['patientunitstayid','labresultoffset'])\n",
    "df_lab_24 = pd.merge(df_lab_24,pao2,on=['patientunitstayid','labresultoffset'])\n",
    "df_lab_24 = pd.merge(df_lab_24,platelets,on=['patientunitstayid','labresultoffset'])\n",
    "df_lab_24 = pd.merge(df_lab_24,sodium,on=['patientunitstayid','labresultoffset'])\n",
    "df_lab_24 = pd.merge(df_lab_24,Temperature,on=['patientunitstayid','labresultoffset'])\n",
    "df_lab_24 = pd.merge(df_lab_24,troponin,on=['patientunitstayid','labresultoffset'])\n",
    "df_lab_24 = pd.merge(df_lab_24,WBC,on=['patientunitstayid','labresultoffset'])\n",
    "df_lab_24 = pd.merge(df_lab_24,WBCurine,on=['patientunitstayid','labresultoffset'])\n",
    "\n",
    "del alanine\n",
    "del aspartate\n",
    "del albumin\n",
    "del bilirubin\n",
    "del bands\n",
    "del bicarbonate\n",
    "del BUN\n",
    "del chloride\n",
    "del creatinine\n",
    "del CRP\n",
    "del ESR\n",
    "del fio2\n",
    "del glucose\n",
    "del hemoglobin\n",
    "del iqr\n",
    "del lactate\n",
    "del pao2\n",
    "del platelets\n",
    "del sodium\n",
    "del Temperature\n",
    "del troponin\n",
    "del WBC\n",
    "del WBCurine\n"
   ]
  },
  {
   "cell_type": "code",
   "execution_count": 15,
   "metadata": {},
   "outputs": [
    {
     "data": {
      "text/html": [
       "<div>\n",
       "<style scoped>\n",
       "    .dataframe tbody tr th:only-of-type {\n",
       "        vertical-align: middle;\n",
       "    }\n",
       "\n",
       "    .dataframe tbody tr th {\n",
       "        vertical-align: top;\n",
       "    }\n",
       "\n",
       "    .dataframe thead th {\n",
       "        text-align: right;\n",
       "    }\n",
       "</style>\n",
       "<table border=\"1\" class=\"dataframe\">\n",
       "  <thead>\n",
       "    <tr style=\"text-align: right;\">\n",
       "      <th></th>\n",
       "      <th>patientunitstayid</th>\n",
       "      <th>labresultoffset</th>\n",
       "      <th>alanine</th>\n",
       "      <th>alanineresulttext</th>\n",
       "      <th>alanine.unidMedida</th>\n",
       "      <th>alanine.measureInterface</th>\n",
       "      <th>aspartate</th>\n",
       "      <th>aspartateresulttext</th>\n",
       "      <th>aspartate.unidMedida</th>\n",
       "      <th>aspartate.measureInterface</th>\n",
       "      <th>...</th>\n",
       "      <th>troponin.unidMedida</th>\n",
       "      <th>troponin.measureInterface</th>\n",
       "      <th>WBC</th>\n",
       "      <th>WBCresulttext</th>\n",
       "      <th>WBC.unidMedida</th>\n",
       "      <th>WBC.measureInterface</th>\n",
       "      <th>WBCurine</th>\n",
       "      <th>WBCurineresulttext</th>\n",
       "      <th>WBCurine.unidMedida</th>\n",
       "      <th>WBCurine.measureInterface</th>\n",
       "    </tr>\n",
       "  </thead>\n",
       "  <tbody>\n",
       "  </tbody>\n",
       "</table>\n",
       "<p>0 rows × 95 columns</p>\n",
       "</div>"
      ],
      "text/plain": [
       "Empty DataFrame\n",
       "Columns: [patientunitstayid, labresultoffset, alanine, alanineresulttext, alanine.unidMedida, alanine.measureInterface, aspartate, aspartateresulttext, aspartate.unidMedida, aspartate.measureInterface, albumin, albuminresulttext, albumin.unidMedida, albumin.measureInterface, bloodUreaNitrogen, bloodUreaNitrogenresulttext, bloodUreaNitrogen.unidMedida, bloodUreaNitrogen.measureInterface, bilirubin, bilirubinresulttext, bilirubin.unidMedida, bilirubin.measureInterface, bands, bandsresulttext, bands.unidMedida, bands.measureInterface, bicarbonate, bicarbonateresulttext, bicarbonate.unidMedida, bicarbonate.measureInterface, CRP, CRPresulttext, CRP.unidMedida, CRP.measureInterface, chloride, chlorideresulttext, chloride.unidMedida, chloride.measureInterface, creatinine, creatinineresulttext, creatinine.unidMedida, creatinine.measureInterface, ESR, ESRresulttext, ESR.unidMedida, ESR.measureInterface, fio2, fio2resulttext, fio2.unidMedida, fio2.measureInterface, glucose, glucoseresulttext, glucose.unidMedida, glucose.measureInterface, hemoglobin, hemoglobinresulttext, hemoglobin.unidMedida, hemoglobin.measureInterface, iqr, iqrresulttext, iqr.unidMedida, iqr.measureInterface, lactate, lactateresulttext, lactate.unidMedida, lactate.measureInterface, pao2, pao2resulttext, pao2.unidMedida, pao2.measureInterface, platelets, plateletsresulttext, platelets.unidMedida, platelets.measureInterface, sodium, sodiumresulttext, sodium.unidMedida, sodium.measureInterface, Temperature, Temperatureresulttext, Temperature.unidMedida, Temperature.measureInterface, celsius, troponin, troponinresulttext, troponin.unidMedida, troponin.measureInterface, WBC, WBCresulttext, WBC.unidMedida, WBC.measureInterface, WBCurine, WBCurineresulttext, WBCurine.unidMedida, WBCurine.measureInterface]\n",
       "Index: []\n",
       "\n",
       "[0 rows x 95 columns]"
      ]
     },
     "execution_count": 15,
     "metadata": {},
     "output_type": "execute_result"
    }
   ],
   "source": [
    "df_lab_24.head(10000)"
   ]
  },
  {
   "cell_type": "markdown",
   "metadata": {},
   "source": [
    "### tudo sobre infusion drug"
   ]
  },
  {
   "cell_type": "markdown",
   "metadata": {},
   "source": [
    "#### cada feature individual"
   ]
  },
  {
   "cell_type": "code",
   "execution_count": null,
   "metadata": {},
   "outputs": [],
   "source": [
    "dopamine = df_infusiondrug_24[df_infusiondrug_24['drugname'].str.contains('Dopamine', case=False, na=False)]\n",
    "dobutamine = df_infusiondrug_24[df_infusiondrug_24['drugname'].str.contains('Dobutamine', case=False, na=False)]\n",
    "epinephrine = df_infusiondrug_24[df_infusiondrug_24['drugname'].str.contains('Epinephrine', case=False, na=False)]\n",
    "norepinephrine = df_infusiondrug_24[df_infusiondrug_24['drugname'].str.contains('Norepinephrine', case=False, na=False)]\n",
    "\n",
    "del df_infusiondrug_24"
   ]
  },
  {
   "cell_type": "markdown",
   "metadata": {},
   "source": [
    "#### editando as features"
   ]
  },
  {
   "cell_type": "code",
   "execution_count": null,
   "metadata": {},
   "outputs": [],
   "source": [
    "\n",
    "dopamine = dopamine[['patientunitstayid', 'drugamount', 'volumeoffluid']].copy()"
   ]
  }
 ],
 "metadata": {
  "kernelspec": {
   "display_name": "Python 3 (ipykernel)",
   "language": "python",
   "name": "python3"
  },
  "language_info": {
   "codemirror_mode": {
    "name": "ipython",
    "version": 3
   },
   "file_extension": ".py",
   "mimetype": "text/x-python",
   "name": "python",
   "nbconvert_exporter": "python",
   "pygments_lexer": "ipython3",
   "version": "3.10.12"
  }
 },
 "nbformat": 4,
 "nbformat_minor": 2
}
