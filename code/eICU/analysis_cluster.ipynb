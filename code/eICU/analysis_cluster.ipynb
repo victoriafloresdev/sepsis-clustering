{
 "cells": [
  {
   "cell_type": "markdown",
   "metadata": {},
   "source": [
    "O notebook abaixo se refere a análise dos clusters gerado pelo K-means. Os datasets utilizados foram gerados pelos outros notebooks responsáveis pela extração dos dados e geração dos modelos. "
   ]
  },
  {
   "cell_type": "code",
   "execution_count": 2,
   "metadata": {},
   "outputs": [],
   "source": [
    "import pandas as pd\n",
    "import matplotlib.pyplot as plt\n",
    "import numpy as np\n",
    "import seaborn as sns\n",
    "from sklearn.impute import KNNImputer\n",
    "#from missforest import MissForest\n",
    "from sklearn.cluster import KMeans\n",
    "from sklearn.preprocessing import StandardScaler, OneHotEncoder\n",
    "from sklearn.decomposition import PCA\n",
    "from sklearn.preprocessing import StandardScaler\n",
    "import umap\n",
    "from sklearn.manifold import trustworthiness\n",
    "from sklearn.model_selection import train_test_split\n",
    "from sklearn.metrics import mean_squared_error\n",
    "from sklearn.manifold import TSNE\n",
    "from sklearn.metrics import pairwise_distances\n",
    "from sklearn.metrics import silhouette_score, davies_bouldin_score\n",
    "from sklearn.mixture import GaussianMixture\n",
    "import scipy.stats as stats\n"
   ]
  },
  {
   "cell_type": "markdown",
   "metadata": {},
   "source": [
    "Os dados \"worst_exams_24h\" e \"sofa_worst_24h\" podem ser gerados a partir do notebook extract_exams_24h. Os dados \"admissions\" e \"patients\" são bases originais da MIMIC-IV. Por fim, \"final_clusters\" pode ser gerado pelo notebook final_model."
   ]
  },
  {
   "cell_type": "code",
   "execution_count": 40,
   "metadata": {},
   "outputs": [],
   "source": [
    "worst_exams_24h = pd.read_csv(\"../data/worst/worst_exams_24h_.csv\")\n",
    "sofa_worst_24h= pd.read_csv(\"../data/worst/sofa_worst_24h.csv\")\n",
    "admissions = pd.read_csv('/scratch/haniel.botelho/physionet.org/files/mimiciv/2.2/hosp/admissions.csv')\n",
    "patients = pd.read_csv('/scratch/haniel.botelho/physionet.org/files/mimiciv/2.2/hosp/patients.csv')\n",
    "final_clusters = pd.read_csv(\"final_clusters.csv\")\n",
    "\n"
   ]
  },
  {
   "cell_type": "markdown",
   "metadata": {},
   "source": [
    "#### Definindo pacientes"
   ]
  },
  {
   "cell_type": "code",
   "execution_count": 3,
   "metadata": {},
   "outputs": [],
   "source": [
    "df_gmm = pd.read_csv('analiseGMM.csv')\n",
    "df_gmm_intersecao = pd.read_csv('analiseGMM_intersecao.csv')"
   ]
  },
  {
   "cell_type": "markdown",
   "metadata": {},
   "source": [
    "#### Análise da mortalidade"
   ]
  },
  {
   "cell_type": "code",
   "execution_count": 33,
   "metadata": {},
   "outputs": [],
   "source": [
    "death_patients  = df_gmm_intersecao"
   ]
  },
  {
   "cell_type": "code",
   "execution_count": 34,
   "metadata": {},
   "outputs": [],
   "source": [
    "death_patients['died'] = death_patients['unitdischargestatus'].apply(lambda x: 0 if x == \"Alive\" else 1)"
   ]
  },
  {
   "cell_type": "code",
   "execution_count": 35,
   "metadata": {},
   "outputs": [],
   "source": [
    "death_patients = death_patients[['patientunitstayid','died','unitdischargeoffset','Cluster']]"
   ]
  },
  {
   "cell_type": "code",
   "execution_count": 36,
   "metadata": {},
   "outputs": [
    {
     "data": {
      "text/html": [
       "<div>\n",
       "<style scoped>\n",
       "    .dataframe tbody tr th:only-of-type {\n",
       "        vertical-align: middle;\n",
       "    }\n",
       "\n",
       "    .dataframe tbody tr th {\n",
       "        vertical-align: top;\n",
       "    }\n",
       "\n",
       "    .dataframe thead th {\n",
       "        text-align: right;\n",
       "    }\n",
       "</style>\n",
       "<table border=\"1\" class=\"dataframe\">\n",
       "  <thead>\n",
       "    <tr style=\"text-align: right;\">\n",
       "      <th></th>\n",
       "      <th>Cluster</th>\n",
       "      <th>Total Deaths</th>\n",
       "    </tr>\n",
       "  </thead>\n",
       "  <tbody>\n",
       "    <tr>\n",
       "      <th>0</th>\n",
       "      <td>0</td>\n",
       "      <td>1270</td>\n",
       "    </tr>\n",
       "    <tr>\n",
       "      <th>1</th>\n",
       "      <td>1</td>\n",
       "      <td>538</td>\n",
       "    </tr>\n",
       "    <tr>\n",
       "      <th>2</th>\n",
       "      <td>2</td>\n",
       "      <td>1580</td>\n",
       "    </tr>\n",
       "  </tbody>\n",
       "</table>\n",
       "</div>"
      ],
      "text/plain": [
       "   Cluster  Total Deaths\n",
       "0        0          1270\n",
       "1        1           538\n",
       "2        2          1580"
      ]
     },
     "execution_count": 36,
     "metadata": {},
     "output_type": "execute_result"
    }
   ],
   "source": [
    "cluster_deaths = death_patients.groupby('Cluster')['died'].sum().reset_index()\n",
    "\n",
    "# Renomeando a coluna para melhor entendimento\n",
    "cluster_deaths.rename(columns={'died': 'Total Deaths'}, inplace=True)\n",
    "\n",
    "# Exibindo o resultado\n",
    "cluster_deaths"
   ]
  },
  {
   "cell_type": "code",
   "execution_count": 37,
   "metadata": {},
   "outputs": [
    {
     "data": {
      "text/html": [
       "<div>\n",
       "<style scoped>\n",
       "    .dataframe tbody tr th:only-of-type {\n",
       "        vertical-align: middle;\n",
       "    }\n",
       "\n",
       "    .dataframe tbody tr th {\n",
       "        vertical-align: top;\n",
       "    }\n",
       "\n",
       "    .dataframe thead th {\n",
       "        text-align: right;\n",
       "    }\n",
       "</style>\n",
       "<table border=\"1\" class=\"dataframe\">\n",
       "  <thead>\n",
       "    <tr style=\"text-align: right;\">\n",
       "      <th></th>\n",
       "      <th>Cluster</th>\n",
       "      <th>Total Deaths</th>\n",
       "      <th>Total Patients</th>\n",
       "      <th>Mortality Rate (%)</th>\n",
       "    </tr>\n",
       "  </thead>\n",
       "  <tbody>\n",
       "    <tr>\n",
       "      <th>0</th>\n",
       "      <td>0</td>\n",
       "      <td>1270</td>\n",
       "      <td>13816</td>\n",
       "      <td>9.192241</td>\n",
       "    </tr>\n",
       "    <tr>\n",
       "      <th>1</th>\n",
       "      <td>1</td>\n",
       "      <td>538</td>\n",
       "      <td>2354</td>\n",
       "      <td>22.854715</td>\n",
       "    </tr>\n",
       "    <tr>\n",
       "      <th>2</th>\n",
       "      <td>2</td>\n",
       "      <td>1580</td>\n",
       "      <td>13838</td>\n",
       "      <td>11.417835</td>\n",
       "    </tr>\n",
       "  </tbody>\n",
       "</table>\n",
       "</div>"
      ],
      "text/plain": [
       "   Cluster  Total Deaths  Total Patients  Mortality Rate (%)\n",
       "0        0          1270           13816            9.192241\n",
       "1        1           538            2354           22.854715\n",
       "2        2          1580           13838           11.417835"
      ]
     },
     "execution_count": 37,
     "metadata": {},
     "output_type": "execute_result"
    }
   ],
   "source": [
    "# Contando o número total de pacientes em cada cluster\n",
    "cluster_counts = death_patients.groupby('Cluster').size().reset_index(name='Total Patients')\n",
    "\n",
    "# Calculando a taxa de mortalidade\n",
    "cluster_deaths['Total Patients'] = cluster_counts['Total Patients']\n",
    "cluster_deaths['Mortality Rate (%)'] = (cluster_deaths['Total Deaths'] / cluster_deaths['Total Patients']) * 100\n",
    "\n",
    "# Exibindo o resultado\n",
    "cluster_deaths\n"
   ]
  },
  {
   "cell_type": "code",
   "execution_count": 38,
   "metadata": {},
   "outputs": [
    {
     "name": "stdout",
     "output_type": "stream",
     "text": [
      "Estatística Qui-Quadrado: 375.26916254833924\n",
      "p-valor: 3.2459119769761574e-82\n",
      "Rejeitamos a hipótese nula. Há uma diferença significativa nas taxas de mortalidade entre os clusters.\n"
     ]
    }
   ],
   "source": [
    "contingency_table = pd.crosstab(death_patients['Cluster'], death_patients['died'])\n",
    "\n",
    "# Realizando o teste qui-quadrado\n",
    "chi2, p_value, dof, expected = stats.chi2_contingency(contingency_table)\n",
    "\n",
    "# Exibindo os resultados\n",
    "print(f\"Estatística Qui-Quadrado: {chi2}\")\n",
    "print(f\"p-valor: {p_value}\")\n",
    "\n",
    "# Avaliando o resultado\n",
    "alpha = 0.05\n",
    "if p_value < alpha:\n",
    "    print(\"Rejeitamos a hipótese nula. Há uma diferença significativa nas taxas de mortalidade entre os clusters.\")\n",
    "else:\n",
    "    print(\"Falhamos em rejeitar a hipótese nula. Não há diferença significativa nas taxas de mortalidade entre os clusters.\")"
   ]
  },
  {
   "cell_type": "markdown",
   "metadata": {},
   "source": [
    "#### Tempo na uti"
   ]
  },
  {
   "cell_type": "code",
   "execution_count": 39,
   "metadata": {},
   "outputs": [],
   "source": [
    "uti_time = df_gmm_intersecao[['patientunitstayid','unitdischargeoffset','Cluster']]"
   ]
  },
  {
   "cell_type": "code",
   "execution_count": 50,
   "metadata": {},
   "outputs": [],
   "source": [
    "icustays['intime'] = pd.to_datetime(icustays['intime'])\n",
    "icustays['outtime'] = pd.to_datetime(icustays['outtime'])\n",
    "\n",
    "# Calculando o tempo de UTI\n",
    "icustays['uti_time'] = (icustays['outtime'] - icustays['intime']).dt.total_seconds() / 3600\n"
   ]
  },
  {
   "cell_type": "code",
   "execution_count": 51,
   "metadata": {},
   "outputs": [],
   "source": [
    "uti_time = icustays[['subject_id','hadm_id','uti_time']]\n"
   ]
  },
  {
   "cell_type": "code",
   "execution_count": 19,
   "metadata": {},
   "outputs": [],
   "source": [
    "uti_time = uti_time.groupby(['patientunitstayid'], as_index=False)['unitdischargeoffset'].sum()"
   ]
  },
  {
   "cell_type": "code",
   "execution_count": 53,
   "metadata": {},
   "outputs": [],
   "source": [
    "uti_time  = pd.merge(sepsis_patients,uti_time,on=['subject_id','hadm_id'],how = 'left')"
   ]
  },
  {
   "cell_type": "code",
   "execution_count": 26,
   "metadata": {},
   "outputs": [],
   "source": [
    "uti_time = uti_time.fillna(0)"
   ]
  },
  {
   "cell_type": "code",
   "execution_count": 55,
   "metadata": {},
   "outputs": [],
   "source": [
    "uti_time['Cluster'] = final_clusters['Cluster']"
   ]
  },
  {
   "cell_type": "code",
   "execution_count": 40,
   "metadata": {},
   "outputs": [
    {
     "data": {
      "text/html": [
       "<div>\n",
       "<style scoped>\n",
       "    .dataframe tbody tr th:only-of-type {\n",
       "        vertical-align: middle;\n",
       "    }\n",
       "\n",
       "    .dataframe tbody tr th {\n",
       "        vertical-align: top;\n",
       "    }\n",
       "\n",
       "    .dataframe thead th {\n",
       "        text-align: right;\n",
       "    }\n",
       "</style>\n",
       "<table border=\"1\" class=\"dataframe\">\n",
       "  <thead>\n",
       "    <tr style=\"text-align: right;\">\n",
       "      <th></th>\n",
       "      <th>Cluster</th>\n",
       "      <th>level_1</th>\n",
       "      <th>Q25</th>\n",
       "    </tr>\n",
       "  </thead>\n",
       "  <tbody>\n",
       "    <tr>\n",
       "      <th>0</th>\n",
       "      <td>0</td>\n",
       "      <td>Q25</td>\n",
       "      <td>1619.00</td>\n",
       "    </tr>\n",
       "    <tr>\n",
       "      <th>1</th>\n",
       "      <td>0</td>\n",
       "      <td>Q75</td>\n",
       "      <td>6142.25</td>\n",
       "    </tr>\n",
       "    <tr>\n",
       "      <th>2</th>\n",
       "      <td>1</td>\n",
       "      <td>Q25</td>\n",
       "      <td>2461.00</td>\n",
       "    </tr>\n",
       "    <tr>\n",
       "      <th>3</th>\n",
       "      <td>1</td>\n",
       "      <td>Q75</td>\n",
       "      <td>11557.75</td>\n",
       "    </tr>\n",
       "    <tr>\n",
       "      <th>4</th>\n",
       "      <td>2</td>\n",
       "      <td>Q25</td>\n",
       "      <td>1537.25</td>\n",
       "    </tr>\n",
       "    <tr>\n",
       "      <th>5</th>\n",
       "      <td>2</td>\n",
       "      <td>Q75</td>\n",
       "      <td>5633.75</td>\n",
       "    </tr>\n",
       "  </tbody>\n",
       "</table>\n",
       "</div>"
      ],
      "text/plain": [
       "   Cluster level_1       Q25\n",
       "0        0     Q25   1619.00\n",
       "1        0     Q75   6142.25\n",
       "2        1     Q25   2461.00\n",
       "3        1     Q75  11557.75\n",
       "4        2     Q25   1537.25\n",
       "5        2     Q75   5633.75"
      ]
     },
     "execution_count": 40,
     "metadata": {},
     "output_type": "execute_result"
    }
   ],
   "source": [
    "def calculate_quantiles(group):\n",
    "    q25 = group.quantile(0.25)\n",
    "    q75 = group.quantile(0.75)\n",
    "    return pd.Series({'Q25': q25, 'Q75': q75})\n",
    "\n",
    "# Calcular Q25 e Q75\n",
    "quantiles_df = uti_time.groupby('Cluster')['unitdischargeoffset'].apply(calculate_quantiles).reset_index()\n",
    "\n",
    "# Organizar as colunas\n",
    "quantiles_df = quantiles_df.rename(columns={'unitdischargeoffset': 'Q25', 'Q75': 'Q75'})\n",
    "quantiles_df"
   ]
  },
  {
   "cell_type": "code",
   "execution_count": 27,
   "metadata": {},
   "outputs": [
    {
     "name": "stdout",
     "output_type": "stream",
     "text": [
      "ANOVA p-valor: nan\n"
     ]
    },
    {
     "name": "stderr",
     "output_type": "stream",
     "text": [
      "/tmp/ipykernel_30626/4143474489.py:1: SmallSampleWarning: One or more sample arguments is too small; all returned values will be NaN. See documentation for sample size requirements.\n",
      "  anova_result = stats.f_oneway(*(uti_time[uti_time['Cluster'] == cluster]['unitdischargeoffset'] for cluster in uti_time['unitdischargeoffset'].unique()))\n"
     ]
    }
   ],
   "source": [
    "anova_result = stats.f_oneway(*(uti_time[uti_time['Cluster'] == cluster]['unitdischargeoffset'] for cluster in uti_time['unitdischargeoffset'].unique()))\n",
    "\n",
    "# Exibindo o p-valor\n",
    "print(f\"ANOVA p-valor: {anova_result.pvalue}\")"
   ]
  },
  {
   "cell_type": "markdown",
   "metadata": {},
   "source": [
    "#### Análise do diagnóstico"
   ]
  },
  {
   "cell_type": "code",
   "execution_count": null,
   "metadata": {},
   "outputs": [],
   "source": [
    "diagnostics = pd.read_csv(\"../data/diagnostics.csv\")"
   ]
  },
  {
   "cell_type": "code",
   "execution_count": null,
   "metadata": {},
   "outputs": [],
   "source": [
    "diagnostics = diagnostics[['subject_id', 'hadm_id','sepsis']]"
   ]
  },
  {
   "cell_type": "code",
   "execution_count": null,
   "metadata": {},
   "outputs": [],
   "source": [
    "diagnostics = diagnostics.groupby(['subject_id', 'hadm_id'], as_index=False)['sepsis'].max()\n"
   ]
  },
  {
   "cell_type": "code",
   "execution_count": null,
   "metadata": {},
   "outputs": [],
   "source": [
    "sepsis_diagnoses  = pd.merge(sepsis_patients,diagnostics,on=['subject_id','hadm_id'],how = 'left')"
   ]
  },
  {
   "cell_type": "code",
   "execution_count": null,
   "metadata": {},
   "outputs": [],
   "source": [
    "sepsis_diagnoses['Cluster'] = final_clusters['Cluster']"
   ]
  },
  {
   "cell_type": "code",
   "execution_count": null,
   "metadata": {},
   "outputs": [],
   "source": [
    "sepsis_diagnoses['sepsis'] = sepsis_diagnoses['sepsis'].apply(lambda x: 1 if x == True else 0)"
   ]
  },
  {
   "cell_type": "code",
   "execution_count": null,
   "metadata": {},
   "outputs": [
    {
     "data": {
      "text/html": [
       "<div>\n",
       "<style scoped>\n",
       "    .dataframe tbody tr th:only-of-type {\n",
       "        vertical-align: middle;\n",
       "    }\n",
       "\n",
       "    .dataframe tbody tr th {\n",
       "        vertical-align: top;\n",
       "    }\n",
       "\n",
       "    .dataframe thead th {\n",
       "        text-align: right;\n",
       "    }\n",
       "</style>\n",
       "<table border=\"1\" class=\"dataframe\">\n",
       "  <thead>\n",
       "    <tr style=\"text-align: right;\">\n",
       "      <th></th>\n",
       "      <th>Cluster</th>\n",
       "      <th>Total Patients</th>\n",
       "      <th>Patients with Sepsis</th>\n",
       "      <th>Percentage with Sepsis (%)</th>\n",
       "    </tr>\n",
       "  </thead>\n",
       "  <tbody>\n",
       "    <tr>\n",
       "      <th>0</th>\n",
       "      <td>0</td>\n",
       "      <td>5725</td>\n",
       "      <td>3192</td>\n",
       "      <td>55.755459</td>\n",
       "    </tr>\n",
       "    <tr>\n",
       "      <th>1</th>\n",
       "      <td>1</td>\n",
       "      <td>10401</td>\n",
       "      <td>3694</td>\n",
       "      <td>35.515816</td>\n",
       "    </tr>\n",
       "    <tr>\n",
       "      <th>2</th>\n",
       "      <td>2</td>\n",
       "      <td>11008</td>\n",
       "      <td>5386</td>\n",
       "      <td>48.928052</td>\n",
       "    </tr>\n",
       "    <tr>\n",
       "      <th>3</th>\n",
       "      <td>3</td>\n",
       "      <td>5681</td>\n",
       "      <td>1491</td>\n",
       "      <td>26.245379</td>\n",
       "    </tr>\n",
       "    <tr>\n",
       "      <th>4</th>\n",
       "      <td>4</td>\n",
       "      <td>3766</td>\n",
       "      <td>990</td>\n",
       "      <td>26.287839</td>\n",
       "    </tr>\n",
       "  </tbody>\n",
       "</table>\n",
       "</div>"
      ],
      "text/plain": [
       "   Cluster  Total Patients  Patients with Sepsis  Percentage with Sepsis (%)\n",
       "0        0            5725                  3192                   55.755459\n",
       "1        1           10401                  3694                   35.515816\n",
       "2        2           11008                  5386                   48.928052\n",
       "3        3            5681                  1491                   26.245379\n",
       "4        4            3766                   990                   26.287839"
      ]
     },
     "execution_count": 104,
     "metadata": {},
     "output_type": "execute_result"
    }
   ],
   "source": [
    "# Contando o número total de pacientes em cada cluster\n",
    "cluster_counts = sepsis_diagnoses.groupby('Cluster').size().reset_index(name='Total Patients')\n",
    "\n",
    "# Contando o número de pacientes com sepsis em cada cluster\n",
    "sepsis_counts = sepsis_diagnoses[sepsis_diagnoses['sepsis'] == True].groupby('Cluster').size().reset_index(name='Patients with Sepsis')\n",
    "\n",
    "# Mesclando os dois DataFrames para obter uma tabela com total de pacientes e pacientes com sepsis\n",
    "cluster_stats = pd.merge(cluster_counts, sepsis_counts, on='Cluster', how='left')\n",
    "\n",
    "# Preenchendo valores NaN na coluna 'Patients with Sepsis' com 0 (caso não haja pacientes com sepsis em algum cluster)\n",
    "cluster_stats['Patients with Sepsis'] = cluster_stats['Patients with Sepsis'].fillna(0).astype(int)\n",
    "\n",
    "# Calculando a porcentagem de pacientes com sepsis para cada cluster\n",
    "cluster_stats['Percentage with Sepsis (%)'] = (cluster_stats['Patients with Sepsis'] / cluster_stats['Total Patients']) * 100\n",
    "cluster_stats"
   ]
  },
  {
   "cell_type": "code",
   "execution_count": null,
   "metadata": {},
   "outputs": [
    {
     "name": "stdout",
     "output_type": "stream",
     "text": [
      "|    |   Cluster |   Total Patients |   Patients with Sepsis |   Percentage with Sepsis (%) |\n",
      "|---:|----------:|-----------------:|-----------------------:|-----------------------------:|\n",
      "|  0 |         0 |             5725 |                   3192 |                      55.7555 |\n",
      "|  1 |         1 |            10401 |                   3694 |                      35.5158 |\n",
      "|  2 |         2 |            11008 |                   5386 |                      48.9281 |\n",
      "|  3 |         3 |             5681 |                   1491 |                      26.2454 |\n",
      "|  4 |         4 |             3766 |                    990 |                      26.2878 |\n"
     ]
    }
   ],
   "source": [
    "print(cluster_stats.to_markdown())"
   ]
  },
  {
   "cell_type": "markdown",
   "metadata": {},
   "source": [
    "#### Análise variáveis sofa"
   ]
  },
  {
   "cell_type": "code",
   "execution_count": 41,
   "metadata": {},
   "outputs": [],
   "source": [
    "sofa_worst_24h = df_gmm_intersecao[['sofascore','Cluster']]"
   ]
  },
  {
   "cell_type": "code",
   "execution_count": 42,
   "metadata": {},
   "outputs": [
    {
     "data": {
      "text/html": [
       "<div>\n",
       "<style scoped>\n",
       "    .dataframe tbody tr th:only-of-type {\n",
       "        vertical-align: middle;\n",
       "    }\n",
       "\n",
       "    .dataframe tbody tr th {\n",
       "        vertical-align: top;\n",
       "    }\n",
       "\n",
       "    .dataframe thead th {\n",
       "        text-align: right;\n",
       "    }\n",
       "</style>\n",
       "<table border=\"1\" class=\"dataframe\">\n",
       "  <thead>\n",
       "    <tr style=\"text-align: right;\">\n",
       "      <th></th>\n",
       "      <th>Cluster</th>\n",
       "      <th>sofascore_mean</th>\n",
       "      <th>sofascore_median</th>\n",
       "    </tr>\n",
       "  </thead>\n",
       "  <tbody>\n",
       "    <tr>\n",
       "      <th>0</th>\n",
       "      <td>0</td>\n",
       "      <td>4.982388</td>\n",
       "      <td>5.000000</td>\n",
       "    </tr>\n",
       "    <tr>\n",
       "      <th>1</th>\n",
       "      <td>1</td>\n",
       "      <td>5.131037</td>\n",
       "      <td>5.000524</td>\n",
       "    </tr>\n",
       "    <tr>\n",
       "      <th>2</th>\n",
       "      <td>2</td>\n",
       "      <td>4.976128</td>\n",
       "      <td>5.000000</td>\n",
       "    </tr>\n",
       "  </tbody>\n",
       "</table>\n",
       "</div>"
      ],
      "text/plain": [
       "   Cluster  sofascore_mean  sofascore_median\n",
       "0        0        4.982388          5.000000\n",
       "1        1        5.131037          5.000524\n",
       "2        2        4.976128          5.000000"
      ]
     },
     "execution_count": 42,
     "metadata": {},
     "output_type": "execute_result"
    }
   ],
   "source": [
    "# Agrupando por 'Cluster'\n",
    "grouped = sofa_worst_24h.groupby('Cluster')\n",
    "\n",
    "# Calculando a média e a mediana para cada coluna numérica\n",
    "mean_df = grouped.mean().reset_index()\n",
    "median_df = grouped.median().reset_index()\n",
    "\n",
    "# Renomeando colunas para identificar origem\n",
    "mean_df.columns = [f'{col}_mean' if col != 'Cluster' else col for col in mean_df.columns]\n",
    "median_df.columns = [f'{col}_median' if col != 'Cluster' else col for col in median_df.columns]\n",
    "\n",
    "# Mesclando os DataFrames de média e mediana\n",
    "combined_df = pd.merge(mean_df, median_df, on='Cluster')\n",
    "combined_df"
   ]
  },
  {
   "cell_type": "code",
   "execution_count": 43,
   "metadata": {},
   "outputs": [
    {
     "name": "stdout",
     "output_type": "stream",
     "text": [
      "Coluna: sofascore\n",
      "Mediana por Cluster:\n",
      "Cluster\n",
      "0    5.000000\n",
      "1    5.000524\n",
      "2    5.000000\n",
      "Name: sofascore, dtype: float64\n",
      "Quartis Q25 e Q75 por Cluster:\n",
      "Cluster 0:4.50 - 5.38\n",
      "Cluster 1:4.68 - 5.53\n",
      "Cluster 2:4.56 - 5.38\n",
      "\n",
      "\n"
     ]
    }
   ],
   "source": [
    "grouped = sofa_worst_24h.groupby('Cluster')\n",
    "\n",
    "# Iterar sobre as colunas numéricas (excluindo 'Cluster')\n",
    "for col in sofa_worst_24h.columns:\n",
    "    if col != 'Cluster':\n",
    "        # Calcular mediana\n",
    "        median = grouped[col].median()\n",
    "        \n",
    "        # Calcular quartis Q25 e Q75\n",
    "        q25 = grouped[col].quantile(0.25)\n",
    "        q75 = grouped[col].quantile(0.75)\n",
    "        \n",
    "        # Imprimir resultados\n",
    "        print(f\"Coluna: {col}\")\n",
    "        print(\"Mediana por Cluster:\")\n",
    "        print(median)\n",
    "        print(\"Quartis Q25 e Q75 por Cluster:\")\n",
    "        for cluster in median.index:\n",
    "            print(f\"Cluster {cluster}:{q25[cluster]:.2f} - {q75[cluster]:.2f}\")\n",
    "        print(\"\\n\")"
   ]
  }
 ],
 "metadata": {
  "kernelspec": {
   "display_name": "base",
   "language": "python",
   "name": "python3"
  },
  "language_info": {
   "codemirror_mode": {
    "name": "ipython",
    "version": 3
   },
   "file_extension": ".py",
   "mimetype": "text/x-python",
   "name": "python",
   "nbconvert_exporter": "python",
   "pygments_lexer": "ipython3",
   "version": "3.12.0"
  }
 },
 "nbformat": 4,
 "nbformat_minor": 2
}
