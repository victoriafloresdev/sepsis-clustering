{
 "cells": [
  {
   "cell_type": "markdown",
   "metadata": {},
   "source": [
    "### cabeçalho"
   ]
  },
  {
   "cell_type": "markdown",
   "metadata": {},
   "source": [
    "#### importações"
   ]
  },
  {
   "cell_type": "code",
   "execution_count": null,
   "metadata": {},
   "outputs": [],
   "source": [
    "import pandas as pd\n",
    "import matplotlib.pyplot as plt\n",
    "import numpy as np\n",
    "from IPython.display import display"
   ]
  },
  {
   "cell_type": "markdown",
   "metadata": {},
   "source": [
    "#### lendo as bases"
   ]
  },
  {
   "cell_type": "code",
   "execution_count": null,
   "metadata": {},
   "outputs": [],
   "source": [
    "URL_BASES = \"./../Databases/test/\"\n",
    "patient_csv = \"patient.csv\"\n",
    "infusiondrug = \"infusiondrug.csv\"\n",
    "physicalExam = \"physicalExam.csv\"\n",
    "lab = \"lab.csv\"\n",
    "\n",
    "url_patient = URL_BASES + patient_csv\n",
    "url_infusiondrug = URL_BASES + infusiondrug\n",
    "url_physicalExam = URL_BASES + physicalExam\n",
    "url_lab = URL_BASES + lab\n",
    "\n",
    "comeco_intervalo = 60 * 0\n",
    "final_intervalo = 60 * 24"
   ]
  },
  {
   "cell_type": "markdown",
   "metadata": {},
   "source": [
    "#### pacientes septicos"
   ]
  },
  {
   "cell_type": "code",
   "execution_count": null,
   "metadata": {},
   "outputs": [],
   "source": [
    "df_patient = pd.read_csv(url_patient)\n",
    "sepsis = df_patient[df_patient['apacheadmissiondx'].str.contains('sepsis', case=False, na=False)].reset_index()\n",
    "sepsis = sepsis[['patientunitstayid','gender','age']]\n",
    "del df_patient\n",
    "sepsis.head()"
   ]
  },
  {
   "cell_type": "markdown",
   "metadata": {},
   "source": [
    "### tudo sobre physical exam"
   ]
  },
  {
   "cell_type": "markdown",
   "metadata": {},
   "source": [
    "#### 24 horas physical exam"
   ]
  },
  {
   "cell_type": "code",
   "execution_count": 99,
   "metadata": {},
   "outputs": [],
   "source": [
    "df_physicalExam = pd.read_csv(url_physicalExam)\n",
    "df_physicalExam_24 = df_physicalExam[(df_physicalExam[\"physicalexamoffset\"]>=comeco_intervalo) &  (df_physicalExam[\"physicalexamoffset\"]<=final_intervalo)]\n",
    "df_physicalExam_24 = pd.merge(sepsis['patientunitstayid'],df_physicalExam_24,on='patientunitstayid')\n",
    "\n",
    "del df_physicalExam\n",
    "\n",
    "def filter_exam(df, exam_name):\n",
    "    return df[df['physicalexampath'].str.contains(exam_name, case=False, na=False)].copy()\n",
    "\n",
    "\n",
    "def edit_feature_exam(df,exam_name):\n",
    "    df.drop(['physicalexamid', 'physicalexampath', 'physicalexamvalue'], axis=1, inplace=True)\n",
    "    df.rename(columns={'physicalexamtext': exam_name}, inplace = True)"
   ]
  },
  {
   "cell_type": "markdown",
   "metadata": {},
   "source": [
    "#### cada feature individual"
   ]
  },
  {
   "cell_type": "code",
   "execution_count": 100,
   "metadata": {},
   "outputs": [
    {
     "name": "stderr",
     "output_type": "stream",
     "text": [
      "/tmp/ipykernel_187083/4140761144.py:6: UserWarning: This pattern is interpreted as a regular expression, and has match groups. To actually get the groups, use str.extract.\n",
      "  return df[df['physicalexampath'].str.contains(exam_name, case=False, na=False)].copy()\n"
     ]
    }
   ],
   "source": [
    "\n",
    "ox_saturation = filter_exam(df_physicalExam_24,'O2 Sat%')\n",
    "ox_saturation = filter_exam(ox_saturation,'Current')\n",
    "heartRate = filter_exam(df_physicalExam_24,'HR')\n",
    "heartRate =  filter_exam(heartRate,'Current')\n",
    "\n",
    "\n",
    "edit_feature_exam(ox_saturation,'ox_saturation')\n",
    "edit_feature_exam(heartRate,'heartRate')\n",
    "\n",
    "\n",
    "heartRate = heartRate.groupby('patientunitstayid')['heartRate'].min().reset_index()\n",
    "ox_saturation = ox_saturation.groupby('patientunitstayid')['ox_saturation'].min().reset_index()"
   ]
  },
  {
   "cell_type": "markdown",
   "metadata": {},
   "source": [
    "#### Mean arterial presure"
   ]
  },
  {
   "cell_type": "code",
   "execution_count": null,
   "metadata": {},
   "outputs": [],
   "source": [
    "systolic = filter_exam(df_physicalExam_24,'(systolic)')\n",
    "systolic = filter_exam(systolic,'Current')\n",
    "diastolic = filter_exam(df_physicalExam_24,'(diastolic)')\n",
    "diastolic = filter_exam(diastolic,'Current')\n",
    "\n",
    "edit_feature_exam(systolic,'systolic')\n",
    "edit_feature_exam(diastolic,'diastolic')\n",
    "'''\n",
    "MAP = pd.merge(diastolic, systolic, on=['patientunitstayid','physicalexamoffset'])\n",
    "\n",
    "# Tenta converter colunas para inteiro e usa pd.to_numeric com errors='coerce' em caso de falha\n",
    "MAP[\"diastolic\"] = pd.to_numeric(MAP[\"diastolic\"], errors='coerce')\n",
    "MAP[\"systolic\"] = pd.to_numeric(MAP[\"systolic\"], errors='coerce')\n",
    "\n",
    "# Calcula o MAP (Mean Arterial Pressure) ignorando automaticamente valores nulos\n",
    "MAP['MAP'] = (MAP['systolic'] + 2 * MAP['diastolic']) / 3\n",
    "'''\n",
    "systolic = systolic.groupby('patientunitstayid')['systolic'].min().reset_index()"
   ]
  },
  {
   "cell_type": "markdown",
   "metadata": {},
   "source": [
    "#### Glasgow Coma Scale"
   ]
  },
  {
   "cell_type": "code",
   "execution_count": null,
   "metadata": {},
   "outputs": [],
   "source": [
    "motor = filter_exam(df_physicalExam_24,'Motor Score')\n",
    "eyes = filter_exam(df_physicalExam_24,'Eyes Score')\n",
    "verbal = filter_exam(df_physicalExam_24,'Verbal Score')\n",
    "\n",
    "edit_feature_exam(motor,'motor')\n",
    "edit_feature_exam(eyes,'eyes')\n",
    "edit_feature_exam(verbal,'verbal')\n",
    "\n",
    "GCS = pd.merge(motor, eyes, on=['patientunitstayid','physicalexamoffset'])\n",
    "GCS = pd.merge(GCS, verbal, on=['patientunitstayid','physicalexamoffset'])\n",
    "GCS['GCS'] = GCS['motor'] + GCS['verbal'] + GCS['eyes']\n",
    "GCS = GCS.groupby('patientunitstayid')['GCS'].min().reset_index()"
   ]
  },
  {
   "cell_type": "markdown",
   "metadata": {},
   "source": [
    "#### Merge"
   ]
  },
  {
   "cell_type": "code",
   "execution_count": null,
   "metadata": {},
   "outputs": [],
   "source": [
    "df_physicalExam_24.to_csv((URL_BASES+'physicalexam24.csv'),index=False)"
   ]
  },
  {
   "cell_type": "markdown",
   "metadata": {},
   "source": [
    "### tudo sobre lab"
   ]
  },
  {
   "cell_type": "markdown",
   "metadata": {},
   "source": [
    "#### 24 horas lab"
   ]
  },
  {
   "cell_type": "code",
   "execution_count": null,
   "metadata": {},
   "outputs": [],
   "source": [
    "df_lab = pd.read_csv(url_lab)\n",
    "df_lab_24 = df_lab.loc[(df_lab[\"labresultoffset\"] >= comeco_intervalo) & (df_lab[\"labresultoffset\"] <= final_intervalo)]\n",
    "df_lab_24 = pd.merge(sepsis['patientunitstayid'],df_lab_24,on='patientunitstayid')\n",
    "df_lab_24.sort_values(by=['patientunitstayid'],inplace=True)\n",
    "del df_lab\n",
    "\n",
    "def filter_lab(df, lab_name):\n",
    "    return df[df['labname'].str.contains(lab_name, case=False, na=False)].copy()\n",
    "\n",
    "def edit_feature_lab(df,lab_name):\n",
    "    df.drop(['labid','labtypeid','labname','labresultrevisedoffset'],axis=1,inplace=True)\n",
    "    df.rename(columns={'labresult': lab_name, 'labresulttext' : (lab_name+'resulttext'), 'labmeasurenamesystem' : (lab_name+'.unidMedida'), 'labmeasurenameinterface': (lab_name+'.measureInterface')},inplace=True)\n"
   ]
  },
  {
   "cell_type": "markdown",
   "metadata": {},
   "source": [
    "#### inflamatory"
   ]
  },
  {
   "cell_type": "code",
   "execution_count": null,
   "metadata": {},
   "outputs": [],
   "source": [
    "bands = filter_lab(df_lab_24, 'bands')\n",
    "CRP = filter_lab(df_lab_24, 'CRP')\n",
    "ESR = filter_lab(df_lab_24, 'ESR')\n",
    "Temperature = filter_lab(df_lab_24, 'Temp')\n",
    "WBC = filter_lab(df_lab_24, 'WBC x 1000')\n",
    "\n",
    "edit_feature_lab(bands,'bands')\n",
    "edit_feature_lab(CRP,'CRP')\n",
    "edit_feature_lab(ESR,'ESR')\n",
    "edit_feature_lab(Temperature,'Temp')\n",
    "Temperature['celsius'] = 0\n",
    "Temperature['Tempresulttext'] = Temperature['Tempresulttext'].astype(float)\n",
    "Temperature['celsius'] = Temperature['Tempresulttext'].map(lambda x: x if x < 60 else (x - 32) * 5/9)\n",
    "edit_feature_lab(WBC,'WBC')"
   ]
  },
  {
   "cell_type": "code",
   "execution_count": null,
   "metadata": {},
   "outputs": [],
   "source": [
    "CRP.drop(columns=['CRP','CRP.unidMedida','CRP.measureInterface'],inplace=True)\n",
    "CRP.rename(columns={'CRPresulttext':'CRP'},inplace=True)\n",
    "CRP = CRP.groupby('patientunitstayid')['CRP'].max().reset_index()\n",
    "CRP.head(100)"
   ]
  },
  {
   "cell_type": "code",
   "execution_count": null,
   "metadata": {},
   "outputs": [],
   "source": [
    "ESR.drop(columns=['ESRresulttext','ESR.unidMedida','ESR.measureInterface'],inplace=True)\n",
    "ESR = ESR.groupby('patientunitstayid')['ESR'].max().reset_index()\n",
    "ESR.head()"
   ]
  },
  {
   "cell_type": "code",
   "execution_count": null,
   "metadata": {},
   "outputs": [],
   "source": [
    "WBC.drop(columns=['WBCresulttext','WBC.unidMedida','WBC.measureInterface'],inplace=True)\n",
    "WBC = WBC.groupby('patientunitstayid')['WBC'].max().reset_index()\n",
    "WBC.head()"
   ]
  },
  {
   "cell_type": "code",
   "execution_count": null,
   "metadata": {},
   "outputs": [],
   "source": [
    "Temperature.drop(columns=['Temp','Tempresulttext','Temp.unidMedida','Temp.measureInterface'],inplace=True)\n",
    "Temperature = Temperature.groupby('patientunitstayid')['celsius'].max().reset_index()\n",
    "Temperature.head()"
   ]
  },
  {
   "cell_type": "code",
   "execution_count": null,
   "metadata": {},
   "outputs": [],
   "source": [
    "bands['bands'] = bands['bands'].astype(float)\n",
    "bands.drop(columns=['bandsresulttext','bands.unidMedida','bands.measureInterface'],inplace=True)\n",
    "\n",
    "bands = bands.groupby('patientunitstayid')['bands'].max().reset_index()\n",
    "bands.head()"
   ]
  },
  {
   "cell_type": "code",
   "execution_count": null,
   "metadata": {},
   "outputs": [],
   "source": [
    "inflamatory = pd.merge(bands,CRP, on=['patientunitstayid'], how='outer')\n",
    "inflamatory = pd.merge(inflamatory,ESR, on=['patientunitstayid'], how='outer')\n",
    "inflamatory = pd.merge(inflamatory,Temperature, on=['patientunitstayid'], how='outer')\n",
    "inflamatory = pd.merge(inflamatory,WBC, on=['patientunitstayid'], how='outer')\n",
    "inflamatory.head()"
   ]
  },
  {
   "cell_type": "markdown",
   "metadata": {},
   "source": [
    "#### Renal"
   ]
  },
  {
   "cell_type": "code",
   "execution_count": null,
   "metadata": {},
   "outputs": [],
   "source": [
    "BUN = filter_lab(df_lab_24, 'BUN')\n",
    "creatinine = filter_lab(df_lab_24, 'creatinine')\n",
    "\n",
    "edit_feature_lab(BUN,'BUN')\n",
    "edit_feature_lab(creatinine,'creatinine')"
   ]
  },
  {
   "cell_type": "code",
   "execution_count": null,
   "metadata": {},
   "outputs": [],
   "source": [
    "BUN.drop(columns=['BUNresulttext','BUN.unidMedida','BUN.measureInterface'],inplace=True)\n",
    "BUN = BUN.groupby('patientunitstayid')['BUN'].max().reset_index()\n",
    "BUN.head(100)"
   ]
  },
  {
   "cell_type": "code",
   "execution_count": null,
   "metadata": {},
   "outputs": [],
   "source": [
    "creatinine.drop(columns=['creatinineresulttext','creatinine.unidMedida','creatinine.measureInterface'],inplace=True)\n",
    "creatinine = creatinine.groupby('patientunitstayid')['creatinine'].max().reset_index()\n",
    "creatinine.head(1000)"
   ]
  },
  {
   "cell_type": "code",
   "execution_count": null,
   "metadata": {},
   "outputs": [],
   "source": [
    "Renal = pd.merge(BUN,creatinine,on=['patientunitstayid'],how='outer')\n",
    "Renal.head(1000)"
   ]
  },
  {
   "cell_type": "markdown",
   "metadata": {},
   "source": [
    "#### cardiac"
   ]
  },
  {
   "cell_type": "code",
   "execution_count": null,
   "metadata": {},
   "outputs": [],
   "source": [
    "bicarbonate = filter_lab(df_lab_24, 'bicarbonate')\n",
    "lactate = filter_lab(df_lab_24, 'lactate')\n",
    "troponin = filter_lab(df_lab_24, 'troponin')\n",
    "\n",
    "edit_feature_lab(bicarbonate,'bicarbonate')\n",
    "edit_feature_lab(lactate,'lactate')\n",
    "edit_feature_lab(troponin,'troponin')"
   ]
  },
  {
   "cell_type": "code",
   "execution_count": null,
   "metadata": {},
   "outputs": [],
   "source": [
    "bicarbonate = bicarbonate.groupby('patientunitstayid')['bicarbonate'].min().reset_index()\n",
    "bicarbonate.head(1000)"
   ]
  },
  {
   "cell_type": "code",
   "execution_count": null,
   "metadata": {},
   "outputs": [],
   "source": [
    "lactate = lactate.groupby('patientunitstayid')['lactate'].max().reset_index()\n",
    "lactate.head(1000)"
   ]
  },
  {
   "cell_type": "code",
   "execution_count": null,
   "metadata": {},
   "outputs": [],
   "source": [
    "troponin.dropna(inplace=True)\n",
    "troponin = troponin.groupby('patientunitstayid')['troponin'].max().reset_index()\n",
    "troponin.sort_values(by='troponinresulttext').head(10000)"
   ]
  },
  {
   "cell_type": "code",
   "execution_count": null,
   "metadata": {},
   "outputs": [],
   "source": [
    "Cardiac = pd.merge(bicarbonate,lactate,on=['patientunitstayid'],how='outer')\n",
    "Cardiac = pd.merge(Cardiac,troponin,on=['patientunitstayid'],how='outer')\n",
    "Cardiac.head()"
   ]
  },
  {
   "cell_type": "markdown",
   "metadata": {},
   "source": [
    "#### Pulmonary"
   ]
  },
  {
   "cell_type": "code",
   "execution_count": null,
   "metadata": {},
   "outputs": [],
   "source": [
    "pao2 = filter_lab(df_lab_24, 'paO2')\n",
    "respiratory_rate = filter_lab(df_lab_24, 'Respiratory Rate')\n",
    "\n",
    "edit_feature_lab(pao2,'pao2')\n",
    "edit_feature_lab(respiratory_rate, 'RR')"
   ]
  },
  {
   "cell_type": "code",
   "execution_count": null,
   "metadata": {},
   "outputs": [],
   "source": [
    "pao2 = pao2.groupby('patientunitstayid')['pao2'].min().reset_index()\n",
    "pao2.head(1000)"
   ]
  },
  {
   "cell_type": "code",
   "execution_count": null,
   "metadata": {},
   "outputs": [],
   "source": [
    "respiratory_rate = respiratory_rate.groupby('patientunitstayid')['RR'].min().reset_index()\n",
    "respiratory_rate.head(1000)"
   ]
  },
  {
   "cell_type": "code",
   "execution_count": null,
   "metadata": {},
   "outputs": [],
   "source": [
    "Pulmonary = pd.merge(pao2,respiratory_rate,on=['patientunitstayid'],how='outer')\n",
    "Pulmonary.head()"
   ]
  },
  {
   "cell_type": "markdown",
   "metadata": {},
   "source": [
    "#### Hepatic"
   ]
  },
  {
   "cell_type": "code",
   "execution_count": null,
   "metadata": {},
   "outputs": [],
   "source": [
    "alanine = filter_lab(df_lab_24, 'ALT')\n",
    "aspartate = filter_lab(df_lab_24, 'AST')\n",
    "bilirubin = filter_lab(df_lab_24, 'bilirubin')\n",
    "\n",
    "edit_feature_lab(bilirubin,'bilirubin')\n",
    "edit_feature_lab(alanine,'alanine')\n",
    "edit_feature_lab(aspartate,'aspartate')"
   ]
  },
  {
   "cell_type": "code",
   "execution_count": 89,
   "metadata": {},
   "outputs": [],
   "source": [
    "alanine = alanine.groupby('patientunitstayid')['alanine'].max().reset_index()\n",
    "bilirubin = bilirubin.groupby('patientunitstayid')['bilirubin'].max().reset_index()\n",
    "aspartate = aspartate.groupby('patientunitstayid')['aspartate'].max().reset_index()"
   ]
  },
  {
   "cell_type": "code",
   "execution_count": 91,
   "metadata": {},
   "outputs": [
    {
     "data": {
      "text/html": [
       "<div>\n",
       "<style scoped>\n",
       "    .dataframe tbody tr th:only-of-type {\n",
       "        vertical-align: middle;\n",
       "    }\n",
       "\n",
       "    .dataframe tbody tr th {\n",
       "        vertical-align: top;\n",
       "    }\n",
       "\n",
       "    .dataframe thead th {\n",
       "        text-align: right;\n",
       "    }\n",
       "</style>\n",
       "<table border=\"1\" class=\"dataframe\">\n",
       "  <thead>\n",
       "    <tr style=\"text-align: right;\">\n",
       "      <th></th>\n",
       "      <th>patientunitstayid</th>\n",
       "      <th>alanine</th>\n",
       "      <th>aspartate</th>\n",
       "      <th>bilirubin</th>\n",
       "    </tr>\n",
       "  </thead>\n",
       "  <tbody>\n",
       "    <tr>\n",
       "      <th>0</th>\n",
       "      <td>151179</td>\n",
       "      <td>16.0</td>\n",
       "      <td>60.0</td>\n",
       "      <td>0.2</td>\n",
       "    </tr>\n",
       "    <tr>\n",
       "      <th>1</th>\n",
       "      <td>156308</td>\n",
       "      <td>33.0</td>\n",
       "      <td>25.0</td>\n",
       "      <td>0.3</td>\n",
       "    </tr>\n",
       "    <tr>\n",
       "      <th>2</th>\n",
       "      <td>162841</td>\n",
       "      <td>1073.0</td>\n",
       "      <td>493.0</td>\n",
       "      <td>1.2</td>\n",
       "    </tr>\n",
       "    <tr>\n",
       "      <th>3</th>\n",
       "      <td>166175</td>\n",
       "      <td>30.0</td>\n",
       "      <td>19.0</td>\n",
       "      <td>0.8</td>\n",
       "    </tr>\n",
       "    <tr>\n",
       "      <th>4</th>\n",
       "      <td>190446</td>\n",
       "      <td>14.0</td>\n",
       "      <td>8.0</td>\n",
       "      <td>0.4</td>\n",
       "    </tr>\n",
       "  </tbody>\n",
       "</table>\n",
       "</div>"
      ],
      "text/plain": [
       "   patientunitstayid  alanine  aspartate  bilirubin\n",
       "0             151179     16.0       60.0        0.2\n",
       "1             156308     33.0       25.0        0.3\n",
       "2             162841   1073.0      493.0        1.2\n",
       "3             166175     30.0       19.0        0.8\n",
       "4             190446     14.0        8.0        0.4"
      ]
     },
     "execution_count": 91,
     "metadata": {},
     "output_type": "execute_result"
    }
   ],
   "source": [
    "Hepatic = pd.merge(alanine,aspartate,on=['patientunitstayid'],how='outer')\n",
    "Hepatic = pd.merge(Hepatic, bilirubin,on=['patientunitstayid'],how='outer')\n",
    "\n",
    "Hepatic.head()"
   ]
  },
  {
   "cell_type": "markdown",
   "metadata": {},
   "source": [
    "#### Hematologic"
   ]
  },
  {
   "cell_type": "code",
   "execution_count": null,
   "metadata": {},
   "outputs": [],
   "source": [
    "hemoglobin = filter_lab(df_lab_24, 'Hgb')\n",
    "inr = filter_lab(df_lab_24, 'INR')\n",
    "platelets = filter_lab(df_lab_24, 'platelets')\n",
    "\n",
    "edit_feature_lab(hemoglobin,'hemoglobin')\n",
    "edit_feature_lab(inr,'inr')\n",
    "edit_feature_lab(platelets,'platelets')"
   ]
  },
  {
   "cell_type": "code",
   "execution_count": 94,
   "metadata": {},
   "outputs": [
    {
     "data": {
      "text/html": [
       "<div>\n",
       "<style scoped>\n",
       "    .dataframe tbody tr th:only-of-type {\n",
       "        vertical-align: middle;\n",
       "    }\n",
       "\n",
       "    .dataframe tbody tr th {\n",
       "        vertical-align: top;\n",
       "    }\n",
       "\n",
       "    .dataframe thead th {\n",
       "        text-align: right;\n",
       "    }\n",
       "</style>\n",
       "<table border=\"1\" class=\"dataframe\">\n",
       "  <thead>\n",
       "    <tr style=\"text-align: right;\">\n",
       "      <th></th>\n",
       "      <th>patientunitstayid</th>\n",
       "      <th>hemoglobin</th>\n",
       "      <th>inr</th>\n",
       "      <th>platelets</th>\n",
       "    </tr>\n",
       "  </thead>\n",
       "  <tbody>\n",
       "    <tr>\n",
       "      <th>0</th>\n",
       "      <td>151179</td>\n",
       "      <td>12.0</td>\n",
       "      <td>NaN</td>\n",
       "      <td>541.0</td>\n",
       "    </tr>\n",
       "    <tr>\n",
       "      <th>1</th>\n",
       "      <td>151900</td>\n",
       "      <td>7.7</td>\n",
       "      <td>NaN</td>\n",
       "      <td>347.0</td>\n",
       "    </tr>\n",
       "    <tr>\n",
       "      <th>2</th>\n",
       "      <td>162841</td>\n",
       "      <td>10.4</td>\n",
       "      <td>2.1</td>\n",
       "      <td>136.0</td>\n",
       "    </tr>\n",
       "    <tr>\n",
       "      <th>3</th>\n",
       "      <td>166175</td>\n",
       "      <td>12.2</td>\n",
       "      <td>NaN</td>\n",
       "      <td>118.0</td>\n",
       "    </tr>\n",
       "    <tr>\n",
       "      <th>4</th>\n",
       "      <td>179269</td>\n",
       "      <td>9.9</td>\n",
       "      <td>NaN</td>\n",
       "      <td>135.0</td>\n",
       "    </tr>\n",
       "  </tbody>\n",
       "</table>\n",
       "</div>"
      ],
      "text/plain": [
       "   patientunitstayid  hemoglobin  inr  platelets\n",
       "0             151179        12.0  NaN      541.0\n",
       "1             151900         7.7  NaN      347.0\n",
       "2             162841        10.4  2.1      136.0\n",
       "3             166175        12.2  NaN      118.0\n",
       "4             179269         9.9  NaN      135.0"
      ]
     },
     "execution_count": 94,
     "metadata": {},
     "output_type": "execute_result"
    }
   ],
   "source": [
    "Hematologic = pd.merge(hemoglobin,inr,on=['patientunitstayid'],how='outer')\n",
    "Hematologic = pd.merge(Hematologic,platelets,on=['patientunitstayid'],how='outer')\n",
    "\n",
    "Hematologic.head()"
   ]
  },
  {
   "cell_type": "markdown",
   "metadata": {},
   "source": [
    "#### Serum levels"
   ]
  },
  {
   "cell_type": "code",
   "execution_count": null,
   "metadata": {},
   "outputs": [],
   "source": [
    "albumin = filter_lab(df_lab_24, 'albumin')\n",
    "chloride = filter_lab(df_lab_24, 'chloride')\n",
    "glucose = filter_lab(df_lab_24, 'glucose')\n",
    "sodium = filter_lab(df_lab_24, 'sodium')\n",
    "\n",
    "edit_feature_lab(albumin,'albumin')\n",
    "edit_feature_lab(chloride,'chloride')\n",
    "edit_feature_lab(glucose,'glucose')\n",
    "edit_feature_lab(sodium,'sodium')\n",
    "\n",
    "albumin = albumin.groupby('patientunitstayid')['albumin'].max().reset_index()\n",
    "chloride = chloride.groupby('patientunitstayid')['chloride'].max().reset_index()\n",
    "glucose = glucose.groupby('patientunitstayid')['glucose'].max().reset_index()\n",
    "sodium = sodium.groupby('patientunitstayid')['sodium'].max().reset_index()"
   ]
  },
  {
   "cell_type": "code",
   "execution_count": 96,
   "metadata": {},
   "outputs": [
    {
     "data": {
      "text/html": [
       "<div>\n",
       "<style scoped>\n",
       "    .dataframe tbody tr th:only-of-type {\n",
       "        vertical-align: middle;\n",
       "    }\n",
       "\n",
       "    .dataframe tbody tr th {\n",
       "        vertical-align: top;\n",
       "    }\n",
       "\n",
       "    .dataframe thead th {\n",
       "        text-align: right;\n",
       "    }\n",
       "</style>\n",
       "<table border=\"1\" class=\"dataframe\">\n",
       "  <thead>\n",
       "    <tr style=\"text-align: right;\">\n",
       "      <th></th>\n",
       "      <th>patientunitstayid</th>\n",
       "      <th>albumin</th>\n",
       "      <th>chloride</th>\n",
       "      <th>glucose</th>\n",
       "      <th>sodium</th>\n",
       "    </tr>\n",
       "  </thead>\n",
       "  <tbody>\n",
       "    <tr>\n",
       "      <th>0</th>\n",
       "      <td>151179</td>\n",
       "      <td>1.3</td>\n",
       "      <td>115.0</td>\n",
       "      <td>109.0</td>\n",
       "      <td>148.0</td>\n",
       "    </tr>\n",
       "    <tr>\n",
       "      <th>1</th>\n",
       "      <td>151900</td>\n",
       "      <td>NaN</td>\n",
       "      <td>109.0</td>\n",
       "      <td>139.0</td>\n",
       "      <td>140.0</td>\n",
       "    </tr>\n",
       "    <tr>\n",
       "      <th>2</th>\n",
       "      <td>156308</td>\n",
       "      <td>2.3</td>\n",
       "      <td>107.0</td>\n",
       "      <td>446.0</td>\n",
       "      <td>144.0</td>\n",
       "    </tr>\n",
       "    <tr>\n",
       "      <th>3</th>\n",
       "      <td>162841</td>\n",
       "      <td>2.2</td>\n",
       "      <td>113.0</td>\n",
       "      <td>95.0</td>\n",
       "      <td>146.0</td>\n",
       "    </tr>\n",
       "    <tr>\n",
       "      <th>4</th>\n",
       "      <td>166175</td>\n",
       "      <td>2.8</td>\n",
       "      <td>99.0</td>\n",
       "      <td>322.0</td>\n",
       "      <td>132.0</td>\n",
       "    </tr>\n",
       "  </tbody>\n",
       "</table>\n",
       "</div>"
      ],
      "text/plain": [
       "   patientunitstayid  albumin  chloride  glucose  sodium\n",
       "0             151179      1.3     115.0    109.0   148.0\n",
       "1             151900      NaN     109.0    139.0   140.0\n",
       "2             156308      2.3     107.0    446.0   144.0\n",
       "3             162841      2.2     113.0     95.0   146.0\n",
       "4             166175      2.8      99.0    322.0   132.0"
      ]
     },
     "execution_count": 96,
     "metadata": {},
     "output_type": "execute_result"
    }
   ],
   "source": [
    "SerumLevel = pd.merge(albumin,chloride,on=['patientunitstayid'],how='outer')\n",
    "SerumLevel = pd.merge(SerumLevel,glucose,on=['patientunitstayid'],how='outer')\n",
    "SerumLevel = pd.merge(SerumLevel,sodium,on=['patientunitstayid'],how='outer')\n",
    "\n",
    "SerumLevel.head()"
   ]
  },
  {
   "cell_type": "markdown",
   "metadata": {},
   "source": [
    "#### lab final"
   ]
  },
  {
   "cell_type": "code",
   "execution_count": null,
   "metadata": {},
   "outputs": [],
   "source": [
    "df_lab_24.head(10000)"
   ]
  },
  {
   "cell_type": "markdown",
   "metadata": {},
   "source": [
    "### tudo sobre infusion drug"
   ]
  },
  {
   "cell_type": "code",
   "execution_count": null,
   "metadata": {},
   "outputs": [],
   "source": [
    "df_infusiondrug = pd.read_csv(url_infusiondrug)\n",
    "df_infusiondrug_24 = df_infusiondrug[(df_infusiondrug[\"infusionoffset\"]>=comeco_intervalo) &  (df_infusiondrug[\"infusionoffset\"]<=final_intervalo)]\n",
    "df_infusiondrug_24 = pd.merge(sepsis['patientunitstayid'],df_infusiondrug_24,on='patientunitstayid')\n",
    "del df_infusiondrug"
   ]
  },
  {
   "cell_type": "code",
   "execution_count": null,
   "metadata": {},
   "outputs": [],
   "source": [
    "dopamine = df_infusiondrug_24[df_infusiondrug_24['drugname'].str.contains('Dopamine', case=False, na=False)]\n",
    "dobutamine = df_infusiondrug_24[df_infusiondrug_24['drugname'].str.contains('Dobutamine', case=False, na=False)]\n",
    "epinephrine = df_infusiondrug_24[df_infusiondrug_24['drugname'].str.contains('Epinephrine', case=False, na=False)]\n",
    "norepinephrine = df_infusiondrug_24[df_infusiondrug_24['drugname'].str.contains('Norepinephrine', case=False, na=False)]\n",
    "\n",
    "del df_infusiondrug_24"
   ]
  },
  {
   "cell_type": "markdown",
   "metadata": {},
   "source": [
    "#### editando as features"
   ]
  },
  {
   "cell_type": "code",
   "execution_count": null,
   "metadata": {},
   "outputs": [],
   "source": []
  }
 ],
 "metadata": {
  "kernelspec": {
   "display_name": "Python 3 (ipykernel)",
   "language": "python",
   "name": "python3"
  }
 },
 "nbformat": 4,
 "nbformat_minor": 2
}
