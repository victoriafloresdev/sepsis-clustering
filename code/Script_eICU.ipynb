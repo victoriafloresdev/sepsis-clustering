{
  "cells": [
    {
      "cell_type": "markdown",
      "metadata": {
        "id": "lnI8nEIl0-A0"
      },
      "source": [
        "#Importando Bibliotecas"
      ]
    },
    {
      "cell_type": "code",
      "execution_count": 2,
      "metadata": {
        "id": "nokCk3WP04LH"
      },
      "outputs": [],
      "source": [
        "import pandas as pd\n",
        "import matplotlib.pyplot as plt\n",
        "import numpy as np\n",
        "from IPython.display import display"
      ]
    },
    {
      "cell_type": "markdown",
      "metadata": {
        "id": "iAlOvOUUfSW5"
      },
      "source": [
        "#Tabela\n"
      ]
    },
    {
      "cell_type": "markdown",
      "metadata": {
        "id": "ayzn6L221F-p"
      },
      "source": [
        "##Base de Dados"
      ]
    },
    {
      "cell_type": "code",
      "execution_count": 4,
      "metadata": {
        "colab": {
          "base_uri": "https://localhost:8080/"
        },
        "id": "bIodOUpx08Jl",
        "outputId": "06a911e9-99c2-4819-8068-eb159349b7f6"
      },
      "outputs": [],
      "source": [
        "URL_BASES = \"./../Databases/eICU/\"\n",
        "patient_csv = \"patient.csv\"\n",
        "infusiondrug = \"infusiondrug.csv\"\n",
        "physicalExam = \"physicalExam.csv\"\n",
        "lab = \"lab.csv\"\n",
        "\n",
        "url_patient = URL_BASES + patient_csv\n",
        "url_infusiondrug = URL_BASES + infusiondrug\n",
        "url_physicalExam = URL_BASES + physicalExam\n",
        "url_lab = URL_BASES + lab\n",
        "\n",
        "comeco_intervalo = 60 * 0\n",
        "final_intervalo = 60 * 24\n",
        "\n",
        "df_patient = pd.read_csv(url_patient)\n",
        "df_lab = pd.read_csv(url_lab)\n",
        "df_physicalExam = pd.read_csv(url_physicalExam)"
      ]
    },
    {
      "cell_type": "markdown",
      "metadata": {
        "id": "W1chc1pz8ofI"
      },
      "source": [
        "## Characteristic"
      ]
    },
    {
      "cell_type": "code",
      "execution_count": 5,
      "metadata": {
        "colab": {
          "base_uri": "https://localhost:8080/",
          "height": 206
        },
        "id": "c-LQucVU8wi5",
        "outputId": "0541bccb-228c-47f7-f82c-1e172bba227d"
      },
      "outputs": [
        {
          "data": {
            "text/html": [
              "<div>\n",
              "<style scoped>\n",
              "    .dataframe tbody tr th:only-of-type {\n",
              "        vertical-align: middle;\n",
              "    }\n",
              "\n",
              "    .dataframe tbody tr th {\n",
              "        vertical-align: top;\n",
              "    }\n",
              "\n",
              "    .dataframe thead th {\n",
              "        text-align: right;\n",
              "    }\n",
              "</style>\n",
              "<table border=\"1\" class=\"dataframe\">\n",
              "  <thead>\n",
              "    <tr style=\"text-align: right;\">\n",
              "      <th></th>\n",
              "      <th>patientunitstayid</th>\n",
              "      <th>gender</th>\n",
              "      <th>age</th>\n",
              "      <th>ethnicity</th>\n",
              "    </tr>\n",
              "  </thead>\n",
              "  <tbody>\n",
              "    <tr>\n",
              "      <th>0</th>\n",
              "      <td>141168</td>\n",
              "      <td>Female</td>\n",
              "      <td>70</td>\n",
              "      <td>Caucasian</td>\n",
              "    </tr>\n",
              "    <tr>\n",
              "      <th>1</th>\n",
              "      <td>141178</td>\n",
              "      <td>Female</td>\n",
              "      <td>52</td>\n",
              "      <td>Caucasian</td>\n",
              "    </tr>\n",
              "    <tr>\n",
              "      <th>2</th>\n",
              "      <td>141179</td>\n",
              "      <td>Female</td>\n",
              "      <td>52</td>\n",
              "      <td>Caucasian</td>\n",
              "    </tr>\n",
              "    <tr>\n",
              "      <th>3</th>\n",
              "      <td>141194</td>\n",
              "      <td>Male</td>\n",
              "      <td>68</td>\n",
              "      <td>Caucasian</td>\n",
              "    </tr>\n",
              "    <tr>\n",
              "      <th>4</th>\n",
              "      <td>141196</td>\n",
              "      <td>Male</td>\n",
              "      <td>71</td>\n",
              "      <td>Caucasian</td>\n",
              "    </tr>\n",
              "  </tbody>\n",
              "</table>\n",
              "</div>"
            ],
            "text/plain": [
              "   patientunitstayid  gender age  ethnicity\n",
              "0             141168  Female  70  Caucasian\n",
              "1             141178  Female  52  Caucasian\n",
              "2             141179  Female  52  Caucasian\n",
              "3             141194    Male  68  Caucasian\n",
              "4             141196    Male  71  Caucasian"
            ]
          },
          "execution_count": 5,
          "metadata": {},
          "output_type": "execute_result"
        }
      ],
      "source": [
        "characteristic = df_patient [['patientunitstayid', 'gender', 'age', 'ethnicity']].copy()\n",
        "#Substitua valores específicos por NaN\n",
        "#characteristic = characteristic.replace(-1, pd.NA)\n",
        "characteristic.head()"
      ]
    },
    {
      "cell_type": "code",
      "execution_count": 8,
      "metadata": {},
      "outputs": [
        {
          "name": "stderr",
          "output_type": "stream",
          "text": [
            "/tmp/ipykernel_171644/3127796786.py:1: DtypeWarning: Columns (4) have mixed types. Specify dtype option on import or set low_memory=False.\n",
            "  df_infusiondrug = pd.read_csv(\"./../Databases/eICU/infusionDrug.csv\")\n"
          ]
        }
      ],
      "source": [
        "df_infusiondrug = pd.read_csv(\"./../Databases/eICU/infusionDrug.csv\")\n",
        "\n",
        "sepsis = df_patient[df_patient['apacheadmissiondx'].str.contains('sepsis', case=False, na=False)].reset_index()\n",
        "sepsis = sepsis[['patientunitstayid','gender','age']]\n",
        "\n",
        "df_physicalExam = df_physicalExam[(df_physicalExam[\"physicalexamoffset\"]>=comeco_intervalo) &  (df_physicalExam[\"physicalexamoffset\"]<=final_intervalo)]\n",
        "df_physicalExam = pd.merge(sepsis['patientunitstayid'],df_physicalExam,on='patientunitstayid')\n",
        "\n",
        "df_lab = df_lab.loc[(df_lab[\"labresultoffset\"] >= comeco_intervalo) & (df_lab[\"labresultoffset\"] <= final_intervalo)]\n",
        "df_lab = pd.merge(sepsis['patientunitstayid'],df_lab,on='patientunitstayid')\n",
        "\n",
        "df_infusiondrug = df_infusiondrug[(df_infusiondrug[\"infusionoffset\"]>=comeco_intervalo) &  (df_infusiondrug[\"infusionoffset\"]<=final_intervalo)]\n",
        "df_infusiondrug = pd.merge(sepsis['patientunitstayid'],df_infusiondrug,on='patientunitstayid')"
      ]
    },
    {
      "cell_type": "markdown",
      "metadata": {
        "id": "ILdtcG1vO1Ix"
      },
      "source": [
        "##Organ Dysfunction"
      ]
    },
    {
      "cell_type": "markdown",
      "metadata": {
        "id": "imKlFXSXPHgK"
      },
      "source": [
        "Nervous System"
      ]
    },
    {
      "cell_type": "code",
      "execution_count": 11,
      "metadata": {
        "colab": {
          "base_uri": "https://localhost:8080/",
          "height": 424
        },
        "id": "GPy9wh6fO4r3",
        "outputId": "ced77256-08b5-4458-8a18-e9b5f7286ae4"
      },
      "outputs": [
        {
          "data": {
            "text/html": [
              "<div>\n",
              "<style scoped>\n",
              "    .dataframe tbody tr th:only-of-type {\n",
              "        vertical-align: middle;\n",
              "    }\n",
              "\n",
              "    .dataframe tbody tr th {\n",
              "        vertical-align: top;\n",
              "    }\n",
              "\n",
              "    .dataframe thead th {\n",
              "        text-align: right;\n",
              "    }\n",
              "</style>\n",
              "<table border=\"1\" class=\"dataframe\">\n",
              "  <thead>\n",
              "    <tr style=\"text-align: right;\">\n",
              "      <th></th>\n",
              "      <th>patientunitstayid</th>\n",
              "      <th>Nervous</th>\n",
              "    </tr>\n",
              "  </thead>\n",
              "  <tbody>\n",
              "    <tr>\n",
              "      <th>0</th>\n",
              "      <td>141168</td>\n",
              "      <td>NaN</td>\n",
              "    </tr>\n",
              "    <tr>\n",
              "      <th>1</th>\n",
              "      <td>141178</td>\n",
              "      <td>NaN</td>\n",
              "    </tr>\n",
              "    <tr>\n",
              "      <th>2</th>\n",
              "      <td>141179</td>\n",
              "      <td>NaN</td>\n",
              "    </tr>\n",
              "    <tr>\n",
              "      <th>3</th>\n",
              "      <td>141194</td>\n",
              "      <td>1.0</td>\n",
              "    </tr>\n",
              "    <tr>\n",
              "      <th>4</th>\n",
              "      <td>141196</td>\n",
              "      <td>NaN</td>\n",
              "    </tr>\n",
              "    <tr>\n",
              "      <th>...</th>\n",
              "      <td>...</td>\n",
              "      <td>...</td>\n",
              "    </tr>\n",
              "    <tr>\n",
              "      <th>200854</th>\n",
              "      <td>3353235</td>\n",
              "      <td>NaN</td>\n",
              "    </tr>\n",
              "    <tr>\n",
              "      <th>200855</th>\n",
              "      <td>3353237</td>\n",
              "      <td>NaN</td>\n",
              "    </tr>\n",
              "    <tr>\n",
              "      <th>200856</th>\n",
              "      <td>3353251</td>\n",
              "      <td>NaN</td>\n",
              "    </tr>\n",
              "    <tr>\n",
              "      <th>200857</th>\n",
              "      <td>3353254</td>\n",
              "      <td>NaN</td>\n",
              "    </tr>\n",
              "    <tr>\n",
              "      <th>200858</th>\n",
              "      <td>3353263</td>\n",
              "      <td>NaN</td>\n",
              "    </tr>\n",
              "  </tbody>\n",
              "</table>\n",
              "<p>200859 rows × 2 columns</p>\n",
              "</div>"
            ],
            "text/plain": [
              "        patientunitstayid  Nervous\n",
              "0                  141168      NaN\n",
              "1                  141178      NaN\n",
              "2                  141179      NaN\n",
              "3                  141194      1.0\n",
              "4                  141196      NaN\n",
              "...                   ...      ...\n",
              "200854            3353235      NaN\n",
              "200855            3353237      NaN\n",
              "200856            3353251      NaN\n",
              "200857            3353254      NaN\n",
              "200858            3353263      NaN\n",
              "\n",
              "[200859 rows x 2 columns]"
            ]
          },
          "execution_count": 11,
          "metadata": {},
          "output_type": "execute_result"
        }
      ],
      "source": [
        "sofa = df_patient[['patientunitstayid']].copy()\n",
        "\n",
        "motor = df_physicalExam[df_physicalExam['physicalexampath'].str.contains('Motor Score', case=False, na=False)]\n",
        "motor = motor.query('physicalexamoffset >= 0 and physicalexamoffset < 1440')\n",
        "motor = motor[['patientunitstayid', 'physicalexamtext','physicalexamoffset']].copy()\n",
        "motor = motor.rename(columns={'physicalexamtext': 'motor'})\n",
        "motor['motor'] = motor['motor'].astype(int)\n",
        "\n",
        "eyes = df_physicalExam[df_physicalExam['physicalexampath'].str.contains('Eyes Score', case=False, na=False)]\n",
        "eyes = eyes.query('physicalexamoffset >= 0 and physicalexamoffset < 1440')\n",
        "eyes = eyes[['patientunitstayid', 'physicalexamtext','physicalexamoffset']].copy()\n",
        "eyes = eyes.rename(columns={'physicalexamtext': 'eyes'})\n",
        "eyes['eyes'] = eyes['eyes'].astype(int)\n",
        "\n",
        "verbal = df_physicalExam[df_physicalExam['physicalexampath'].str.contains('Verbal Score', case=False, na=False)]\n",
        "verbal = verbal.query('physicalexamoffset >= 0 and physicalexamoffset < 1440')\n",
        "verbal = verbal[['patientunitstayid', 'physicalexamtext','physicalexamoffset']].copy()\n",
        "verbal = verbal.rename(columns={'physicalexamtext': 'verbal'})\n",
        "verbal['verbal'] = verbal['verbal'].astype(int)\n",
        "\n",
        "gcs_temp = pd.merge(motor, eyes, on=['patientunitstayid','physicalexamoffset'], how='outer')\n",
        "gcs = pd.merge(gcs_temp, verbal, on=['patientunitstayid','physicalexamoffset'], how='outer')\n",
        "gcs ['Total'] = gcs ['motor'] + gcs ['eyes'] + gcs ['verbal']\n",
        "\n",
        "idx = gcs.groupby('patientunitstayid')['Total'].idxmin()\n",
        "gcs = gcs.drop(['motor', 'eyes', 'verbal'], axis=1)\n",
        "gcs = gcs.loc[idx]\n",
        "\n",
        "def score(row):\n",
        "  if((row['Total']<6)):\n",
        "    return 4\n",
        "  elif((row['Total']>=6) and (row['Total']<=9)):\n",
        "    return 3\n",
        "  elif((row['Total']>=10) and (row['Total']<=12)):\n",
        "    return 2\n",
        "  elif((row['Total']>=13) and (row['Total']<=14)):\n",
        "    return 1\n",
        "  else:\n",
        "    return 0\n",
        "\n",
        "sofa['Nervous'] = gcs.apply(score, axis=1)\n",
        "sofa"
      ]
    },
    {
      "cell_type": "markdown",
      "metadata": {
        "id": "j8dsou3rPJ2I"
      },
      "source": [
        "Cardiovascular System"
      ]
    },
    {
      "cell_type": "code",
      "execution_count": 12,
      "metadata": {
        "id": "3ZAb6NatO6Y-"
      },
      "outputs": [],
      "source": [
        "dopamine = df_infusiondrug[df_infusiondrug['drugname'].str.contains('Dopamine', case=False, na=False)]\n",
        "dobutamine = df_infusiondrug[df_infusiondrug['drugname'].str.contains('Dobutamine', case=False, na=False)]\n",
        "epinephrine = df_infusiondrug[df_infusiondrug['drugname'].str.contains('Epinephrine', case=False, na=False)]\n",
        "norepinephrine = df_infusiondrug[df_infusiondrug['drugname'].str.contains('Norepinephrine', case=False, na=False)]\n",
        "\n",
        "dopamine = dopamine.query('infusionoffset >= 0 and infusionoffset <= 1440')\n",
        "dobutamine = dobutamine.query('infusionoffset >= 0 and infusionoffset <= 1440')\n",
        "epinephrine = epinephrine.query('infusionoffset >= 0 and infusionoffset <= 1440')\n",
        "norepinephrine = norepinephrine.query('infusionoffset >= 0 and infusionoffset <= 1440')\n",
        "\n",
        "dopamine = dopamine[['patientunitstayid', 'drugamount', 'volumeoffluid']].copy()\n",
        "dobutamine = dobutamine[['patientunitstayid', 'drugamount', 'volumeoffluid']].copy()\n",
        "epinephrine = epinephrine[['patientunitstayid', 'drugamount', 'volumeoffluid']].copy()\n",
        "norepinephrine = norepinephrine[['patientunitstayid', 'drugamount', 'volumeoffluid']].copy()\n",
        "\n",
        "dopamine['concentration.dop'] = dopamine.apply(lambda row: row['drugamount'] / row['volumeoffluid'] if row['volumeoffluid'] else None, axis=1)\n",
        "epinephrine['concentration.epi'] = epinephrine.apply(lambda row: row['drugamount'] / row['volumeoffluid'] if row['volumeoffluid'] else None, axis=1)\n",
        "dobutamine['concentration.dob'] = dobutamine.apply(lambda row: row['drugamount'] / row['volumeoffluid'] if row['volumeoffluid'] else None, axis=1)\n",
        "norepinephrine['concentration.nor'] = norepinephrine.apply(lambda row: row['drugamount'] / row['volumeoffluid'] if row['volumeoffluid'] else None, axis=1)\n",
        "\n",
        "\n",
        "dopamine.rename(columns={'drugamount' : 'dopamine'}, inplace=True)\n",
        "dobutamine.rename(columns={'drugamount' : 'dobutamine'}, inplace=True)\n",
        "epinephrine.rename(columns={'drugamount' : 'epinephrine'}, inplace=True)\n",
        "norepinephrine.rename(columns={'drugamount' : 'norepinephrine'}, inplace=True)\n",
        "\n",
        "dopamine = dopamine.groupby('patientunitstayid')['concentration.dop'].max().reset_index()\n",
        "dobutamine = dobutamine.groupby('patientunitstayid')['concentration.dob'].max().reset_index()\n",
        "epinephrine = epinephrine.groupby('patientunitstayid')['concentration.epi'].max().reset_index()\n",
        "norepinephrine = norepinephrine.groupby('patientunitstayid')['concentration.nor'].max().reset_index()\n",
        "\n",
        "cardio = pd.merge(dopamine, dobutamine, on='patientunitstayid', how='outer')\n",
        "cardio = pd.merge(cardio, epinephrine, on='patientunitstayid', how='outer')\n",
        "cardio = pd.merge(cardio, norepinephrine, on='patientunitstayid', how='outer')"
      ]
    },
    {
      "cell_type": "code",
      "execution_count": 13,
      "metadata": {
        "id": "EQl-y2ixO95Q"
      },
      "outputs": [],
      "source": [
        "systolic = df_physicalExam[df_physicalExam['physicalexampath'].str.contains('systolic', case=False, na=False)]\n",
        "diastolic = df_physicalExam[df_physicalExam['physicalexampath'].str.contains('diastolic', case=False, na=False)]\n",
        "\n",
        "systolic = systolic.query('physicalexamoffset >= 0 and physicalexamoffset <= 1440')\n",
        "diastolic = diastolic.query('physicalexamoffset >= 0 and physicalexamoffset <= 1440')\n",
        "\n",
        "systolic = systolic[['patientunitstayid', 'physicalexamtext','physicalexamoffset']].copy()\n",
        "diastolic = diastolic[['patientunitstayid', 'physicalexamtext','physicalexamoffset']].copy()\n",
        "\n",
        "systolic.rename(columns={'physicalexamtext' : 'systolic'}, inplace=True)\n",
        "diastolic.rename(columns={'physicalexamtext' : 'diastolic'}, inplace=True)\n",
        "\n",
        "MAP = pd.merge(systolic, diastolic, on=['patientunitstayid','physicalexamoffset'])\n",
        "\n",
        "try:\n",
        "  MAP[\"diastolic\"] = MAP[\"diastolic\"].astype(int)\n",
        "except ValueError:\n",
        "  MAP[\"diastolic\"] = pd.to_numeric(MAP[\"diastolic\"], errors='coerce')\n",
        "\n",
        "try:\n",
        "  MAP[\"systolic\"] = MAP[\"systolic\"].astype(int)\n",
        "except ValueError:\n",
        "  MAP[\"systolic\"] = pd.to_numeric(MAP[\"systolic\"], errors='coerce')\n",
        "\n",
        "#PAM = (Pressão Sistólica + 2 x Pressão Diastólica) / 3\n",
        "MAP['MAP'] = (MAP['systolic'] + 2*(MAP['diastolic'])) / 3\n",
        "MAP = MAP.groupby('patientunitstayid')['MAP'].min().reset_index()\n",
        "\n",
        "cardio = pd.merge(cardio, MAP, on='patientunitstayid', how='outer')"
      ]
    },
    {
      "cell_type": "code",
      "execution_count": 14,
      "metadata": {
        "id": "o6JaNhePO_-N"
      },
      "outputs": [],
      "source": [
        "def score(row):\n",
        "  if((row['concentration.dop']>15) or (row['concentration.epi']>0.1) or (row['concentration.nor']>0.1)):\n",
        "    return 4\n",
        "  elif((row['concentration.dop']>5) or (row['concentration.epi']<=0.1) or (row['concentration.nor']<=0.1)):\n",
        "    return 3\n",
        "  elif((row['concentration.dop']<=5) or (row['concentration.dop']>0)):\n",
        "    return 2\n",
        "  elif(row['MAP']<70):\n",
        "    return 1\n",
        "  else:\n",
        "    return 0\n",
        "\n",
        "sofa['Cardiovascular'] = cardio.apply(score, axis=1)"
      ]
    },
    {
      "cell_type": "markdown",
      "metadata": {
        "id": "DNNPG7xEPPSd"
      },
      "source": [
        "Respiratory System"
      ]
    },
    {
      "cell_type": "code",
      "execution_count": 16,
      "metadata": {
        "id": "DQ4JzwmfPSPy"
      },
      "outputs": [],
      "source": [
        "pao2 = df_lab[df_lab['labname'].str.contains('^paO2$', case=False, na=False, regex=True)]\n",
        "fio2 = df_lab[df_lab['labname'].str.contains('^FiO2$', case=False, na=False, regex=True)]\n",
        "\n",
        "pao2 = pao2.query('labresultoffset >= 0 and labresultoffset <= 1440')\n",
        "fio2 = fio2.query('labresultoffset >= 0 and labresultoffset <= 1440')\n",
        "\n",
        "pao2 = pao2[['patientunitstayid', 'labresult']].copy()\n",
        "fio2 = fio2[['patientunitstayid', 'labresult']].copy()\n",
        "\n",
        "pao2.rename(columns={'labresult' : 'pao2'}, inplace=True)\n",
        "fio2.rename(columns={'labresult' : 'fio2'}, inplace=True)\n",
        "\n",
        "resp = pd.merge(pao2, fio2, on=['patientunitstayid'], how='outer')\n",
        "resp['Total'] = resp['pao2']/resp['fio2']\n",
        "\n",
        "def score(row):\n",
        "    if row['Total'] < 100:\n",
        "        return 4\n",
        "    elif 100 <= row['Total'] < 200:\n",
        "        return 3\n",
        "    elif 200 <= row['Total'] < 300:\n",
        "        return 2\n",
        "    elif 300 <= row['Total'] < 400:\n",
        "        return 1\n",
        "    else:\n",
        "        return 0\n",
        "\n",
        "resp = resp.groupby('patientunitstayid')['Total'].min().reset_index()\n",
        "sofa['Respiratory'] = resp.apply(score, axis=1)"
      ]
    },
    {
      "cell_type": "markdown",
      "metadata": {
        "id": "5QRh_PGuZv1I"
      },
      "source": [
        "Coagulation"
      ]
    },
    {
      "cell_type": "code",
      "execution_count": 17,
      "metadata": {
        "id": "qaKgRnDDZxlw"
      },
      "outputs": [],
      "source": [
        "platelets = df_lab[df_lab['labname'].str.contains('platelets', case=False, na=False)]\n",
        "platelets = platelets.query('labresultoffset >= 0 and labresultoffset <= 1440')\n",
        "platelets = platelets[['patientunitstayid', 'labresult']].copy()\n",
        "platelets.rename(columns={'labresult' : 'platelets'}, inplace=True)\n",
        "platelets = platelets.groupby('patientunitstayid')['platelets'].min().reset_index()\n",
        "\n",
        "def score(row):\n",
        "    if row['platelets'] < 20:\n",
        "        return 4\n",
        "    elif 20 <= row['platelets'] < 50:\n",
        "        return 3\n",
        "    elif 50 <= row['platelets'] < 100:\n",
        "        return 2\n",
        "    elif 100 <= row['platelets'] < 150:\n",
        "        return 1\n",
        "    else:\n",
        "        return 0\n",
        "\n",
        "sofa['Coagulation'] = platelets.apply(score, axis=1)"
      ]
    },
    {
      "cell_type": "markdown",
      "metadata": {
        "id": "cAPl88fyZ0ji"
      },
      "source": [
        "Liver"
      ]
    },
    {
      "cell_type": "code",
      "execution_count": 18,
      "metadata": {
        "id": "ykWavDzdZy7X"
      },
      "outputs": [],
      "source": [
        "bilirubin = df_lab[df_lab['labname'].str.contains('total bilirubin', case=False, na=False)]\n",
        "bilirubin = bilirubin.query('labresultoffset >= 0 and labresultoffset <= 1440')\n",
        "bilirubin = bilirubin[['patientunitstayid', 'labresult']].copy()\n",
        "bilirubin.rename(columns={'labresult' : 'bilirubin'}, inplace=True)\n",
        "bilirubin = bilirubin.groupby('patientunitstayid')['bilirubin'].max().reset_index()\n",
        "\n",
        "def score(row):\n",
        "    if row['bilirubin'] >= 12.0:\n",
        "        return 4\n",
        "    elif 12.0 > row['bilirubin'] >= 6.0:\n",
        "        return 3\n",
        "    elif 6.0 > row['bilirubin'] >= 2.0:\n",
        "        return 2\n",
        "    elif 2.0 > row['bilirubin'] > 1.2:\n",
        "        return 1\n",
        "    else:\n",
        "        return 0\n",
        "\n",
        "sofa['Liver'] = bilirubin.apply(score, axis=1)"
      ]
    },
    {
      "cell_type": "markdown",
      "metadata": {
        "id": "LElIHCA_Z4qm"
      },
      "source": [
        "Renal Function"
      ]
    },
    {
      "cell_type": "code",
      "execution_count": 19,
      "metadata": {
        "id": "7f3tSec-Z4Fl"
      },
      "outputs": [],
      "source": [
        "creatinine = df_lab[df_lab['labname'].str.contains('creatinine', case=False, na=False)]\n",
        "creatinine = creatinine.query('labresultoffset >=0 and labresultoffset <= 1440')\n",
        "creatinine = creatinine[['patientunitstayid','labresult']].copy()\n",
        "creatinine.rename(columns={'labresult' : 'creatinine'}, inplace=True)\n",
        "creatinine = creatinine.groupby('patientunitstayid')['creatinine'].max().reset_index()\n",
        "\n",
        "def score(row):\n",
        "  if row['creatinine'] >= 5.0:\n",
        "    return 4\n",
        "  elif 5.0 > row['creatinine'] >= 3.5:\n",
        "    return 3\n",
        "  elif 3.0 > row['creatinine'] >= 2.0:\n",
        "    return 2\n",
        "  elif 2.0 > row['creatinine'] > 1.2:\n",
        "    return 1\n",
        "  else:\n",
        "    return 0\n",
        "\n",
        "sofa['Renal'] = creatinine.apply(score, axis=1)"
      ]
    },
    {
      "cell_type": "markdown",
      "metadata": {
        "id": "deLWkNnXZ_3Y"
      },
      "source": [
        "Score Final"
      ]
    },
    {
      "cell_type": "code",
      "execution_count": 20,
      "metadata": {
        "colab": {
          "base_uri": "https://localhost:8080/",
          "height": 424
        },
        "id": "F_Ffpd56Z80I",
        "outputId": "9a009888-b924-4f32-cf8c-c53bbb8331be"
      },
      "outputs": [
        {
          "data": {
            "text/html": [
              "<div>\n",
              "<style scoped>\n",
              "    .dataframe tbody tr th:only-of-type {\n",
              "        vertical-align: middle;\n",
              "    }\n",
              "\n",
              "    .dataframe tbody tr th {\n",
              "        vertical-align: top;\n",
              "    }\n",
              "\n",
              "    .dataframe thead th {\n",
              "        text-align: right;\n",
              "    }\n",
              "</style>\n",
              "<table border=\"1\" class=\"dataframe\">\n",
              "  <thead>\n",
              "    <tr style=\"text-align: right;\">\n",
              "      <th></th>\n",
              "      <th>patientunitstayid</th>\n",
              "      <th>sofascore</th>\n",
              "    </tr>\n",
              "  </thead>\n",
              "  <tbody>\n",
              "    <tr>\n",
              "      <th>0</th>\n",
              "      <td>141168</td>\n",
              "      <td>NaN</td>\n",
              "    </tr>\n",
              "    <tr>\n",
              "      <th>1</th>\n",
              "      <td>141178</td>\n",
              "      <td>NaN</td>\n",
              "    </tr>\n",
              "    <tr>\n",
              "      <th>2</th>\n",
              "      <td>141179</td>\n",
              "      <td>NaN</td>\n",
              "    </tr>\n",
              "    <tr>\n",
              "      <th>3</th>\n",
              "      <td>141194</td>\n",
              "      <td>2.0</td>\n",
              "    </tr>\n",
              "    <tr>\n",
              "      <th>4</th>\n",
              "      <td>141196</td>\n",
              "      <td>NaN</td>\n",
              "    </tr>\n",
              "    <tr>\n",
              "      <th>...</th>\n",
              "      <td>...</td>\n",
              "      <td>...</td>\n",
              "    </tr>\n",
              "    <tr>\n",
              "      <th>200854</th>\n",
              "      <td>3353235</td>\n",
              "      <td>NaN</td>\n",
              "    </tr>\n",
              "    <tr>\n",
              "      <th>200855</th>\n",
              "      <td>3353237</td>\n",
              "      <td>NaN</td>\n",
              "    </tr>\n",
              "    <tr>\n",
              "      <th>200856</th>\n",
              "      <td>3353251</td>\n",
              "      <td>NaN</td>\n",
              "    </tr>\n",
              "    <tr>\n",
              "      <th>200857</th>\n",
              "      <td>3353254</td>\n",
              "      <td>NaN</td>\n",
              "    </tr>\n",
              "    <tr>\n",
              "      <th>200858</th>\n",
              "      <td>3353263</td>\n",
              "      <td>NaN</td>\n",
              "    </tr>\n",
              "  </tbody>\n",
              "</table>\n",
              "<p>200859 rows × 2 columns</p>\n",
              "</div>"
            ],
            "text/plain": [
              "        patientunitstayid  sofascore\n",
              "0                  141168        NaN\n",
              "1                  141178        NaN\n",
              "2                  141179        NaN\n",
              "3                  141194        2.0\n",
              "4                  141196        NaN\n",
              "...                   ...        ...\n",
              "200854            3353235        NaN\n",
              "200855            3353237        NaN\n",
              "200856            3353251        NaN\n",
              "200857            3353254        NaN\n",
              "200858            3353263        NaN\n",
              "\n",
              "[200859 rows x 2 columns]"
            ]
          },
          "execution_count": 20,
          "metadata": {},
          "output_type": "execute_result"
        }
      ],
      "source": [
        "sofa['sofascore'] = sofa['Nervous'] + sofa['Cardiovascular'] + sofa['Respiratory'] + sofa['Coagulation'] + sofa['Liver'] + sofa['Renal']\n",
        "sofa = sofa[['patientunitstayid', 'sofascore']].copy()\n",
        "sofa"
      ]
    },
    {
      "cell_type": "markdown",
      "metadata": {
        "id": "dsjyiEiS7E14"
      },
      "source": [
        "##Inflammation\n"
      ]
    },
    {
      "cell_type": "code",
      "execution_count": 28,
      "metadata": {
        "colab": {
          "base_uri": "https://localhost:8080/",
          "height": 424
        },
        "id": "4-KlO0l67Hrw",
        "outputId": "3cb2ad58-dd56-4587-b439-7c4de4e9c93c"
      },
      "outputs": [
        {
          "data": {
            "text/html": [
              "<div>\n",
              "<style scoped>\n",
              "    .dataframe tbody tr th:only-of-type {\n",
              "        vertical-align: middle;\n",
              "    }\n",
              "\n",
              "    .dataframe tbody tr th {\n",
              "        vertical-align: top;\n",
              "    }\n",
              "\n",
              "    .dataframe thead th {\n",
              "        text-align: right;\n",
              "    }\n",
              "</style>\n",
              "<table border=\"1\" class=\"dataframe\">\n",
              "  <thead>\n",
              "    <tr style=\"text-align: right;\">\n",
              "      <th></th>\n",
              "      <th>patientunitstayid</th>\n",
              "      <th>bands</th>\n",
              "      <th>CRP</th>\n",
              "      <th>ESR</th>\n",
              "      <th>temp</th>\n",
              "      <th>lactate</th>\n",
              "      <th>WBC</th>\n",
              "    </tr>\n",
              "  </thead>\n",
              "  <tbody>\n",
              "    <tr>\n",
              "      <th>0</th>\n",
              "      <td>141194</td>\n",
              "      <td>NaN</td>\n",
              "      <td>NaN</td>\n",
              "      <td>NaN</td>\n",
              "      <td>NaN</td>\n",
              "      <td>1.3</td>\n",
              "      <td>14.1</td>\n",
              "    </tr>\n",
              "    <tr>\n",
              "      <th>1</th>\n",
              "      <td>141227</td>\n",
              "      <td>10.0</td>\n",
              "      <td>NaN</td>\n",
              "      <td>NaN</td>\n",
              "      <td>NaN</td>\n",
              "      <td>2.1</td>\n",
              "      <td>42.7</td>\n",
              "    </tr>\n",
              "    <tr>\n",
              "      <th>2</th>\n",
              "      <td>141266</td>\n",
              "      <td>NaN</td>\n",
              "      <td>NaN</td>\n",
              "      <td>NaN</td>\n",
              "      <td>NaN</td>\n",
              "      <td>NaN</td>\n",
              "      <td>10.0</td>\n",
              "    </tr>\n",
              "    <tr>\n",
              "      <th>3</th>\n",
              "      <td>141288</td>\n",
              "      <td>26.0</td>\n",
              "      <td>NaN</td>\n",
              "      <td>NaN</td>\n",
              "      <td>NaN</td>\n",
              "      <td>1.1</td>\n",
              "      <td>16.3</td>\n",
              "    </tr>\n",
              "    <tr>\n",
              "      <th>4</th>\n",
              "      <td>141297</td>\n",
              "      <td>20.0</td>\n",
              "      <td>19.7</td>\n",
              "      <td>115.0</td>\n",
              "      <td>NaN</td>\n",
              "      <td>3.0</td>\n",
              "      <td>17.3</td>\n",
              "    </tr>\n",
              "    <tr>\n",
              "      <th>...</th>\n",
              "      <td>...</td>\n",
              "      <td>...</td>\n",
              "      <td>...</td>\n",
              "      <td>...</td>\n",
              "      <td>...</td>\n",
              "      <td>...</td>\n",
              "      <td>...</td>\n",
              "    </tr>\n",
              "    <tr>\n",
              "      <th>21593</th>\n",
              "      <td>3352884</td>\n",
              "      <td>NaN</td>\n",
              "      <td>NaN</td>\n",
              "      <td>NaN</td>\n",
              "      <td>NaN</td>\n",
              "      <td>1.0</td>\n",
              "      <td>14.4</td>\n",
              "    </tr>\n",
              "    <tr>\n",
              "      <th>21594</th>\n",
              "      <td>3352895</td>\n",
              "      <td>NaN</td>\n",
              "      <td>NaN</td>\n",
              "      <td>NaN</td>\n",
              "      <td>NaN</td>\n",
              "      <td>NaN</td>\n",
              "      <td>7.9</td>\n",
              "    </tr>\n",
              "    <tr>\n",
              "      <th>21595</th>\n",
              "      <td>3352922</td>\n",
              "      <td>NaN</td>\n",
              "      <td>NaN</td>\n",
              "      <td>NaN</td>\n",
              "      <td>NaN</td>\n",
              "      <td>7.0</td>\n",
              "      <td>19.7</td>\n",
              "    </tr>\n",
              "    <tr>\n",
              "      <th>21596</th>\n",
              "      <td>3352940</td>\n",
              "      <td>NaN</td>\n",
              "      <td>NaN</td>\n",
              "      <td>NaN</td>\n",
              "      <td>NaN</td>\n",
              "      <td>4.0</td>\n",
              "      <td>18.9</td>\n",
              "    </tr>\n",
              "    <tr>\n",
              "      <th>21597</th>\n",
              "      <td>3352961</td>\n",
              "      <td>NaN</td>\n",
              "      <td>NaN</td>\n",
              "      <td>NaN</td>\n",
              "      <td>NaN</td>\n",
              "      <td>NaN</td>\n",
              "      <td>15.4</td>\n",
              "    </tr>\n",
              "  </tbody>\n",
              "</table>\n",
              "<p>21598 rows × 7 columns</p>\n",
              "</div>"
            ],
            "text/plain": [
              "       patientunitstayid  bands   CRP    ESR  temp  lactate   WBC\n",
              "0                 141194    NaN   NaN    NaN   NaN      1.3  14.1\n",
              "1                 141227   10.0   NaN    NaN   NaN      2.1  42.7\n",
              "2                 141266    NaN   NaN    NaN   NaN      NaN  10.0\n",
              "3                 141288   26.0   NaN    NaN   NaN      1.1  16.3\n",
              "4                 141297   20.0  19.7  115.0   NaN      3.0  17.3\n",
              "...                  ...    ...   ...    ...   ...      ...   ...\n",
              "21593            3352884    NaN   NaN    NaN   NaN      1.0  14.4\n",
              "21594            3352895    NaN   NaN    NaN   NaN      NaN   7.9\n",
              "21595            3352922    NaN   NaN    NaN   NaN      7.0  19.7\n",
              "21596            3352940    NaN   NaN    NaN   NaN      4.0  18.9\n",
              "21597            3352961    NaN   NaN    NaN   NaN      NaN  15.4\n",
              "\n",
              "[21598 rows x 7 columns]"
            ]
          },
          "execution_count": 28,
          "metadata": {},
          "output_type": "execute_result"
        }
      ],
      "source": [
        "bands = df_lab[df_lab['labname'].str.contains('-bands', case=False, na=False)]\n",
        "CRP = df_lab[df_lab['labname'].str.contains('CRP', case=False, na=False)]\n",
        "ESR = df_lab[df_lab['labname'].str.contains('ESR', case=False, na=False)]\n",
        "lactate = df_lab[df_lab['labname'].str.contains('lactate', case=False, na=False)]\n",
        "temperature = df_lab[df_lab['labname'].str.contains('Temp', case=False, na=False)]\n",
        "WBC = df_lab[df_lab['labname'].str.contains('WBC x 1000', case=False, na=False)]\n",
        "#lymphs = df_lab[df_lab['labname'].str.contains('-lymphs', case=False, na=False)]\n",
        "\n",
        "bands = bands.query('labresultoffset >= 0 and labresultoffset <= 1440')\n",
        "CRP = CRP.query('labresultoffset >= 0 and labresultoffset <= 1440')\n",
        "ESR = ESR.query('labresultoffset >= 0 and labresultoffset <= 1440')\n",
        "temperature = temperature.query('labresultoffset >= 0 and labresultoffset <= 1440')\n",
        "lactate = lactate.query('labresultoffset >= 0 and labresultoffset <= 1440')\n",
        "WBC = WBC.query('labresultoffset >= 0 and labresultoffset <= 1440')\n",
        "\n",
        "bands = bands[['patientunitstayid', 'labresult']].copy()\n",
        "CRP = CRP[['patientunitstayid', 'labresult']].copy()\n",
        "ESR = ESR[['patientunitstayid', 'labresult']].copy()\n",
        "temperature = temperature[['patientunitstayid', 'labresulttext']].copy()\n",
        "lactate = lactate[['patientunitstayid', 'labresult']].copy()\n",
        "WBC = WBC[['patientunitstayid', 'labresult']].copy()\n",
        "#lymphs = lymphs[['patientunitstayid', 'labresult']].copy()\n",
        "\n",
        "# Transformando as temperaturas em celsius\n",
        "temperature['temp'] = temperature['labresulttext'].astype(float)\n",
        "temperature['temp'] = temperature['temp'].map(lambda x: x if x < 60 else (x - 32) * 5/9)\n",
        "\n",
        "# Pior valor da temperatura\n",
        "temperature['distancia'] = np.abs(temperature['temp'] - 36.85)\n",
        "temperature = temperature.loc[temperature.groupby('patientunitstayid')['distancia'].idxmax()]\n",
        "temperature = temperature.reset_index(drop=True)\n",
        "temperature = temperature.drop(['distancia', 'labresulttext'], axis=1)\n",
        "\n",
        "# Calcular o valor mais crítico para WBC\n",
        "#WBC['distancia'] = np.abs(WBC['labresult'] - 7500)\n",
        "WBC = WBC.groupby('patientunitstayid')['labresult'].max().reset_index()\n",
        "\n",
        "# Calcular o valor mais crítico para linfócitos\n",
        "#lymphs['distancia'] = np.abs(lymphs['labresult'] - 2000)\n",
        "#lymphs = lymphs.groupby('patientunitstayid')['labresult'].max().reset_index(drop=True)\n",
        "\n",
        "bands = bands.groupby('patientunitstayid')['labresult'].max().reset_index()\n",
        "CRP = CRP.groupby('patientunitstayid')['labresult'].max().reset_index()\n",
        "ESR = ESR.groupby('patientunitstayid')['labresult'].max().reset_index()\n",
        "lactate= lactate.groupby('patientunitstayid')['labresult'].max().reset_index()\n",
        "\n",
        "bands = bands.rename(columns={'labresult': 'bands'})\n",
        "CRP = CRP.rename(columns={'labresult': 'CRP'})\n",
        "ESR = ESR.rename(columns={'labresult': 'ESR'})\n",
        "lactate = lactate.rename(columns={'labresult': 'lactate'})\n",
        "WBC = WBC.rename(columns={'labresult': 'WBC'})\n",
        "#lymphs = lymphs.rename(columns={'labresult': 'lymphs'})\n",
        "\n",
        "inflammation = pd.merge(bands, CRP, on='patientunitstayid', how='outer')\n",
        "inflammation = pd.merge(inflammation, ESR, on='patientunitstayid', how='outer')\n",
        "inflammation = pd.merge(inflammation, temperature, on='patientunitstayid', how='outer')\n",
        "inflammation = pd.merge(inflammation, lactate, on='patientunitstayid', how='outer')\n",
        "inflammation = pd.merge(inflammation, WBC, on='patientunitstayid', how='outer')\n",
        "#inflammation = pd.merge(inflammation, lymphs, on='patientunitstayid', how='outer')\n",
        "\n",
        "inflammation"
      ]
    },
    {
      "cell_type": "markdown",
      "metadata": {
        "id": "SKIYBokrFEYk"
      },
      "source": [
        "##Pulmonary"
      ]
    },
    {
      "cell_type": "code",
      "execution_count": 29,
      "metadata": {
        "id": "UyRXeMuXggaP"
      },
      "outputs": [],
      "source": [
        "resp = df_physicalExam[df_physicalExam['physicalexampath'].str.contains('Resp Current', case=False, na=False)]\n",
        "resp = resp.query('physicalexamoffset >= 0 and physicalexamoffset <= 1440')\n",
        "resp = resp[['patientunitstayid', 'physicalexamtext']].copy()\n",
        "resp['physicalexamtext'] = resp['physicalexamtext'].astype(float)\n",
        "\n",
        "resp['distancia'] = np.abs(resp['physicalexamtext'] - 16)\n",
        "resp = resp.loc[resp.groupby('patientunitstayid')['distancia'].idxmax()]\n",
        "resp = resp.reset_index(drop=True)\n",
        "resp = resp.drop(['distancia'], axis=1)\n",
        "\n",
        "resp = resp.groupby('patientunitstayid')['physicalexamtext'].max().reset_index()\n",
        "resp = resp.rename(columns={'physicalexamtext': 'resp'})"
      ]
    },
    {
      "cell_type": "code",
      "execution_count": 30,
      "metadata": {
        "id": "drnSPwQzoYbN"
      },
      "outputs": [],
      "source": [
        "spo2 = df_lab[df_lab['labname'].str.contains('O2 Sat', case=False, na=False)]\n",
        "fio2 = df_lab[df_lab['labname'].str.contains('FiO2', case=False, na=False)]\n",
        "\n",
        "spo2 = spo2.query('labresultoffset >= 0 and labresultoffset <= 1440')\n",
        "fio2 = fio2.query('labresultoffset >= 0 and labresultoffset <= 1440')\n",
        "\n",
        "spo2 = spo2[['patientunitstayid', 'labresult']].copy()\n",
        "fio2 = fio2[['patientunitstayid', 'labresult']].copy()\n",
        "\n",
        "spo2 = spo2.rename(columns={'labresult': 'spo2'})\n",
        "fio2 = fio2.rename(columns={'labresult': 'fio2'})\n",
        "\n",
        "spo2_fio2 = pd.merge(spo2, fio2, on='patientunitstayid')\n",
        "spo2_fio2['spo2/fio2'] = spo2_fio2['spo2'] / spo2_fio2['fio2']\n",
        "spo2_fio2 = spo2_fio2.drop(['spo2', 'fio2'], axis=1)\n",
        "spo2_fio2 = spo2_fio2.groupby('patientunitstayid')['spo2/fio2'].max().reset_index()"
      ]
    },
    {
      "cell_type": "code",
      "execution_count": 31,
      "metadata": {
        "id": "h--Q5qzQVC8r"
      },
      "outputs": [],
      "source": [
        "pao2 = df_lab[df_lab['labname'].str.contains('paO2', case=False, na=False)]\n",
        "pao2 = pao2.query('labresultoffset >= 0 and labresultoffset <= 1440')\n",
        "pao2 = pao2[['patientunitstayid', 'labresult']].copy()\n",
        "pao2 = pao2.rename(columns={'labresult': 'pao2'})\n",
        "pao2_fio2 = pd.merge(pao2, fio2, on='patientunitstayid')\n",
        "pao2_fio2['pao2/fio2'] = pao2_fio2['pao2'] / pao2_fio2['fio2']\n",
        "pao2_fio2 = pao2_fio2.drop(['pao2', 'fio2'], axis=1)\n",
        "pao2_fio2 = pao2_fio2.groupby('patientunitstayid')['pao2/fio2'].min().reset_index()"
      ]
    },
    {
      "cell_type": "code",
      "execution_count": 32,
      "metadata": {
        "colab": {
          "base_uri": "https://localhost:8080/",
          "height": 424
        },
        "id": "XGcmWuW5W-70",
        "outputId": "7ef67c48-b4ef-43a9-8a14-93a262b322ea"
      },
      "outputs": [
        {
          "data": {
            "text/html": [
              "<div>\n",
              "<style scoped>\n",
              "    .dataframe tbody tr th:only-of-type {\n",
              "        vertical-align: middle;\n",
              "    }\n",
              "\n",
              "    .dataframe tbody tr th {\n",
              "        vertical-align: top;\n",
              "    }\n",
              "\n",
              "    .dataframe thead th {\n",
              "        text-align: right;\n",
              "    }\n",
              "</style>\n",
              "<table border=\"1\" class=\"dataframe\">\n",
              "  <thead>\n",
              "    <tr style=\"text-align: right;\">\n",
              "      <th></th>\n",
              "      <th>patientunitstayid</th>\n",
              "      <th>resp</th>\n",
              "      <th>spo2/fio2</th>\n",
              "      <th>pao2/fio2</th>\n",
              "    </tr>\n",
              "  </thead>\n",
              "  <tbody>\n",
              "    <tr>\n",
              "      <th>0</th>\n",
              "      <td>141194</td>\n",
              "      <td>25.0</td>\n",
              "      <td>NaN</td>\n",
              "      <td>NaN</td>\n",
              "    </tr>\n",
              "    <tr>\n",
              "      <th>1</th>\n",
              "      <td>141197</td>\n",
              "      <td>24.0</td>\n",
              "      <td>NaN</td>\n",
              "      <td>NaN</td>\n",
              "    </tr>\n",
              "    <tr>\n",
              "      <th>2</th>\n",
              "      <td>141227</td>\n",
              "      <td>NaN</td>\n",
              "      <td>NaN</td>\n",
              "      <td>0.650000</td>\n",
              "    </tr>\n",
              "    <tr>\n",
              "      <th>3</th>\n",
              "      <td>141266</td>\n",
              "      <td>19.0</td>\n",
              "      <td>NaN</td>\n",
              "      <td>NaN</td>\n",
              "    </tr>\n",
              "    <tr>\n",
              "      <th>4</th>\n",
              "      <td>141288</td>\n",
              "      <td>NaN</td>\n",
              "      <td>NaN</td>\n",
              "      <td>0.810000</td>\n",
              "    </tr>\n",
              "    <tr>\n",
              "      <th>...</th>\n",
              "      <td>...</td>\n",
              "      <td>...</td>\n",
              "      <td>...</td>\n",
              "      <td>...</td>\n",
              "    </tr>\n",
              "    <tr>\n",
              "      <th>18876</th>\n",
              "      <td>3352721</td>\n",
              "      <td>23.0</td>\n",
              "      <td>3.333333</td>\n",
              "      <td>1.170000</td>\n",
              "    </tr>\n",
              "    <tr>\n",
              "      <th>18877</th>\n",
              "      <td>3352895</td>\n",
              "      <td>12.0</td>\n",
              "      <td>3.233333</td>\n",
              "      <td>1.333333</td>\n",
              "    </tr>\n",
              "    <tr>\n",
              "      <th>18878</th>\n",
              "      <td>3352922</td>\n",
              "      <td>19.0</td>\n",
              "      <td>2.000000</td>\n",
              "      <td>3.640000</td>\n",
              "    </tr>\n",
              "    <tr>\n",
              "      <th>18879</th>\n",
              "      <td>3352940</td>\n",
              "      <td>55.0</td>\n",
              "      <td>0.938776</td>\n",
              "      <td>0.693878</td>\n",
              "    </tr>\n",
              "    <tr>\n",
              "      <th>18880</th>\n",
              "      <td>3352961</td>\n",
              "      <td>29.0</td>\n",
              "      <td>3.031250</td>\n",
              "      <td>2.406250</td>\n",
              "    </tr>\n",
              "  </tbody>\n",
              "</table>\n",
              "<p>18881 rows × 4 columns</p>\n",
              "</div>"
            ],
            "text/plain": [
              "       patientunitstayid  resp  spo2/fio2  pao2/fio2\n",
              "0                 141194  25.0        NaN        NaN\n",
              "1                 141197  24.0        NaN        NaN\n",
              "2                 141227   NaN        NaN   0.650000\n",
              "3                 141266  19.0        NaN        NaN\n",
              "4                 141288   NaN        NaN   0.810000\n",
              "...                  ...   ...        ...        ...\n",
              "18876            3352721  23.0   3.333333   1.170000\n",
              "18877            3352895  12.0   3.233333   1.333333\n",
              "18878            3352922  19.0   2.000000   3.640000\n",
              "18879            3352940  55.0   0.938776   0.693878\n",
              "18880            3352961  29.0   3.031250   2.406250\n",
              "\n",
              "[18881 rows x 4 columns]"
            ]
          },
          "execution_count": 32,
          "metadata": {},
          "output_type": "execute_result"
        }
      ],
      "source": [
        "pulmonary = pd.merge(resp, spo2_fio2, on='patientunitstayid', how='outer')\n",
        "pulmonary = pd.merge(pulmonary, pao2_fio2, on='patientunitstayid', how='outer')\n",
        "pulmonary"
      ]
    },
    {
      "cell_type": "markdown",
      "metadata": {
        "id": "QLSxW5i8FKMU"
      },
      "source": [
        "##Cardiovascular"
      ]
    },
    {
      "cell_type": "code",
      "execution_count": 33,
      "metadata": {
        "id": "lQKjEF-YaJYC"
      },
      "outputs": [],
      "source": [
        "bicarbonate = df_lab[df_lab['labname'].str.contains('bicarbonate', case=False, na=False)]\n",
        "bicarbonate = bicarbonate.query('labresultoffset >= 0 and labresultoffset <= 1440')\n",
        "bicarbonate = bicarbonate[['patientunitstayid', 'labresult']].copy()\n",
        "bicarbonate.rename(columns={'labresult': 'bicarbonate'}, inplace=True)\n",
        "bicarbonate = bicarbonate.groupby('patientunitstayid')['bicarbonate'].min().reset_index()"
      ]
    },
    {
      "cell_type": "code",
      "execution_count": 34,
      "metadata": {
        "id": "1wWl4FOyZc2D"
      },
      "outputs": [],
      "source": [
        "heartRate = df_physicalExam[df_physicalExam['physicalexamvalue'].str.contains('HR Current', case=False, na=False)]\n",
        "heartRate = heartRate.query('physicalexamoffset >= 0 and physicalexamoffset <= 1440')\n",
        "heartRate = heartRate[['patientunitstayid', 'physicalexamtext']].copy()\n",
        "\n",
        "heartRate['physicalexamtext'] = heartRate['physicalexamtext'].astype(float)\n",
        "heartRate['distancia'] = np.abs(heartRate['physicalexamtext'] - 75)\n",
        "heartRate = heartRate.loc[heartRate.groupby('patientunitstayid')['distancia'].idxmax()]\n",
        "heartRate = heartRate.reset_index(drop=True)\n",
        "heartRate = heartRate.drop(['distancia'], axis=1)\n",
        "\n",
        "heartRate.rename(columns={'physicalexamtext': 'heartRate'}, inplace=True)"
      ]
    },
    {
      "cell_type": "code",
      "execution_count": 41,
      "metadata": {
        "id": "Bv00DSeXaU8Y"
      },
      "outputs": [],
      "source": [
        "systolic = df_physicalExam[df_physicalExam['physicalexamvalue'].str.contains('systolic', case=False, na=False)]\n",
        "systolic = systolic.query('physicalexamoffset >= 0 and physicalexamoffset <= 1440')\n",
        "systolic = systolic[['patientunitstayid', 'physicalexamtext']].copy()\n",
        "\n",
        "#systolic['physicalexamtext'] = systolic['physicalexamtext'].map(lambda x: 0 if x=='systolic murmur' else int(x))\n",
        "\n",
        "#systolic['distancia'] = np.abs(systolic['physicalexamtext'] - 115)\n",
        "systolic = systolic.loc[systolic.groupby('patientunitstayid')['physicalexamtext'].idxmax()]\n",
        "systolic = systolic.drop_duplicates(subset='patientunitstayid')\n",
        "systolic = systolic.reset_index(drop=True)\n",
        "#systolic = systolic.drop(['distancia'], axis=1)\n",
        "\n",
        "systolic.rename(columns={'physicalexamtext': 'systolic'}, inplace=True)"
      ]
    },
    {
      "cell_type": "code",
      "execution_count": 42,
      "metadata": {
        "id": "VtLCOiDqdnyd"
      },
      "outputs": [],
      "source": [
        "troponin = df_lab[df_lab['labname'].str.contains('troponin', case=False, na=False)]\n",
        "troponin = troponin.query('labresultoffset >= 0 and labresultoffset <= 1440')\n",
        "troponin = troponin[['patientunitstayid', 'labresult']].copy()\n",
        "troponin.rename(columns={'labresult': 'troponin'}, inplace=True)\n",
        "troponin = troponin.groupby('patientunitstayid')['troponin'].max().reset_index()"
      ]
    },
    {
      "cell_type": "code",
      "execution_count": 46,
      "metadata": {},
      "outputs": [
        {
          "data": {
            "text/html": [
              "<div>\n",
              "<style scoped>\n",
              "    .dataframe tbody tr th:only-of-type {\n",
              "        vertical-align: middle;\n",
              "    }\n",
              "\n",
              "    .dataframe tbody tr th {\n",
              "        vertical-align: top;\n",
              "    }\n",
              "\n",
              "    .dataframe thead th {\n",
              "        text-align: right;\n",
              "    }\n",
              "</style>\n",
              "<table border=\"1\" class=\"dataframe\">\n",
              "  <thead>\n",
              "    <tr style=\"text-align: right;\">\n",
              "      <th></th>\n",
              "      <th>patientunitstayid</th>\n",
              "      <th>physicalexamtext</th>\n",
              "    </tr>\n",
              "  </thead>\n",
              "  <tbody>\n",
              "    <tr>\n",
              "      <th>194314</th>\n",
              "      <td>996829</td>\n",
              "      <td>-1</td>\n",
              "    </tr>\n",
              "    <tr>\n",
              "      <th>428570</th>\n",
              "      <td>2600061</td>\n",
              "      <td>-1</td>\n",
              "    </tr>\n",
              "    <tr>\n",
              "      <th>428603</th>\n",
              "      <td>2600061</td>\n",
              "      <td>-1</td>\n",
              "    </tr>\n",
              "    <tr>\n",
              "      <th>44677</th>\n",
              "      <td>290460</td>\n",
              "      <td>-1</td>\n",
              "    </tr>\n",
              "    <tr>\n",
              "      <th>44650</th>\n",
              "      <td>290460</td>\n",
              "      <td>-1</td>\n",
              "    </tr>\n",
              "    <tr>\n",
              "      <th>...</th>\n",
              "      <td>...</td>\n",
              "      <td>...</td>\n",
              "    </tr>\n",
              "    <tr>\n",
              "      <th>583442</th>\n",
              "      <td>3095938</td>\n",
              "      <td>diastolic murmur</td>\n",
              "    </tr>\n",
              "    <tr>\n",
              "      <th>623761</th>\n",
              "      <td>3147673</td>\n",
              "      <td>diastolic murmur</td>\n",
              "    </tr>\n",
              "    <tr>\n",
              "      <th>623697</th>\n",
              "      <td>3147673</td>\n",
              "      <td>diastolic murmur</td>\n",
              "    </tr>\n",
              "    <tr>\n",
              "      <th>76578</th>\n",
              "      <td>452561</td>\n",
              "      <td>diastolic murmur</td>\n",
              "    </tr>\n",
              "    <tr>\n",
              "      <th>627108</th>\n",
              "      <td>3151567</td>\n",
              "      <td>diastolic murmur</td>\n",
              "    </tr>\n",
              "  </tbody>\n",
              "</table>\n",
              "<p>67318 rows × 2 columns</p>\n",
              "</div>"
            ],
            "text/plain": [
              "        patientunitstayid  physicalexamtext\n",
              "194314             996829                -1\n",
              "428570            2600061                -1\n",
              "428603            2600061                -1\n",
              "44677              290460                -1\n",
              "44650              290460                -1\n",
              "...                   ...               ...\n",
              "583442            3095938  diastolic murmur\n",
              "623761            3147673  diastolic murmur\n",
              "623697            3147673  diastolic murmur\n",
              "76578              452561  diastolic murmur\n",
              "627108            3151567  diastolic murmur\n",
              "\n",
              "[67318 rows x 2 columns]"
            ]
          },
          "execution_count": 46,
          "metadata": {},
          "output_type": "execute_result"
        }
      ],
      "source": [
        "diastolic.sort_values(by='physicalexamtext').head(5000000000)"
      ]
    },
    {
      "cell_type": "code",
      "execution_count": 43,
      "metadata": {
        "id": "yh2A3v16TdNl"
      },
      "outputs": [
        {
          "ename": "ValueError",
          "evalue": "could not convert string to float: 'diastolic murmur'",
          "output_type": "error",
          "traceback": [
            "\u001b[0;31m---------------------------------------------------------------------------\u001b[0m",
            "\u001b[0;31mValueError\u001b[0m                                Traceback (most recent call last)",
            "Cell \u001b[0;32mIn[43], line 4\u001b[0m\n\u001b[1;32m      2\u001b[0m diastolic \u001b[38;5;241m=\u001b[39m diastolic\u001b[38;5;241m.\u001b[39mquery(\u001b[38;5;124m'\u001b[39m\u001b[38;5;124mphysicalexamoffset >= 0 and physicalexamoffset <= 1440\u001b[39m\u001b[38;5;124m'\u001b[39m)\n\u001b[1;32m      3\u001b[0m diastolic \u001b[38;5;241m=\u001b[39m diastolic[[\u001b[38;5;124m'\u001b[39m\u001b[38;5;124mpatientunitstayid\u001b[39m\u001b[38;5;124m'\u001b[39m, \u001b[38;5;124m'\u001b[39m\u001b[38;5;124mphysicalexamtext\u001b[39m\u001b[38;5;124m'\u001b[39m]]\u001b[38;5;241m.\u001b[39mcopy()\n\u001b[0;32m----> 4\u001b[0m diastolic[\u001b[38;5;124m'\u001b[39m\u001b[38;5;124mphysicalexamtext\u001b[39m\u001b[38;5;124m'\u001b[39m] \u001b[38;5;241m=\u001b[39m \u001b[43mdiastolic\u001b[49m\u001b[43m[\u001b[49m\u001b[38;5;124;43m'\u001b[39;49m\u001b[38;5;124;43mphysicalexamtext\u001b[39;49m\u001b[38;5;124;43m'\u001b[39;49m\u001b[43m]\u001b[49m\u001b[38;5;241;43m.\u001b[39;49m\u001b[43mastype\u001b[49m\u001b[43m(\u001b[49m\u001b[38;5;28;43mfloat\u001b[39;49m\u001b[43m)\u001b[49m\n\u001b[1;32m      6\u001b[0m diastolic[\u001b[38;5;124m'\u001b[39m\u001b[38;5;124mdistancia\u001b[39m\u001b[38;5;124m'\u001b[39m] \u001b[38;5;241m=\u001b[39m np\u001b[38;5;241m.\u001b[39mabs(diastolic[\u001b[38;5;124m'\u001b[39m\u001b[38;5;124mphysicalexamtext\u001b[39m\u001b[38;5;124m'\u001b[39m] \u001b[38;5;241m-\u001b[39m \u001b[38;5;241m62.5\u001b[39m)\n\u001b[1;32m      7\u001b[0m diastolic \u001b[38;5;241m=\u001b[39m diastolic\u001b[38;5;241m.\u001b[39mloc[diastolic\u001b[38;5;241m.\u001b[39mgroupby(\u001b[38;5;124m'\u001b[39m\u001b[38;5;124mpatientunitstayid\u001b[39m\u001b[38;5;124m'\u001b[39m)[\u001b[38;5;124m'\u001b[39m\u001b[38;5;124mdistancia\u001b[39m\u001b[38;5;124m'\u001b[39m]\u001b[38;5;241m.\u001b[39midxmax()]\n",
            "File \u001b[0;32m/usr/local/lib/python3.10/dist-packages/pandas/core/generic.py:6643\u001b[0m, in \u001b[0;36mNDFrame.astype\u001b[0;34m(self, dtype, copy, errors)\u001b[0m\n\u001b[1;32m   6637\u001b[0m     results \u001b[38;5;241m=\u001b[39m [\n\u001b[1;32m   6638\u001b[0m         ser\u001b[38;5;241m.\u001b[39mastype(dtype, copy\u001b[38;5;241m=\u001b[39mcopy, errors\u001b[38;5;241m=\u001b[39merrors) \u001b[38;5;28;01mfor\u001b[39;00m _, ser \u001b[38;5;129;01min\u001b[39;00m \u001b[38;5;28mself\u001b[39m\u001b[38;5;241m.\u001b[39mitems()\n\u001b[1;32m   6639\u001b[0m     ]\n\u001b[1;32m   6641\u001b[0m \u001b[38;5;28;01melse\u001b[39;00m:\n\u001b[1;32m   6642\u001b[0m     \u001b[38;5;66;03m# else, only a single dtype is given\u001b[39;00m\n\u001b[0;32m-> 6643\u001b[0m     new_data \u001b[38;5;241m=\u001b[39m \u001b[38;5;28;43mself\u001b[39;49m\u001b[38;5;241;43m.\u001b[39;49m\u001b[43m_mgr\u001b[49m\u001b[38;5;241;43m.\u001b[39;49m\u001b[43mastype\u001b[49m\u001b[43m(\u001b[49m\u001b[43mdtype\u001b[49m\u001b[38;5;241;43m=\u001b[39;49m\u001b[43mdtype\u001b[49m\u001b[43m,\u001b[49m\u001b[43m \u001b[49m\u001b[43mcopy\u001b[49m\u001b[38;5;241;43m=\u001b[39;49m\u001b[43mcopy\u001b[49m\u001b[43m,\u001b[49m\u001b[43m \u001b[49m\u001b[43merrors\u001b[49m\u001b[38;5;241;43m=\u001b[39;49m\u001b[43merrors\u001b[49m\u001b[43m)\u001b[49m\n\u001b[1;32m   6644\u001b[0m     res \u001b[38;5;241m=\u001b[39m \u001b[38;5;28mself\u001b[39m\u001b[38;5;241m.\u001b[39m_constructor_from_mgr(new_data, axes\u001b[38;5;241m=\u001b[39mnew_data\u001b[38;5;241m.\u001b[39maxes)\n\u001b[1;32m   6645\u001b[0m     \u001b[38;5;28;01mreturn\u001b[39;00m res\u001b[38;5;241m.\u001b[39m__finalize__(\u001b[38;5;28mself\u001b[39m, method\u001b[38;5;241m=\u001b[39m\u001b[38;5;124m\"\u001b[39m\u001b[38;5;124mastype\u001b[39m\u001b[38;5;124m\"\u001b[39m)\n",
            "File \u001b[0;32m/usr/local/lib/python3.10/dist-packages/pandas/core/internals/managers.py:430\u001b[0m, in \u001b[0;36mBaseBlockManager.astype\u001b[0;34m(self, dtype, copy, errors)\u001b[0m\n\u001b[1;32m    427\u001b[0m \u001b[38;5;28;01melif\u001b[39;00m using_copy_on_write():\n\u001b[1;32m    428\u001b[0m     copy \u001b[38;5;241m=\u001b[39m \u001b[38;5;28;01mFalse\u001b[39;00m\n\u001b[0;32m--> 430\u001b[0m \u001b[38;5;28;01mreturn\u001b[39;00m \u001b[38;5;28;43mself\u001b[39;49m\u001b[38;5;241;43m.\u001b[39;49m\u001b[43mapply\u001b[49m\u001b[43m(\u001b[49m\n\u001b[1;32m    431\u001b[0m \u001b[43m    \u001b[49m\u001b[38;5;124;43m\"\u001b[39;49m\u001b[38;5;124;43mastype\u001b[39;49m\u001b[38;5;124;43m\"\u001b[39;49m\u001b[43m,\u001b[49m\n\u001b[1;32m    432\u001b[0m \u001b[43m    \u001b[49m\u001b[43mdtype\u001b[49m\u001b[38;5;241;43m=\u001b[39;49m\u001b[43mdtype\u001b[49m\u001b[43m,\u001b[49m\n\u001b[1;32m    433\u001b[0m \u001b[43m    \u001b[49m\u001b[43mcopy\u001b[49m\u001b[38;5;241;43m=\u001b[39;49m\u001b[43mcopy\u001b[49m\u001b[43m,\u001b[49m\n\u001b[1;32m    434\u001b[0m \u001b[43m    \u001b[49m\u001b[43merrors\u001b[49m\u001b[38;5;241;43m=\u001b[39;49m\u001b[43merrors\u001b[49m\u001b[43m,\u001b[49m\n\u001b[1;32m    435\u001b[0m \u001b[43m    \u001b[49m\u001b[43musing_cow\u001b[49m\u001b[38;5;241;43m=\u001b[39;49m\u001b[43musing_copy_on_write\u001b[49m\u001b[43m(\u001b[49m\u001b[43m)\u001b[49m\u001b[43m,\u001b[49m\n\u001b[1;32m    436\u001b[0m \u001b[43m\u001b[49m\u001b[43m)\u001b[49m\n",
            "File \u001b[0;32m/usr/local/lib/python3.10/dist-packages/pandas/core/internals/managers.py:363\u001b[0m, in \u001b[0;36mBaseBlockManager.apply\u001b[0;34m(self, f, align_keys, **kwargs)\u001b[0m\n\u001b[1;32m    361\u001b[0m         applied \u001b[38;5;241m=\u001b[39m b\u001b[38;5;241m.\u001b[39mapply(f, \u001b[38;5;241m*\u001b[39m\u001b[38;5;241m*\u001b[39mkwargs)\n\u001b[1;32m    362\u001b[0m     \u001b[38;5;28;01melse\u001b[39;00m:\n\u001b[0;32m--> 363\u001b[0m         applied \u001b[38;5;241m=\u001b[39m \u001b[38;5;28;43mgetattr\u001b[39;49m\u001b[43m(\u001b[49m\u001b[43mb\u001b[49m\u001b[43m,\u001b[49m\u001b[43m \u001b[49m\u001b[43mf\u001b[49m\u001b[43m)\u001b[49m\u001b[43m(\u001b[49m\u001b[38;5;241;43m*\u001b[39;49m\u001b[38;5;241;43m*\u001b[39;49m\u001b[43mkwargs\u001b[49m\u001b[43m)\u001b[49m\n\u001b[1;32m    364\u001b[0m     result_blocks \u001b[38;5;241m=\u001b[39m extend_blocks(applied, result_blocks)\n\u001b[1;32m    366\u001b[0m out \u001b[38;5;241m=\u001b[39m \u001b[38;5;28mtype\u001b[39m(\u001b[38;5;28mself\u001b[39m)\u001b[38;5;241m.\u001b[39mfrom_blocks(result_blocks, \u001b[38;5;28mself\u001b[39m\u001b[38;5;241m.\u001b[39maxes)\n",
            "File \u001b[0;32m/usr/local/lib/python3.10/dist-packages/pandas/core/internals/blocks.py:758\u001b[0m, in \u001b[0;36mBlock.astype\u001b[0;34m(self, dtype, copy, errors, using_cow, squeeze)\u001b[0m\n\u001b[1;32m    755\u001b[0m         \u001b[38;5;28;01mraise\u001b[39;00m \u001b[38;5;167;01mValueError\u001b[39;00m(\u001b[38;5;124m\"\u001b[39m\u001b[38;5;124mCan not squeeze with more than one column.\u001b[39m\u001b[38;5;124m\"\u001b[39m)\n\u001b[1;32m    756\u001b[0m     values \u001b[38;5;241m=\u001b[39m values[\u001b[38;5;241m0\u001b[39m, :]  \u001b[38;5;66;03m# type: ignore[call-overload]\u001b[39;00m\n\u001b[0;32m--> 758\u001b[0m new_values \u001b[38;5;241m=\u001b[39m \u001b[43mastype_array_safe\u001b[49m\u001b[43m(\u001b[49m\u001b[43mvalues\u001b[49m\u001b[43m,\u001b[49m\u001b[43m \u001b[49m\u001b[43mdtype\u001b[49m\u001b[43m,\u001b[49m\u001b[43m \u001b[49m\u001b[43mcopy\u001b[49m\u001b[38;5;241;43m=\u001b[39;49m\u001b[43mcopy\u001b[49m\u001b[43m,\u001b[49m\u001b[43m \u001b[49m\u001b[43merrors\u001b[49m\u001b[38;5;241;43m=\u001b[39;49m\u001b[43merrors\u001b[49m\u001b[43m)\u001b[49m\n\u001b[1;32m    760\u001b[0m new_values \u001b[38;5;241m=\u001b[39m maybe_coerce_values(new_values)\n\u001b[1;32m    762\u001b[0m refs \u001b[38;5;241m=\u001b[39m \u001b[38;5;28;01mNone\u001b[39;00m\n",
            "File \u001b[0;32m/usr/local/lib/python3.10/dist-packages/pandas/core/dtypes/astype.py:237\u001b[0m, in \u001b[0;36mastype_array_safe\u001b[0;34m(values, dtype, copy, errors)\u001b[0m\n\u001b[1;32m    234\u001b[0m     dtype \u001b[38;5;241m=\u001b[39m dtype\u001b[38;5;241m.\u001b[39mnumpy_dtype\n\u001b[1;32m    236\u001b[0m \u001b[38;5;28;01mtry\u001b[39;00m:\n\u001b[0;32m--> 237\u001b[0m     new_values \u001b[38;5;241m=\u001b[39m \u001b[43mastype_array\u001b[49m\u001b[43m(\u001b[49m\u001b[43mvalues\u001b[49m\u001b[43m,\u001b[49m\u001b[43m \u001b[49m\u001b[43mdtype\u001b[49m\u001b[43m,\u001b[49m\u001b[43m \u001b[49m\u001b[43mcopy\u001b[49m\u001b[38;5;241;43m=\u001b[39;49m\u001b[43mcopy\u001b[49m\u001b[43m)\u001b[49m\n\u001b[1;32m    238\u001b[0m \u001b[38;5;28;01mexcept\u001b[39;00m (\u001b[38;5;167;01mValueError\u001b[39;00m, \u001b[38;5;167;01mTypeError\u001b[39;00m):\n\u001b[1;32m    239\u001b[0m     \u001b[38;5;66;03m# e.g. _astype_nansafe can fail on object-dtype of strings\u001b[39;00m\n\u001b[1;32m    240\u001b[0m     \u001b[38;5;66;03m#  trying to convert to float\u001b[39;00m\n\u001b[1;32m    241\u001b[0m     \u001b[38;5;28;01mif\u001b[39;00m errors \u001b[38;5;241m==\u001b[39m \u001b[38;5;124m\"\u001b[39m\u001b[38;5;124mignore\u001b[39m\u001b[38;5;124m\"\u001b[39m:\n",
            "File \u001b[0;32m/usr/local/lib/python3.10/dist-packages/pandas/core/dtypes/astype.py:182\u001b[0m, in \u001b[0;36mastype_array\u001b[0;34m(values, dtype, copy)\u001b[0m\n\u001b[1;32m    179\u001b[0m     values \u001b[38;5;241m=\u001b[39m values\u001b[38;5;241m.\u001b[39mastype(dtype, copy\u001b[38;5;241m=\u001b[39mcopy)\n\u001b[1;32m    181\u001b[0m \u001b[38;5;28;01melse\u001b[39;00m:\n\u001b[0;32m--> 182\u001b[0m     values \u001b[38;5;241m=\u001b[39m \u001b[43m_astype_nansafe\u001b[49m\u001b[43m(\u001b[49m\u001b[43mvalues\u001b[49m\u001b[43m,\u001b[49m\u001b[43m \u001b[49m\u001b[43mdtype\u001b[49m\u001b[43m,\u001b[49m\u001b[43m \u001b[49m\u001b[43mcopy\u001b[49m\u001b[38;5;241;43m=\u001b[39;49m\u001b[43mcopy\u001b[49m\u001b[43m)\u001b[49m\n\u001b[1;32m    184\u001b[0m \u001b[38;5;66;03m# in pandas we don't store numpy str dtypes, so convert to object\u001b[39;00m\n\u001b[1;32m    185\u001b[0m \u001b[38;5;28;01mif\u001b[39;00m \u001b[38;5;28misinstance\u001b[39m(dtype, np\u001b[38;5;241m.\u001b[39mdtype) \u001b[38;5;129;01mand\u001b[39;00m \u001b[38;5;28missubclass\u001b[39m(values\u001b[38;5;241m.\u001b[39mdtype\u001b[38;5;241m.\u001b[39mtype, \u001b[38;5;28mstr\u001b[39m):\n",
            "File \u001b[0;32m/usr/local/lib/python3.10/dist-packages/pandas/core/dtypes/astype.py:133\u001b[0m, in \u001b[0;36m_astype_nansafe\u001b[0;34m(arr, dtype, copy, skipna)\u001b[0m\n\u001b[1;32m    129\u001b[0m     \u001b[38;5;28;01mraise\u001b[39;00m \u001b[38;5;167;01mValueError\u001b[39;00m(msg)\n\u001b[1;32m    131\u001b[0m \u001b[38;5;28;01mif\u001b[39;00m copy \u001b[38;5;129;01mor\u001b[39;00m arr\u001b[38;5;241m.\u001b[39mdtype \u001b[38;5;241m==\u001b[39m \u001b[38;5;28mobject\u001b[39m \u001b[38;5;129;01mor\u001b[39;00m dtype \u001b[38;5;241m==\u001b[39m \u001b[38;5;28mobject\u001b[39m:\n\u001b[1;32m    132\u001b[0m     \u001b[38;5;66;03m# Explicit copy, or required since NumPy can't view from / to object.\u001b[39;00m\n\u001b[0;32m--> 133\u001b[0m     \u001b[38;5;28;01mreturn\u001b[39;00m \u001b[43marr\u001b[49m\u001b[38;5;241;43m.\u001b[39;49m\u001b[43mastype\u001b[49m\u001b[43m(\u001b[49m\u001b[43mdtype\u001b[49m\u001b[43m,\u001b[49m\u001b[43m \u001b[49m\u001b[43mcopy\u001b[49m\u001b[38;5;241;43m=\u001b[39;49m\u001b[38;5;28;43;01mTrue\u001b[39;49;00m\u001b[43m)\u001b[49m\n\u001b[1;32m    135\u001b[0m \u001b[38;5;28;01mreturn\u001b[39;00m arr\u001b[38;5;241m.\u001b[39mastype(dtype, copy\u001b[38;5;241m=\u001b[39mcopy)\n",
            "\u001b[0;31mValueError\u001b[0m: could not convert string to float: 'diastolic murmur'"
          ]
        }
      ],
      "source": [
        "diastolic = df_physicalExam[df_physicalExam['physicalexamvalue'].str.contains('diastolic', case=False, na=False)]\n",
        "diastolic = diastolic.query('physicalexamoffset >= 0 and physicalexamoffset <= 1440')\n",
        "diastolic = diastolic[['patientunitstayid', 'physicalexamtext']].copy()\n",
        "diastolic['physicalexamtext'] = diastolic['physicalexamtext'].astype(float)\n",
        "\n",
        "diastolic['distancia'] = np.abs(diastolic['physicalexamtext'] - 62.5)\n",
        "diastolic = diastolic.loc[diastolic.groupby('patientunitstayid')['distancia'].idxmax()]\n",
        "diastolic = diastolic.drop_duplicates(subset='patientunitstayid')\n",
        "diastolic = diastolic.reset_index(drop=True)\n",
        "diastolic = diastolic.drop(['distancia'], axis=1)\n",
        "\n",
        "diastolic.rename(columns={'physicalexamtext': 'diastolic'}, inplace=True)"
      ]
    },
    {
      "cell_type": "code",
      "execution_count": null,
      "metadata": {
        "id": "OGKtFTAJgF_0"
      },
      "outputs": [],
      "source": [
        "systolic_map = df_physicalExam[df_physicalExam['physicalexampath'].str.contains('systolic', case=False, na=False)]\n",
        "diastolic_map = df_physicalExam[df_physicalExam['physicalexampath'].str.contains('diastolic', case=False, na=False)]\n",
        "\n",
        "systolic_map = systolic_map.query('physicalexamoffset >= 0 and physicalexamoffset <= 1440')\n",
        "diastolic_map = diastolic_map.query('physicalexamoffset >= 0 and physicalexamoffset <= 1440')\n",
        "\n",
        "systolic_map = systolic_map[['patientunitstayid', 'physicalexamtext']].copy()\n",
        "diastolic_map = diastolic_map[['patientunitstayid', 'physicalexamtext']].copy()\n",
        "\n",
        "systolic_map.rename(columns={'physicalexamtext' : 'systolic'}, inplace=True)\n",
        "diastolic_map.rename(columns={'physicalexamtext' : 'diastolic'}, inplace=True)\n",
        "\n",
        "MAP = pd.merge(systolic_map, diastolic_map, on='patientunitstayid')\n",
        "\n",
        "try:\n",
        "  MAP[\"diastolic\"] = MAP[\"diastolic\"].astype(int)\n",
        "except ValueError:\n",
        "  MAP[\"diastolic\"] = pd.to_numeric(MAP[\"diastolic\"], errors='coerce')\n",
        "\n",
        "try:\n",
        "  MAP[\"systolic\"] = MAP[\"systolic\"].astype(int)\n",
        "except ValueError:\n",
        "  MAP[\"systolic\"] = pd.to_numeric(MAP[\"systolic\"], errors='coerce')\n",
        "\n",
        "MAP['MAP'] = (MAP['systolic'] + 2*(MAP['diastolic'])) / 3\n",
        "MAP = MAP.groupby('patientunitstayid')['MAP'].min().reset_index()"
      ]
    },
    {
      "cell_type": "code",
      "execution_count": null,
      "metadata": {
        "colab": {
          "base_uri": "https://localhost:8080/",
          "height": 424
        },
        "id": "0qWOPOXGhPrV",
        "outputId": "01b24e61-7a7b-46b0-a290-9e25756e9d14"
      },
      "outputs": [],
      "source": [
        "cardiovascular = pd.merge(bicarbonate, heartRate, on='patientunitstayid', how='outer')\n",
        "cardiovascular = pd.merge(cardiovascular, troponin, on='patientunitstayid', how='outer')\n",
        "cardiovascular = pd.merge(cardiovascular, systolic, on='patientunitstayid', how='outer')\n",
        "cardiovascular = pd.merge(cardiovascular, diastolic, on='patientunitstayid', how='outer')\n",
        "cardiovascular = pd.merge(cardiovascular, MAP, on='patientunitstayid', how='outer')\n",
        "cardiovascular"
      ]
    },
    {
      "cell_type": "markdown",
      "metadata": {
        "id": "tXSBSX4yFPET"
      },
      "source": [
        "##Renal"
      ]
    },
    {
      "cell_type": "code",
      "execution_count": null,
      "metadata": {
        "colab": {
          "base_uri": "https://localhost:8080/"
        },
        "id": "ywQVJAvpFP-S",
        "outputId": "52955add-bac6-496c-eefc-b88ac0b2bfc9"
      },
      "outputs": [],
      "source": [
        "BUN = df_lab[df_lab['labname'].str.contains('BUN', case=False, na=False)]\n",
        "BUN = BUN.query('labresultoffset >= 0 and labresultoffset <= 1440')\n",
        "BUN = BUN[['patientunitstayid', 'labresult']].copy()\n",
        "BUN.rename(columns={'labresult' : 'bloodUreaNitrogen'}, inplace=True)\n",
        "BUN = BUN.groupby('patientunitstayid')['bloodUreaNitrogen'].max().reset_index()\n",
        "renal = BUN\n",
        "\n",
        "renal"
      ]
    },
    {
      "cell_type": "markdown",
      "metadata": {
        "id": "GhkEuKDkFQ-E"
      },
      "source": [
        "##Hepatic"
      ]
    },
    {
      "cell_type": "code",
      "execution_count": null,
      "metadata": {
        "colab": {
          "base_uri": "https://localhost:8080/"
        },
        "id": "21a3ha87FR5R",
        "outputId": "7df88f67-e86c-4357-e0ec-8814216485e6"
      },
      "outputs": [],
      "source": [
        "# Selecionar indicadores hepáticos no dataset 'lab'\n",
        "alanine = df_lab[df_lab['labname'].str.contains('ALT', case=False, na=False)]\n",
        "aspartate = df_lab[df_lab['labname'].str.contains('AST', case=False, na=False)]\n",
        "bilirubin = df_lab[df_lab['labname'].str.contains('total bilirubin', case=False, na=False)]\n",
        "\n",
        "# Filtrar para o intervalo das primeiras 24 horas do paciente na UTI\n",
        "alanine = alanine.query('labresultoffset >= 0 and labresultoffset <= 1440')\n",
        "aspartate = aspartate.query('labresultoffset >= 0 and labresultoffset <= 1440')\n",
        "bilirubin = bilirubin.query('labresultoffset >= 0 and labresultoffset <= 1440')\n",
        "\n",
        "# Fazer uma cópia com as colunas importantes para o modelo\n",
        "alanine = alanine[['patientunitstayid', 'labresult']].copy()\n",
        "aspartate = aspartate[['patientunitstayid', 'labresult']].copy()\n",
        "bilirubin = bilirubin[['patientunitstayid', 'labresult']].copy()\n",
        "\n",
        "# Renomear colunas para facilitar visualização\n",
        "alanine.rename(columns={'labresult' : 'alanine'}, inplace=True)\n",
        "aspartate.rename(columns={'labresult' : 'aspartate'}, inplace=True)\n",
        "bilirubin.rename(columns={'labresult' : 'bilirubin'}, inplace=True)\n",
        "\n",
        "# Filtrar os valores mais críticos de cada paciente\n",
        "alanine = alanine.groupby('patientunitstayid')['alanine'].max().reset_index()\n",
        "aspartate = aspartate.groupby('patientunitstayid')['aspartate'].max().reset_index()\n",
        "bilirubin = bilirubin.groupby('patientunitstayid')['bilirubin'].max().reset_index()\n",
        "\n",
        "# Mesclar os datasets\n",
        "hepatic = pd.merge(alanine, aspartate, on='patientunitstayid', how='outer')\n",
        "hepatic = pd.merge(hepatic, bilirubin, on='patientunitstayid', how='outer')\n",
        "\n",
        "hepatic"
      ]
    },
    {
      "cell_type": "markdown",
      "metadata": {
        "id": "ev9noao8FSJo"
      },
      "source": [
        "##Hematologic"
      ]
    },
    {
      "cell_type": "code",
      "execution_count": null,
      "metadata": {
        "id": "ScHmaFTOnbG-"
      },
      "outputs": [],
      "source": [
        "hemoglobin = df_lab[df_lab['labname'].str.contains('Hgb', case=False, na=False)]\n",
        "hemoglobin = hemoglobin.query('labresultoffset >= 0 and labresultoffset <= 1440')\n",
        "hemoglobin = hemoglobin[['patientunitstayid', 'labresult']].copy()\n",
        "hemoglobin.rename(columns={'labresult' : 'hemoglobin'}, inplace=True)\n",
        "hemoglobin = hemoglobin.groupby('patientunitstayid')['hemoglobin'].min().reset_index()"
      ]
    },
    {
      "cell_type": "code",
      "execution_count": null,
      "metadata": {
        "id": "lCqNRDACnhuy"
      },
      "outputs": [],
      "source": [
        "iqr = df_lab[df_lab['labname'].str.contains('INR', case=False, na=False)]\n",
        "iqr = iqr.query('labresultoffset >= 0 and labresultoffset <= 1440')\n",
        "iqr = iqr[['patientunitstayid', 'labresult']].copy()\n",
        "iqr.rename(columns={'labresult' : 'iqr'}, inplace=True)\n",
        "iqr = iqr.groupby('patientunitstayid')['iqr'].max().reset_index()"
      ]
    },
    {
      "cell_type": "code",
      "execution_count": null,
      "metadata": {
        "id": "K1bQgVuYnnUi"
      },
      "outputs": [],
      "source": [
        "platelets = df_lab[df_lab['labname'].str.contains('platelets', case=False, na=False)]\n",
        "platelets = platelets.query('labresultoffset >= 0 and labresultoffset <= 1440')\n",
        "platelets = platelets[['patientunitstayid', 'labresult']].copy()\n",
        "platelets.rename(columns={'labresult' : 'platelets'}, inplace=True)\n",
        "platelets = platelets.groupby('patientunitstayid')['platelets'].min().reset_index()"
      ]
    },
    {
      "cell_type": "code",
      "execution_count": null,
      "metadata": {
        "id": "2lX4IfzilDXD"
      },
      "outputs": [],
      "source": [
        "PTT = df_lab[df_lab['labname'].str.contains('PTT', case=False, na=False)]\n",
        "PTT = PTT.query('labresultoffset >= 0 and labresultoffset <= 1440')\n",
        "PTT = PTT[['patientunitstayid', 'labresult']].copy()\n",
        "PTT.rename(columns={'labresult' : 'PTT'}, inplace=True)\n",
        "PTT = PTT.groupby('patientunitstayid')['PTT'].max().reset_index()"
      ]
    },
    {
      "cell_type": "code",
      "execution_count": null,
      "metadata": {
        "id": "ZgLjLJcOlCWR"
      },
      "outputs": [],
      "source": [
        "fibrinogen = df_lab[df_lab['labname'].str.contains('fibrinogen', case=False, na=False)]\n",
        "fibrinogen = fibrinogen.query('labresultoffset >= 0 and labresultoffset <= 1440')\n",
        "fibrinogen = fibrinogen[['patientunitstayid', 'labresult']].copy()\n",
        "\n",
        "fibrinogen['distancia'] = np.abs(fibrinogen['labresult'] - 300)\n",
        "fibrinogen = fibrinogen.dropna(subset=['distancia'])\n",
        "fibrinogen = fibrinogen.loc[fibrinogen.groupby('patientunitstayid')['distancia'].idxmax()]\n",
        "fibrinogen = fibrinogen.reset_index(drop=True)\n",
        "fibrinogen = fibrinogen.drop(['distancia'], axis=1)\n",
        "\n",
        "fibrinogen.rename(columns={'labresult' : 'fibrinogen'}, inplace=True)"
      ]
    },
    {
      "cell_type": "code",
      "execution_count": null,
      "metadata": {
        "colab": {
          "base_uri": "https://localhost:8080/",
          "height": 424
        },
        "id": "ztOJe-ZHnusA",
        "outputId": "e0f40078-17fa-49b3-d3bb-a7d40de024fa"
      },
      "outputs": [],
      "source": [
        "hematologic = pd.merge(hemoglobin, iqr, on='patientunitstayid', how='outer')\n",
        "hematologic = pd.merge(hematologic, platelets, on='patientunitstayid', how='outer')\n",
        "hematologic = pd.merge(hematologic, PTT, on='patientunitstayid', how='outer')\n",
        "hematologic = pd.merge(hematologic, fibrinogen, on='patientunitstayid', how='outer')\n",
        "hematologic"
      ]
    },
    {
      "cell_type": "markdown",
      "metadata": {
        "id": "pQmosey-FT2l"
      },
      "source": [
        "##Bioquímica"
      ]
    },
    {
      "cell_type": "code",
      "execution_count": null,
      "metadata": {
        "id": "vJwraONGFUy0"
      },
      "outputs": [],
      "source": [
        "albumin = df_lab[df_lab['labname'].str.contains('albumin', case=False, na=False)]\n",
        "albumin = albumin.query('labresultoffset >= 0 and labresultoffset < 1440')\n",
        "albumin = albumin[['patientunitstayid', 'labresult']].copy()\n",
        "albumin.rename(columns={'labresult' : 'albumin'}, inplace=True)\n",
        "albumin = albumin.groupby('patientunitstayid')['albumin'].min().reset_index()"
      ]
    },
    {
      "cell_type": "code",
      "execution_count": null,
      "metadata": {
        "id": "hkhMN-aERO2w"
      },
      "outputs": [],
      "source": [
        "chloride = df_lab[df_lab['labname'].str.contains('chloride', case=False, na=False)]\n",
        "chloride = chloride.query('labresultoffset >= 0 and labresultoffset < 1440')\n",
        "chloride = chloride[['patientunitstayid', 'labresult']].copy()\n",
        "\n",
        "chloride['distancia'] = np.abs(chloride['labresult'] - 102.5)\n",
        "chloride = chloride.dropna(subset=['distancia'])\n",
        "chloride = chloride.loc[chloride.groupby('patientunitstayid')['distancia'].idxmax()]\n",
        "chloride = chloride.reset_index(drop=True)\n",
        "chloride = chloride.drop(['distancia'], axis=1)\n",
        "\n",
        "chloride.rename(columns={'labresult' : 'chloride'}, inplace=True)"
      ]
    },
    {
      "cell_type": "code",
      "execution_count": null,
      "metadata": {
        "id": "r4v7jssPRRnJ"
      },
      "outputs": [],
      "source": [
        "glucose = df_lab[df_lab['labname'].str.contains('glucose', case=False, na=False)]\n",
        "glucose = glucose.query('labresultoffset >= 0 and labresultoffset < 1440')\n",
        "glucose = glucose[['patientunitstayid', 'labresult']].copy()\n",
        "\n",
        "glucose['distancia'] = np.abs(glucose['labresult'] - 125)\n",
        "glucose = glucose.dropna(subset=['distancia'])\n",
        "glucose = glucose.loc[glucose.groupby('patientunitstayid')['distancia'].idxmax()]\n",
        "glucose = glucose.reset_index(drop=True)\n",
        "glucose = glucose.drop(['distancia'], axis=1)\n",
        "\n",
        "glucose.rename(columns={'labresult' : 'glucose'}, inplace=True)"
      ]
    },
    {
      "cell_type": "code",
      "execution_count": null,
      "metadata": {
        "id": "GtJ08mJjRTlv"
      },
      "outputs": [],
      "source": [
        "sodium = df_lab[df_lab['labname'].str.contains('sodium', case=False, na=False)]\n",
        "sodium = sodium.query('labresultoffset >= 0 and labresultoffset < 1440')\n",
        "sodium = sodium[['patientunitstayid', 'labresult']].copy()\n",
        "\n",
        "sodium['distancia'] = np.abs(sodium['labresult'] - 140)\n",
        "sodium = sodium.dropna(subset=['distancia'])\n",
        "sodium = sodium.loc[sodium.groupby('patientunitstayid')['distancia'].idxmax()]\n",
        "sodium = sodium.reset_index(drop=True)\n",
        "sodium = sodium.drop(['distancia'], axis=1)\n",
        "\n",
        "sodium.rename(columns={'labresult' : 'sodium'}, inplace=True)"
      ]
    },
    {
      "cell_type": "code",
      "execution_count": null,
      "metadata": {
        "id": "MDlsExBjRXSf"
      },
      "outputs": [],
      "source": [
        "motor = df_physicalExam[df_physicalExam['physicalexampath'].str.contains('Motor Score', case=False, na=False)]\n",
        "motor = motor.query('physicalexamoffset >= 0 and physicalexamoffset < 1440')\n",
        "motor = motor[['patientunitstayid', 'physicalexamtext']].copy()\n",
        "motor = motor.rename(columns={'physicalexamtext': 'motor'})\n",
        "motor['motor'] = motor['motor'].astype(int)\n",
        "\n",
        "eyes = df_physicalExam[df_physicalExam['physicalexampath'].str.contains('Eyes Score', case=False, na=False)]\n",
        "eyes = eyes.query('physicalexamoffset >= 0 and physicalexamoffset < 1440')\n",
        "eyes = eyes[['patientunitstayid', 'physicalexamtext']].copy()\n",
        "eyes = eyes.rename(columns={'physicalexamtext': 'eyes'})\n",
        "eyes['eyes'] = eyes['eyes'].astype(int)\n",
        "\n",
        "verbal = df_physicalExam[df_physicalExam['physicalexampath'].str.contains('Verbal Score', case=False, na=False)]\n",
        "verbal = verbal.query('physicalexamoffset >= 0 and physicalexamoffset < 1440')\n",
        "verbal = verbal[['patientunitstayid', 'physicalexamtext']].copy()\n",
        "verbal = verbal.rename(columns={'physicalexamtext': 'verbal'})\n",
        "verbal['verbal'] = verbal['verbal'].astype(int)\n",
        "\n",
        "gcs_temp = pd.merge(motor, eyes, on='patientunitstayid', how='outer')\n",
        "gcs = pd.merge(gcs_temp, verbal, on='patientunitstayid', how='outer')\n",
        "gcs ['gcs total'] = gcs ['motor'] + gcs ['eyes'] + gcs ['verbal']\n",
        "\n",
        "idx = gcs.groupby('patientunitstayid')['gcs total'].idxmin()\n",
        "gcs = gcs.drop(['motor', 'eyes', 'verbal'], axis=1)\n",
        "gcs = gcs.loc[idx]"
      ]
    },
    {
      "cell_type": "code",
      "execution_count": null,
      "metadata": {
        "id": "8AGFOPixMTKl"
      },
      "outputs": [],
      "source": [
        "potassium = df_lab[df_lab['labname'].str.contains('potassium', case=False, na=False)]\n",
        "potassium = potassium.query('labresultoffset >= 0 and labresultoffset < 1440')\n",
        "potassium = potassium[['patientunitstayid', 'labresult']].copy()\n",
        "\n",
        "potassium['distancia'] = np.abs(potassium['labresult'] - 4.5)\n",
        "potassium = potassium.dropna(subset=['distancia'])\n",
        "potassium = potassium.loc[potassium.groupby('patientunitstayid')['distancia'].idxmax()]\n",
        "potassium = potassium.reset_index(drop=True)\n",
        "potassium = potassium.drop(['distancia'], axis=1)\n",
        "\n",
        "potassium.rename(columns={'labresult' : 'potassium'}, inplace=True)"
      ]
    },
    {
      "cell_type": "code",
      "execution_count": null,
      "metadata": {
        "id": "Z78K49MjMcvN"
      },
      "outputs": [],
      "source": [
        "calcium = df_lab[df_lab['labname'].str.contains('calcium', case=False, na=False)]\n",
        "calcium = calcium.query('labresultoffset >= 0 and labresultoffset < 1440')\n",
        "calcium = calcium[['patientunitstayid', 'labresult']].copy()\n",
        "\n",
        "calcium['distancia'] = np.abs(calcium['labresult'] - 9.6)\n",
        "calcium = calcium.dropna(subset=['distancia'])\n",
        "calcium = calcium.loc[calcium.groupby('patientunitstayid')['distancia'].idxmax()]\n",
        "calcium = calcium.reset_index(drop=True)\n",
        "calcium = calcium.drop(['distancia'], axis=1)\n",
        "\n",
        "calcium.rename(columns={'labresult' : 'calcium'}, inplace=True)"
      ]
    },
    {
      "cell_type": "code",
      "execution_count": null,
      "metadata": {
        "id": "GOpJzSNKMpl5"
      },
      "outputs": [],
      "source": [
        "phosphate = df_lab[df_lab['labname'].str.contains('phosphate', case=False, na=False)]\n",
        "phosphate = phosphate.query('labresultoffset >= 0 and labresultoffset < 1440')\n",
        "phosphate = phosphate[['patientunitstayid', 'labresult']].copy()\n",
        "\n",
        "phosphate['distancia'] = np.abs(phosphate['labresult'] - 3.5)\n",
        "phosphate = phosphate.dropna(subset=['distancia'])\n",
        "phosphate = phosphate.loc[phosphate.groupby('patientunitstayid')['distancia'].idxmax()]\n",
        "phosphate = phosphate.reset_index(drop=True)\n",
        "phosphate = phosphate.drop(['distancia'], axis=1)\n",
        "\n",
        "phosphate.rename(columns={'labresult' : 'phosphate'}, inplace=True)"
      ]
    },
    {
      "cell_type": "code",
      "execution_count": null,
      "metadata": {
        "id": "jcwmz_oHMvpZ"
      },
      "outputs": [],
      "source": [
        "magnesium = df_lab[df_lab['labname'].str.contains('magnesium', case=False, na=False)]\n",
        "magnesium = magnesium.query('labresultoffset >= 0 and labresultoffset < 1440')\n",
        "magnesium = magnesium[['patientunitstayid', 'labresult']].copy()\n",
        "magnesium.rename(columns={'labresult' : 'magnesium'}, inplace=True)\n",
        "magnesium = magnesium.groupby('patientunitstayid')['magnesium'].min().reset_index()"
      ]
    },
    {
      "cell_type": "code",
      "execution_count": null,
      "metadata": {
        "colab": {
          "base_uri": "https://localhost:8080/",
          "height": 424
        },
        "id": "oNcFNsegRZw_",
        "outputId": "8d5e8f60-8e63-45c5-95e6-06426cecc251"
      },
      "outputs": [],
      "source": [
        "bioquimica = pd.merge(albumin, chloride, on='patientunitstayid', how='outer')\n",
        "bioquimica = pd.merge(bioquimica, glucose, on='patientunitstayid', how='outer')\n",
        "bioquimica = pd.merge(bioquimica, sodium, on='patientunitstayid', how='outer')\n",
        "bioquimica = pd.merge(bioquimica, gcs, on='patientunitstayid', how='outer')\n",
        "bioquimica = pd.merge(bioquimica, potassium, on='patientunitstayid', how='outer')\n",
        "bioquimica = pd.merge(bioquimica, calcium, on='patientunitstayid', how='outer')\n",
        "bioquimica = pd.merge(bioquimica, phosphate, on='patientunitstayid', how='outer')\n",
        "bioquimica = pd.merge(bioquimica, magnesium, on='patientunitstayid', how='outer')\n",
        "bioquimica"
      ]
    },
    {
      "cell_type": "markdown",
      "metadata": {
        "id": "xJFGChZ3atSs"
      },
      "source": [
        "##Merge Set"
      ]
    },
    {
      "cell_type": "code",
      "execution_count": null,
      "metadata": {
        "colab": {
          "base_uri": "https://localhost:8080/"
        },
        "id": "pNyTrAZ2oCns",
        "outputId": "f43cdab4-f688-4fa6-ec96-6f7ad4f1b6a3"
      },
      "outputs": [],
      "source": [
        "# Internações: 0 por outro diagnóstico e 1 para Sepse\n",
        "diagnostico = df_diagnosis [['patientunitstayid', 'diagnosisstring']].copy()\n",
        "\n",
        "# Criar a coluna de diagnóstico de sepse ou não\n",
        "diagnostico['sepse_diagnostico'] = 0\n",
        "\n",
        "# Verificar se ocorre a palavra \"sepse\" na coluna 'apacheadmissiondx' e atribuir 1 se ocorrer\n",
        "diagnostico.loc[diagnostico['diagnosisstring'].str.contains('sepsis', case=False, na=False), 'sepse_diagnostico'] = 1\n",
        "diagnostico = diagnostico[['patientunitstayid','sepse_diagnostico']].copy()\n",
        "diagnostico = diagnostico.groupby('patientunitstayid')['sepse_diagnostico'].max().reset_index()\n",
        "\n",
        "# Juntar as tabelas para avaliar o SOFA\n",
        "diagnostico = pd.merge(diagnostico, sofa, on='patientunitstayid', how='outer')\n",
        "diagnostico['sofa_diagnostico'] = diagnostico['sofascore'].map(lambda x: 1 if x >= 2 else 0)\n",
        "\n",
        "# Função para juntar os dois diagnósticos\n",
        "def issepsis(row):\n",
        "  if row['sepse_diagnostico']==1 or row['sofa_diagnostico']==1:\n",
        "    return 1\n",
        "  else:\n",
        "    return 0\n",
        "\n",
        "diagnostico['diagnostico'] = diagnostico.apply(issepsis, axis=1)\n",
        "diagnostico = diagnostico.drop(['sepse_diagnostico', 'sofascore', 'sofa_diagnostico'], axis=1)\n",
        "diagnostico"
      ]
    },
    {
      "cell_type": "code",
      "execution_count": null,
      "metadata": {
        "colab": {
          "base_uri": "https://localhost:8080/"
        },
        "id": "JFVHf6v_auhL",
        "outputId": "007b17b3-a9f5-4cc0-a7c1-d407214d11cb"
      },
      "outputs": [],
      "source": [
        "df_final = pd.merge(characteristic, sofa, on='patientunitstayid', how='outer')\n",
        "df_final = pd.merge(df_final, inflammation, on='patientunitstayid', how='outer')\n",
        "df_final = pd.merge(df_final, pulmonary, on='patientunitstayid', how='outer')\n",
        "df_final = pd.merge(df_final, cardiovascular, on='patientunitstayid', how='outer')\n",
        "df_final = pd.merge(df_final, renal, on='patientunitstayid', how='outer')\n",
        "df_final = pd.merge(df_final, hepatic, on='patientunitstayid', how='outer')\n",
        "df_final = pd.merge(df_final, hematologic, on='patientunitstayid', how='outer')\n",
        "df_final = pd.merge(df_final, bioquimica, on='patientunitstayid', how='outer')\n",
        "df_final = pd.merge(df_final, diagnostico, on='patientunitstayid', how='outer')\n",
        "df_final"
      ]
    },
    {
      "cell_type": "markdown",
      "metadata": {
        "id": "grFU8-x7XWBC"
      },
      "source": [
        "## Numerical Values"
      ]
    },
    {
      "cell_type": "code",
      "execution_count": null,
      "metadata": {
        "id": "HEWmy4gEXavx"
      },
      "outputs": [],
      "source": [
        "df_final['age'] = df_final['age'].map(lambda x: '95' if x == '> 89' else x)\n",
        "df_final['age'] = df_final['age'].astype(float)"
      ]
    },
    {
      "cell_type": "code",
      "execution_count": null,
      "metadata": {
        "id": "aN-gvtLuXc7W"
      },
      "outputs": [],
      "source": [
        "df_final['gender'] = df_final['gender'].map(lambda x: 0 if x == 'Male' else 1)\n",
        "df_final['gender'] = df_final['gender'].astype(int)"
      ]
    },
    {
      "cell_type": "code",
      "execution_count": null,
      "metadata": {
        "colab": {
          "base_uri": "https://localhost:8080/"
        },
        "id": "P8dUEPk4XU9d",
        "outputId": "d089e0f2-9aac-4f7f-e0d3-ddd0e1e39b40"
      },
      "outputs": [],
      "source": [
        "def ethn(x):\n",
        "  if(x=='Caucasian'):\n",
        "    return 1\n",
        "  elif(x=='Hispanic'):\n",
        "    return 2\n",
        "  elif(x=='Asian'):\n",
        "    return 3\n",
        "  elif(x=='African American'):\n",
        "    return 4\n",
        "  elif(x=='Native American'):\n",
        "    return 5\n",
        "  else:\n",
        "    return 0\n",
        "\n",
        "df_final['ethnicity'] = df_final['ethnicity'].apply(ethn)\n",
        "df_final['ethnicity'].unique()"
      ]
    },
    {
      "cell_type": "markdown",
      "metadata": {
        "id": "-CYppfnkeqDZ"
      },
      "source": [
        "## Missing Data"
      ]
    },
    {
      "cell_type": "code",
      "execution_count": null,
      "metadata": {},
      "outputs": [],
      "source": [
        "df_numeric = df_final.apply(lambda col: pd.to_numeric(col, errors='coerce'))\n",
        "col_stats = {\n",
        "    'max': df_numeric.max(skipna=True),\n",
        "    'min': df_numeric.min(skipna=True),\n",
        "    'nulos': df_final.isnull().sum(),\n",
        "    'percentual_nulos': df_final.isnull().mean() * 100,\n",
        "}\n",
        "\n",
        "# Criar um DataFrame a partir das estatísticas\n",
        "df_col_stats = pd.DataFrame(col_stats)\n",
        "df_col_stats['percentual_nulos'] = df_col_stats['percentual_nulos'].apply(lambda x: '{:.2f}%'.format(x))\n",
        "\n",
        "# Ajustar o índice para ter os nomes das colunas do 'sepse' como linhas do novo DataFrame\n",
        "df_col_stats.index.name = 'Colunas'\n",
        "\n",
        "df_col_stats.sort_values(by = \"percentual_nulos\",ascending=False)"
      ]
    },
    {
      "cell_type": "markdown",
      "metadata": {
        "id": "caO2oERrW1W8"
      },
      "source": [
        "### Dealing with Missing Data"
      ]
    },
    {
      "cell_type": "code",
      "execution_count": null,
      "metadata": {
        "id": "7jtfyRXzW3-A"
      },
      "outputs": [],
      "source": [
        "'''age_n = df_final['age'].mean(axis=0)\n",
        "\n",
        "df_final['gender'] = df_final['gender'].fillna(0)\n",
        "df_final['age'] = df_final['age'].fillna(age_n)\n",
        "df_final['sofascore'] = df_final['sofascore'].fillna(0)'''"
      ]
    },
    {
      "cell_type": "code",
      "execution_count": null,
      "metadata": {
        "id": "WvpCtL3HZbG-"
      },
      "outputs": [],
      "source": [
        "#Inflammation\n",
        "'''\n",
        "df_final['bands'] = df_final['bands'].fillna(250)\n",
        "df_final['CRP'] = df_final['CRP'].fillna(5)\n",
        "\n",
        "df_final['ESR'] = df_final['ESR'].fillna(10)\n",
        "df_final['temp'] = df_final['temp'].fillna(36.85)\n",
        "df_final['lactate'] = df_final['lactate'].fillna(1)\n",
        "df_final['WBC'] = df_final['WBC'].fillna(7500)\n",
        "df_final['lymphs'] = df_final['lymphs'].fillna(2000)\n",
        "\n",
        "#Pulmonary\n",
        "df_final['resp'] = df_final['resp'].fillna(16)\n",
        "df_final['spo2/fio2'] = df_final['spo2/fio2'].fillna(450)\n",
        "df_final['pao2/fio2'] = df_final['pao2/fio2'].fillna(600)\n",
        "\n",
        "#Cardiovascular\n",
        "df_final['bicarbonate'] = df_final['bicarbonate'].fillna(23)\n",
        "df_final['heartRate'] = df_final['heartRate'].fillna(75)\n",
        "df_final['troponin'] = df_final['troponin'].fillna(115)\n",
        "df_final['systolic'] = df_final['systolic'].fillna(0.01)\n",
        "df_final['diastolic'] = df_final['diastolic'].fillna(62.5)\n",
        "df_final['MAP'] = df_final['MAP'].fillna(85)\n",
        "\n",
        "#Renal\n",
        "df_final['bloodUreaNitrogen'] = df_final['bloodUreaNitrogen'].fillna(10)\n",
        "\n",
        "#Hepatic\n",
        "df_final['alanine'] = df_final['alanine'].fillna(24)\n",
        "df_final['aspartate'] = df_final['aspartate'].fillna(22.5)\n",
        "df_final['bilirubin'] = df_final['bilirubin'].fillna(0.6)\n",
        "\n",
        "#Hematologic\n",
        "df_final['hemoglobin'] = df_final['hemoglobin'].fillna(18)\n",
        "df_final['iqr'] = df_final['iqr'].fillna(0.6)\n",
        "df_final['platelets'] = df_final['platelets'].fillna(275)\n",
        "df_final['PTT'] = df_final['PTT'].fillna(0.8)\n",
        "df_final['fibrinogen'] = df_final['fibrinogen'].fillna(300)\n",
        "\n",
        "#Bioquimica\n",
        "df_final['albumin'] = df_final['albumin'].fillna(4.35)\n",
        "df_final['chloride'] = df_final['chloride'].fillna(102.5)\n",
        "df_final['glucose'] = df_final['glucose'].fillna(125)\n",
        "df_final['sodium'] = df_final['sodium'].fillna(140)\n",
        "df_final['gcs total'] = df_final['gcs total'].fillna(15)\n",
        "df_final['potassium'] = df_final['potassium'].fillna(4.5)\n",
        "df_final['calcium'] = df_final['calcium'].fillna(9.6)\n",
        "df_final['phosphate'] = df_final['phosphate'].fillna(3.5)\n",
        "df_final['magnesium'] = df_final['magnesium'].fillna(2.1)\n",
        "\n",
        "\n",
        "#Diagnostico\n",
        "df_final['diagnostico'] = df_final['diagnostico'].fillna(0)\n",
        "\n",
        "#df_final.isna().sum()'''"
      ]
    }
  ],
  "metadata": {
    "colab": {
      "collapsed_sections": [
        "tXSBSX4yFPET",
        "GhkEuKDkFQ-E",
        "xJFGChZ3atSs",
        "grFU8-x7XWBC",
        "caO2oERrW1W8",
        "s-R3jIJickKs"
      ],
      "provenance": []
    },
    "kernelspec": {
      "display_name": "Python 3 (ipykernel)",
      "language": "python",
      "name": "python3"
    },
    "language_info": {
      "codemirror_mode": {
        "name": "ipython",
        "version": 3
      },
      "file_extension": ".py",
      "mimetype": "text/x-python",
      "name": "python",
      "nbconvert_exporter": "python",
      "pygments_lexer": "ipython3",
      "version": "3.10.12"
    }
  },
  "nbformat": 4,
  "nbformat_minor": 0
}
