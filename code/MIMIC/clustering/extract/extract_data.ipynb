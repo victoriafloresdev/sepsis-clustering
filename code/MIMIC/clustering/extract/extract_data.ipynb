{
 "cells": [
  {
   "cell_type": "markdown",
   "metadata": {},
   "source": [
    "### Bibliotecas"
   ]
  },
  {
   "cell_type": "code",
   "execution_count": 1,
   "metadata": {},
   "outputs": [],
   "source": [
    "import pandas as pd\n",
    "import matplotlib.pyplot as plt\n",
    "import numpy as np\n",
    "import seaborn as sns\n",
    "import gc\n",
    "from tqdm import tqdm"
   ]
  },
  {
   "cell_type": "code",
   "execution_count": 2,
   "metadata": {},
   "outputs": [],
   "source": [
    "itemids = [50817,51301,51144,51288,50889,50861,53084,50878,53088,50885,53089,51842,52024,51237,51675,51240,51002,51003,52642,50809,50931,52569,50983,52623,50811,51222,51640,50902,52535,50882,50813,52442,53154,52022,53138,50862,53085,220045,220210,227242,227243,223762,53134,51300,51704,52159,52647,51006,50825]"
   ]
  },
  {
   "cell_type": "code",
   "execution_count": 3,
   "metadata": {},
   "outputs": [],
   "source": [
    "BASES_HOSP = \"/scratch/haniel.botelho/physionet.org/files/mimiciv/2.2/hosp/\"\n",
    "BASES_ICU = \"/scratch/haniel.botelho/physionet.org/files/mimiciv/2.2/icu/\"\n",
    "patient = \"patients.csv\"\n",
    "admission = \"admissions.csv\"\n",
    "diagnostics = \"diagnoses_icd.csv\"\n",
    "icd_diagnostics = \"d_icd_diagnoses.csv\"\n",
    "lab = \"labevents.csv\"\n",
    "lab_items = \"d_labitems.csv\"\n",
    "chart_items = \"d_items.csv\"\n",
    "chart = \"chartevents.csv\"\n",
    "icu = \"icustays.csv\"\n",
    "id_dignoses = \"d_icd_diagnoses.csv\"\n",
    "\n",
    "url_patient = BASES_HOSP + patient\n",
    "url_admission = BASES_HOSP + admission\n",
    "url_diagnostics = BASES_HOSP + diagnostics\n",
    "url_icd_diagnostics = BASES_HOSP + icd_diagnostics\n",
    "url_lab = BASES_HOSP + lab\n",
    "url_lab_items = BASES_HOSP + lab_items\n",
    "url_chart_items = BASES_HOSP + chart_items\n",
    "url_chart = BASES_ICU + chart\n",
    "url_icu = BASES_ICU + icu\n",
    "url_id_dignoses = BASES_HOSP + id_dignoses"
   ]
  },
  {
   "cell_type": "code",
   "execution_count": 4,
   "metadata": {},
   "outputs": [],
   "source": [
    "def aggregate_events(df):\n",
    "    itemid_map = {\n",
    "        'Albumine': [52022, 53138, 50862, 53085],\n",
    "        'Lactate': [50813, 52442, 53154],\n",
    "        'Bicarbonate': [50813, 52442, 53154],\n",
    "        'Chloride': [50902, 52535],\n",
    "        'Hemoglobin': [50811, 51222, 51640],\n",
    "        'Sodium': [50983, 52623],\n",
    "        'Glucose': [50809, 50931, 52569],\n",
    "        'Troponin': [51002, 51003, 52642],\n",
    "        'Platelets': [51240,51704,52159],\n",
    "        'INR': [51237, 51675],\n",
    "        'Creatinine': [50813, 52442, 53154],\n",
    "        'Bun': [51842,52647,51006],\n",
    "        'Bilirubin': [50885, 53089],\n",
    "        'AST': [50878, 53088],\n",
    "        'ALT': [50861, 53084],\n",
    "        'C_reactive': [50889],\n",
    "        'ESR': [51288],\n",
    "        'Bands': [51144],\n",
    "        'WBC': [51301,53134,51300],\n",
    "        'Oxygen_saturation': [50817],\n",
    "        'Temperature': [223762],\n",
    "        'Systolic_pressure': [227242, 227243],\n",
    "        'Respiratory_rate': [220210],\n",
    "        'Heart_rate': [220045]\n",
    "    }\n",
    "    \n",
    "    for key, itemids in itemid_map.items():\n",
    "        new_col = df['itemid'].isin(itemids) * df[\"value\"]\n",
    "        new_col[new_col == \"\"] = np.NaN\n",
    "        new_col[new_col == \"___\"] = np.NaN\n",
    "        df[key] = new_col\n",
    "    return df\n"
   ]
  },
  {
   "cell_type": "markdown",
   "metadata": {},
   "source": [
    "### Base de dados"
   ]
  },
  {
   "cell_type": "markdown",
   "metadata": {},
   "source": [
    "#### Exames"
   ]
  },
  {
   "cell_type": "code",
   "execution_count": 5,
   "metadata": {},
   "outputs": [],
   "source": [
    "# Define the chunk size\n",
    "chunk_size = 10_000_000  # Adjust based on your memory capacity\n",
    "\n",
    "# Initialize an empty list to hold the filtered DataFrames\n",
    "filtered_chunks = []"
   ]
  },
  {
   "cell_type": "code",
   "execution_count": 6,
   "metadata": {},
   "outputs": [
    {
     "name": "stderr",
     "output_type": "stream",
     "text": [
      "32it [04:20,  8.13s/it]\n"
     ]
    }
   ],
   "source": [
    "# Iterate over the CSV file in chunks with a progress bar\n",
    "for chunk in tqdm(pd.read_csv(url_chart, chunksize=chunk_size)):\n",
    "    # Filter the chunk\n",
    "    filtered_chunk = chunk[chunk['itemid'].isin(itemids)][['subject_id', 'hadm_id', 'charttime', 'itemid', 'value']]\n",
    "    # Append the filtered chunk to the list\n",
    "    filtered_chunks.append(filtered_chunk)\n",
    "    # Free up memory\n",
    "    del chunk\n",
    "    gc.collect()"
   ]
  },
  {
   "cell_type": "code",
   "execution_count": 7,
   "metadata": {},
   "outputs": [
    {
     "data": {
      "text/html": [
       "<div>\n",
       "<style scoped>\n",
       "    .dataframe tbody tr th:only-of-type {\n",
       "        vertical-align: middle;\n",
       "    }\n",
       "\n",
       "    .dataframe tbody tr th {\n",
       "        vertical-align: top;\n",
       "    }\n",
       "\n",
       "    .dataframe thead th {\n",
       "        text-align: right;\n",
       "    }\n",
       "</style>\n",
       "<table border=\"1\" class=\"dataframe\">\n",
       "  <thead>\n",
       "    <tr style=\"text-align: right;\">\n",
       "      <th></th>\n",
       "      <th>subject_id</th>\n",
       "      <th>hadm_id</th>\n",
       "      <th>charttime</th>\n",
       "      <th>itemid</th>\n",
       "      <th>value</th>\n",
       "    </tr>\n",
       "  </thead>\n",
       "  <tbody>\n",
       "    <tr>\n",
       "      <th>0</th>\n",
       "      <td>10000032</td>\n",
       "      <td>29079034</td>\n",
       "      <td>2180-07-23 22:00:00</td>\n",
       "      <td>220045</td>\n",
       "      <td>94</td>\n",
       "    </tr>\n",
       "    <tr>\n",
       "      <th>1</th>\n",
       "      <td>10000032</td>\n",
       "      <td>29079034</td>\n",
       "      <td>2180-07-23 22:00:00</td>\n",
       "      <td>220210</td>\n",
       "      <td>20</td>\n",
       "    </tr>\n",
       "    <tr>\n",
       "      <th>2</th>\n",
       "      <td>10000032</td>\n",
       "      <td>29079034</td>\n",
       "      <td>2180-07-23 19:00:00</td>\n",
       "      <td>220045</td>\n",
       "      <td>97</td>\n",
       "    </tr>\n",
       "    <tr>\n",
       "      <th>3</th>\n",
       "      <td>10000032</td>\n",
       "      <td>29079034</td>\n",
       "      <td>2180-07-23 19:00:00</td>\n",
       "      <td>220210</td>\n",
       "      <td>16</td>\n",
       "    </tr>\n",
       "    <tr>\n",
       "      <th>4</th>\n",
       "      <td>10000032</td>\n",
       "      <td>29079034</td>\n",
       "      <td>2180-07-23 20:00:00</td>\n",
       "      <td>220045</td>\n",
       "      <td>100</td>\n",
       "    </tr>\n",
       "    <tr>\n",
       "      <th>...</th>\n",
       "      <td>...</td>\n",
       "      <td>...</td>\n",
       "      <td>...</td>\n",
       "      <td>...</td>\n",
       "      <td>...</td>\n",
       "    </tr>\n",
       "    <tr>\n",
       "      <th>13121402</th>\n",
       "      <td>19999987</td>\n",
       "      <td>23865745</td>\n",
       "      <td>2145-11-04 19:00:00</td>\n",
       "      <td>220210</td>\n",
       "      <td>20</td>\n",
       "    </tr>\n",
       "    <tr>\n",
       "      <th>13121403</th>\n",
       "      <td>19999987</td>\n",
       "      <td>23865745</td>\n",
       "      <td>2145-11-04 20:00:00</td>\n",
       "      <td>220045</td>\n",
       "      <td>92</td>\n",
       "    </tr>\n",
       "    <tr>\n",
       "      <th>13121404</th>\n",
       "      <td>19999987</td>\n",
       "      <td>23865745</td>\n",
       "      <td>2145-11-04 20:00:00</td>\n",
       "      <td>220210</td>\n",
       "      <td>23</td>\n",
       "    </tr>\n",
       "    <tr>\n",
       "      <th>13121405</th>\n",
       "      <td>19999987</td>\n",
       "      <td>23865745</td>\n",
       "      <td>2145-11-04 21:00:00</td>\n",
       "      <td>220045</td>\n",
       "      <td>87</td>\n",
       "    </tr>\n",
       "    <tr>\n",
       "      <th>13121406</th>\n",
       "      <td>19999987</td>\n",
       "      <td>23865745</td>\n",
       "      <td>2145-11-04 21:00:00</td>\n",
       "      <td>220210</td>\n",
       "      <td>24</td>\n",
       "    </tr>\n",
       "  </tbody>\n",
       "</table>\n",
       "<p>13121407 rows × 5 columns</p>\n",
       "</div>"
      ],
      "text/plain": [
       "          subject_id   hadm_id            charttime  itemid value\n",
       "0           10000032  29079034  2180-07-23 22:00:00  220045    94\n",
       "1           10000032  29079034  2180-07-23 22:00:00  220210    20\n",
       "2           10000032  29079034  2180-07-23 19:00:00  220045    97\n",
       "3           10000032  29079034  2180-07-23 19:00:00  220210    16\n",
       "4           10000032  29079034  2180-07-23 20:00:00  220045   100\n",
       "...              ...       ...                  ...     ...   ...\n",
       "13121402    19999987  23865745  2145-11-04 19:00:00  220210    20\n",
       "13121403    19999987  23865745  2145-11-04 20:00:00  220045    92\n",
       "13121404    19999987  23865745  2145-11-04 20:00:00  220210    23\n",
       "13121405    19999987  23865745  2145-11-04 21:00:00  220045    87\n",
       "13121406    19999987  23865745  2145-11-04 21:00:00  220210    24\n",
       "\n",
       "[13121407 rows x 5 columns]"
      ]
     },
     "execution_count": 7,
     "metadata": {},
     "output_type": "execute_result"
    }
   ],
   "source": [
    "df_selected_chartvents = pd.concat(filtered_chunks, ignore_index=True)\n",
    "del filtered_chunks\n",
    "gc.collect()\n",
    "df_selected_chartvents"
   ]
  },
  {
   "cell_type": "code",
   "execution_count": 8,
   "metadata": {},
   "outputs": [
    {
     "name": "stderr",
     "output_type": "stream",
     "text": [
      "12it [02:06, 10.52s/it]\n"
     ]
    }
   ],
   "source": [
    "filtered_chunks = []\n",
    "for chunk in tqdm(pd.read_csv(url_lab, chunksize=chunk_size)):\n",
    "    # Filter the chunk\n",
    "    filtered_chunk = chunk[chunk['itemid'].isin(itemids)][['subject_id', 'hadm_id', 'charttime', 'itemid', 'value']]\n",
    "    # Append the filtered chunk to the list\n",
    "    filtered_chunks.append(filtered_chunk)\n",
    "    # Free up memory\n",
    "    del chunk\n",
    "    gc.collect()"
   ]
  },
  {
   "cell_type": "code",
   "execution_count": 9,
   "metadata": {},
   "outputs": [
    {
     "data": {
      "text/html": [
       "<div>\n",
       "<style scoped>\n",
       "    .dataframe tbody tr th:only-of-type {\n",
       "        vertical-align: middle;\n",
       "    }\n",
       "\n",
       "    .dataframe tbody tr th {\n",
       "        vertical-align: top;\n",
       "    }\n",
       "\n",
       "    .dataframe thead th {\n",
       "        text-align: right;\n",
       "    }\n",
       "</style>\n",
       "<table border=\"1\" class=\"dataframe\">\n",
       "  <thead>\n",
       "    <tr style=\"text-align: right;\">\n",
       "      <th></th>\n",
       "      <th>subject_id</th>\n",
       "      <th>hadm_id</th>\n",
       "      <th>charttime</th>\n",
       "      <th>itemid</th>\n",
       "      <th>value</th>\n",
       "    </tr>\n",
       "  </thead>\n",
       "  <tbody>\n",
       "    <tr>\n",
       "      <th>0</th>\n",
       "      <td>10000032</td>\n",
       "      <td>NaN</td>\n",
       "      <td>2180-03-23 11:51:00</td>\n",
       "      <td>51237</td>\n",
       "      <td>1.4</td>\n",
       "    </tr>\n",
       "    <tr>\n",
       "      <th>1</th>\n",
       "      <td>10000032</td>\n",
       "      <td>NaN</td>\n",
       "      <td>2180-03-23 11:51:00</td>\n",
       "      <td>50861</td>\n",
       "      <td>102</td>\n",
       "    </tr>\n",
       "    <tr>\n",
       "      <th>2</th>\n",
       "      <td>10000032</td>\n",
       "      <td>NaN</td>\n",
       "      <td>2180-03-23 11:51:00</td>\n",
       "      <td>50862</td>\n",
       "      <td>3.3</td>\n",
       "    </tr>\n",
       "    <tr>\n",
       "      <th>3</th>\n",
       "      <td>10000032</td>\n",
       "      <td>NaN</td>\n",
       "      <td>2180-03-23 11:51:00</td>\n",
       "      <td>50878</td>\n",
       "      <td>143</td>\n",
       "    </tr>\n",
       "    <tr>\n",
       "      <th>4</th>\n",
       "      <td>10000032</td>\n",
       "      <td>NaN</td>\n",
       "      <td>2180-03-23 11:51:00</td>\n",
       "      <td>50882</td>\n",
       "      <td>27</td>\n",
       "    </tr>\n",
       "    <tr>\n",
       "      <th>...</th>\n",
       "      <td>...</td>\n",
       "      <td>...</td>\n",
       "      <td>...</td>\n",
       "      <td>...</td>\n",
       "      <td>...</td>\n",
       "    </tr>\n",
       "    <tr>\n",
       "      <th>29370921</th>\n",
       "      <td>19999987</td>\n",
       "      <td>23865745.0</td>\n",
       "      <td>2145-11-09 05:30:00</td>\n",
       "      <td>50983</td>\n",
       "      <td>144</td>\n",
       "    </tr>\n",
       "    <tr>\n",
       "      <th>29370922</th>\n",
       "      <td>19999987</td>\n",
       "      <td>23865745.0</td>\n",
       "      <td>2145-11-09 05:30:00</td>\n",
       "      <td>51006</td>\n",
       "      <td>8</td>\n",
       "    </tr>\n",
       "    <tr>\n",
       "      <th>29370923</th>\n",
       "      <td>19999987</td>\n",
       "      <td>23865745.0</td>\n",
       "      <td>2145-11-09 05:30:00</td>\n",
       "      <td>51222</td>\n",
       "      <td>12.3</td>\n",
       "    </tr>\n",
       "    <tr>\n",
       "      <th>29370924</th>\n",
       "      <td>19999987</td>\n",
       "      <td>23865745.0</td>\n",
       "      <td>2145-11-09 05:30:00</td>\n",
       "      <td>51301</td>\n",
       "      <td>5.7</td>\n",
       "    </tr>\n",
       "    <tr>\n",
       "      <th>29370925</th>\n",
       "      <td>19999987</td>\n",
       "      <td>NaN</td>\n",
       "      <td>2146-02-07 11:13:00</td>\n",
       "      <td>51006</td>\n",
       "      <td>14</td>\n",
       "    </tr>\n",
       "  </tbody>\n",
       "</table>\n",
       "<p>29370926 rows × 5 columns</p>\n",
       "</div>"
      ],
      "text/plain": [
       "          subject_id     hadm_id            charttime  itemid value\n",
       "0           10000032         NaN  2180-03-23 11:51:00   51237   1.4\n",
       "1           10000032         NaN  2180-03-23 11:51:00   50861   102\n",
       "2           10000032         NaN  2180-03-23 11:51:00   50862   3.3\n",
       "3           10000032         NaN  2180-03-23 11:51:00   50878   143\n",
       "4           10000032         NaN  2180-03-23 11:51:00   50882    27\n",
       "...              ...         ...                  ...     ...   ...\n",
       "29370921    19999987  23865745.0  2145-11-09 05:30:00   50983   144\n",
       "29370922    19999987  23865745.0  2145-11-09 05:30:00   51006     8\n",
       "29370923    19999987  23865745.0  2145-11-09 05:30:00   51222  12.3\n",
       "29370924    19999987  23865745.0  2145-11-09 05:30:00   51301   5.7\n",
       "29370925    19999987         NaN  2146-02-07 11:13:00   51006    14\n",
       "\n",
       "[29370926 rows x 5 columns]"
      ]
     },
     "execution_count": 9,
     "metadata": {},
     "output_type": "execute_result"
    }
   ],
   "source": [
    "df_selected_labevents = pd.concat(filtered_chunks, ignore_index=True)\n",
    "del filtered_chunks\n",
    "gc.collect()\n",
    "df_selected_labevents"
   ]
  },
  {
   "cell_type": "code",
   "execution_count": 10,
   "metadata": {},
   "outputs": [],
   "source": [
    "df_exams = pd.concat([df_selected_chartvents,df_selected_labevents],ignore_index=True)"
   ]
  },
  {
   "cell_type": "code",
   "execution_count": 11,
   "metadata": {},
   "outputs": [
    {
     "data": {
      "text/plain": [
       "0"
      ]
     },
     "execution_count": 11,
     "metadata": {},
     "output_type": "execute_result"
    }
   ],
   "source": [
    "del df_selected_chartvents\n",
    "del df_selected_labevents\n",
    "gc.collect()"
   ]
  },
  {
   "cell_type": "code",
   "execution_count": 13,
   "metadata": {},
   "outputs": [],
   "source": [
    "df_exams.to_csv('exams.csv',index = False)"
   ]
  },
  {
   "cell_type": "markdown",
   "metadata": {},
   "source": [
    "#### Diagnósticos"
   ]
  },
  {
   "cell_type": "code",
   "execution_count": 14,
   "metadata": {},
   "outputs": [
    {
     "data": {
      "text/plain": [
       "299"
      ]
     },
     "execution_count": 14,
     "metadata": {},
     "output_type": "execute_result"
    }
   ],
   "source": [
    "df_diagnostics = pd.read_csv(url_diagnostics)\n",
    "df_id = pd.read_csv(url_id_dignoses)\n",
    "df_diagnostics = pd.merge(df_diagnostics, df_id,how = \"inner\",on = [\"icd_code\",\"icd_version\"])\n",
    "del df_id\n",
    "gc.collect()"
   ]
  },
  {
   "cell_type": "code",
   "execution_count": 15,
   "metadata": {},
   "outputs": [],
   "source": [
    "df_diagnostics['sepsis'] = df_diagnostics['long_title'].str.contains(\"sepsis\") | df_diagnostics['long_title'].str.contains(\"Sepsis\")\n"
   ]
  },
  {
   "cell_type": "code",
   "execution_count": 16,
   "metadata": {},
   "outputs": [],
   "source": [
    "df_diagnostics.to_csv('diagnostics.csv',index = False)"
   ]
  }
 ],
 "metadata": {
  "kernelspec": {
   "display_name": "base",
   "language": "python",
   "name": "python3"
  },
  "language_info": {
   "codemirror_mode": {
    "name": "ipython",
    "version": 3
   },
   "file_extension": ".py",
   "mimetype": "text/x-python",
   "name": "python",
   "nbconvert_exporter": "python",
   "pygments_lexer": "ipython3",
   "version": "3.12.0"
  }
 },
 "nbformat": 4,
 "nbformat_minor": 2
}
